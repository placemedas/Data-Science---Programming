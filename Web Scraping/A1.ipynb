{
 "cells": [
  {
   "cell_type": "markdown",
   "metadata": {},
   "source": [
    "# Assignment 1: Web Scraping"
   ]
  },
  {
   "cell_type": "markdown",
   "metadata": {},
   "source": [
    "## Objective"
   ]
  },
  {
   "cell_type": "markdown",
   "metadata": {},
   "source": [
    "Data scientists often need to crawl data from websites and turn the crawled data (HTML pages) to structured data (tables). Thus, web scraping is an essential skill that every data scientist should master. In this assignment, you will learn the followings:\n",
    "\n",
    "\n",
    "* How to download HTML pages from a website?\n",
    "* How to extract relevant content from an HTML page? \n",
    "\n",
    "Furthermore, you will gain a deeper understanding of the data science lifecycle.\n",
    "\n",
    "**Requirements:**\n",
    "\n",
    "1. Please use [pandas.DataFrame](http://pandas.pydata.org/pandas-docs/stable/generated/pandas.DataFrame.html) rather than spark.DataFrame to manipulate data.\n",
    "\n",
    "2. Please use [BeautifulSoup](https://www.crummy.com/software/BeautifulSoup/) rather than [lxml](http://lxml.de/) to parse an HTML page and extract data from the page.\n",
    "\n",
    "3. Please follow python code style (https://www.python.org/dev/peps/pep-0008/). If TA finds your code hard to read, you will lose points. This requirement will stay for the whole semester."
   ]
  },
  {
   "cell_type": "markdown",
   "metadata": {},
   "source": [
    "## Preliminary"
   ]
  },
  {
   "cell_type": "markdown",
   "metadata": {},
   "source": [
    "If this is your first time to write a web scraper, you need to learn some basic knowledge of this topic. I found that this is a good resource: [Tutorial: Web Scraping and BeautifulSoup](https://www.dataquest.io/blog/web-scraping-beautifulsoup/). \n",
    "\n",
    "Please let me know if you find a better resource. I'll share it with the other students."
   ]
  },
  {
   "cell_type": "markdown",
   "metadata": {},
   "source": [
    "## Overview"
   ]
  },
  {
   "cell_type": "markdown",
   "metadata": {},
   "source": [
    "Imagine you are a data scientist working at SFU. Your job is to extract insights from SFU data to answer questions. \n",
    "\n",
    "In this assignment, you will do two tasks. Please recall the high-level data science lifecycle below. I suggest that when doing this assignment, please remind yourself of what data you collected and what questions you tried to answer.\n",
    "\n",
    "\n",
    "<img src=\"lifecycle.png\" width=\"500\">\n",
    "<center><h4>Figure 1. Data Science Lifecycle</h4></center>"
   ]
  },
  {
   "cell_type": "markdown",
   "metadata": {},
   "source": [
    "## Task 1: SFU CS Faculty Members"
   ]
  },
  {
   "cell_type": "markdown",
   "metadata": {},
   "source": [
    "Sometimes you don't know what questions to ask. No worries. Start collecting data first. \n",
    "\n",
    "In Task 1, your job is to write a web scraper to extract the faculty information from this page: [https://www.sfu.ca/computing/people/faculty.html](https://www.sfu.ca/computing/people/faculty.html).\n",
    "\n",
    "\n"
   ]
  },
  {
   "cell_type": "markdown",
   "metadata": {},
   "source": [
    "### (a) Crawl Web Page"
   ]
  },
  {
   "cell_type": "markdown",
   "metadata": {},
   "source": [
    "A web page is essentially a file stored in a remote machine (called web server). Please write code to download the HTML page and save it as a text file (\"csfaculty.html\")."
   ]
  },
  {
   "cell_type": "code",
   "execution_count": 7,
   "metadata": {},
   "outputs": [
    {
     "data": {
      "text/plain": [
       "('csfaculty.html', <http.client.HTTPMessage at 0x7fd094535cc0>)"
      ]
     },
     "execution_count": 7,
     "metadata": {},
     "output_type": "execute_result"
    }
   ],
   "source": [
    "import urllib.request\n",
    "urllib.request.urlretrieve (\"https://www.sfu.ca/computing/people/faculty.html.\", \"csfaculty.html\")"
   ]
  },
  {
   "cell_type": "markdown",
   "metadata": {},
   "source": [
    "### (b) Extract Structured Data"
   ]
  },
  {
   "cell_type": "markdown",
   "metadata": {},
   "source": [
    "Please write code to extract relevant content (name, rank, area, profile, homepage) from \"csfaculty.html\" and save them as a CSV file (like [faculty_table.csv](./faculty_table.csv)). "
   ]
  },
  {
   "cell_type": "code",
   "execution_count": 8,
   "metadata": {},
   "outputs": [],
   "source": [
    "from bs4 import BeautifulSoup\n",
    "import pandas as pd\n",
    "import re\n",
    "\n",
    "#Defining Regular Expressions\n",
    "area_regex = re.compile('Area:(.*)')\n",
    "prof_regex = re.compile('^/computing.*')\n",
    "sfu_home = 'http://www.sfu.ca'\n",
    "\n",
    "#To decode name and rank information\n",
    "def fetch_namerank(elem):\n",
    "    if elem.h4 is not None:\n",
    "        h4elem = elem.h4.text\n",
    "        namerank = h4elem.split(\",\")\n",
    "        nam = namerank[0].title()\n",
    "        cleanrank = namerank[1].split(\"\\n\")\n",
    "        ran = cleanrank[0].strip().title()\n",
    "    return nam,ran\n",
    "\n",
    "#To decode area information using regex match with p text\n",
    "def fetch_area(peach):\n",
    "    area_re = re.search(area_regex, peach.p.text)\n",
    "    if area_re is None:\n",
    "        area_re = re.search(area_regex, peach.text)        \n",
    "    area_f = area_re.group(1).strip()\n",
    "    return area_f\n",
    "\n",
    "#Using Regex to check partial links. Some profiles are provided with full links\n",
    "def partial_link_check(link):\n",
    "    if re.search(prof_regex, link):\n",
    "        full_link = sfu_home + link\n",
    "    else:\n",
    "        full_link = link\n",
    "    return full_link\n",
    "\n",
    "#Profile Homepage extraction\n",
    "def prof_homepage(pelem):\n",
    "    prof = ''\n",
    "    home = ''\n",
    "    # Searching for a tags with href\n",
    "    ahref = pelem.find_all('a',href=True)\n",
    "    if len(ahref) >= 1:\n",
    "        prof = str(partial_link_check(ahref[0].get('href')))\n",
    "        if len(ahref) >= 2:\n",
    "            home = str(partial_link_check(ahref[1].get('href')))\n",
    "    return prof,home\n",
    "\n",
    "def main(file):\n",
    "    #Opening and Reading the file\n",
    "    file = open(file,'r')\n",
    "    content = file.read()\n",
    "\n",
    "    #Creation of pandas dataframe to create output results\n",
    "    df_faculty = pd.DataFrame(columns=['name','rank','area','profile','homepage'])\n",
    "\n",
    "    # Parsing the HTML file\n",
    "    html_soup = BeautifulSoup(content, 'html.parser')\n",
    "\n",
    "    #Extracting only div with class attribute text\n",
    "    faculty_container = html_soup.find_all('div', class_ = \"parsys_column cq-colctrl-lt0 people faculty-list\")\n",
    "\n",
    "    #Processing of each element\n",
    "    for parent in faculty_container:    \n",
    "        child = parent.find_all('div', class_ = \"text\")\n",
    "        for each in child:\n",
    "            # Name and Rank information\n",
    "            name,rank = fetch_namerank(each)\n",
    "            \n",
    "            #Area information\n",
    "            area = fetch_area(each)\n",
    "            \n",
    "            #Profile and homepage information fetched from p tag\n",
    "            ptag = each.find_all('p')\n",
    "            profile = ''\n",
    "            homepage = ''\n",
    "            # All the profile information are present in first 3 records. Hence the check\n",
    "            if len(ptag) > 1:\n",
    "                p = ptag[1]\n",
    "                profile,homepage = prof_homepage(p)\n",
    "                if profile == '':\n",
    "                    p = ptag[2]\n",
    "                    profile,homepage = prof_homepage(p)\n",
    "            else:\n",
    "                p = ptag[0]\n",
    "                profile,homepage = prof_homepage(p)    \n",
    "                \n",
    "            # Appending to pandas dataframe\n",
    "            df_faculty = df_faculty.append({'name':name,'rank':rank,'area':area,'profile':profile,'homepage':homepage}, ignore_index=True)\n",
    "\n",
    "    #Writing to csv        \n",
    "    df_faculty.to_csv('faculty_table.csv',index=False)\n",
    "\n",
    "if __name__ == '__main__':\n",
    "    filename = 'csfaculty.html'\n",
    "    main(filename)"
   ]
  },
  {
   "cell_type": "markdown",
   "metadata": {},
   "source": [
    "### (c) Interesting Finding"
   ]
  },
  {
   "cell_type": "markdown",
   "metadata": {},
   "source": [
    "Note that you don't need to do anything for Task 1(c). The purpose of this part is to give you some sense about how to leverage exploratory data analysis (EDA) to come up with interesting questions about the data. EDA is an important topic in data science; you will  learn it soon from this course. \n",
    "\n",
    "\n",
    "First, please install [dataprep](http://dataprep.ai).\n",
    "Then, run the cell below. \n",
    "It shows a bar chart for every column. What intersting findings can you get from these visualizations? "
   ]
  },
  {
   "cell_type": "code",
   "execution_count": 9,
   "metadata": {
    "scrolled": true
   },
   "outputs": [
    {
     "data": {
      "text/html": [
       "\n",
       "\n",
       "\n",
       "\n",
       "\n",
       "\n",
       "  <div class=\"bk-root\" id=\"61334bb5-331d-43e3-8d5c-0b1b35934fbe\" data-root-id=\"1637\"></div>\n"
      ]
     },
     "metadata": {},
     "output_type": "display_data"
    },
    {
     "data": {
      "application/javascript": [
       "(function(root) {\n",
       "  function embed_document(root) {\n",
       "    \n",
       "  var docs_json = {\"dd2eef94-5826-4cd4-97ba-f75e865dc3b1\":{\"roots\":{\"references\":[{\"attributes\":{\"children\":[[{\"id\":\"1447\",\"subtype\":\"Figure\",\"type\":\"Plot\"},0,0],[{\"id\":\"1478\",\"subtype\":\"Figure\",\"type\":\"Plot\"},0,1],[{\"id\":\"1509\",\"subtype\":\"Figure\",\"type\":\"Plot\"},0,2],[{\"id\":\"1540\",\"subtype\":\"Figure\",\"type\":\"Plot\"},1,0],[{\"id\":\"1571\",\"subtype\":\"Figure\",\"type\":\"Plot\"},1,1]]},\"id\":\"1637\",\"type\":\"GridBox\"},{\"attributes\":{\"text\":\"area\",\"text_font_size\":{\"value\":\"10pt\"}},\"id\":\"1510\",\"type\":\"Title\"},{\"attributes\":{\"axis_label\":\"Top 10 of 64 profile\",\"axis_label_standoff\":0,\"formatter\":{\"id\":\"1569\",\"type\":\"FuncTickFormatter\"},\"major_label_orientation\":1.0471975511965976,\"major_label_text_font_size\":{\"value\":\"9pt\"},\"minor_tick_line_color\":{\"value\":null},\"ticker\":{\"id\":\"1552\",\"type\":\"CategoricalTicker\"}},\"id\":\"1551\",\"type\":\"CategoricalAxis\"},{\"attributes\":{\"active_drag\":\"auto\",\"active_inspect\":\"auto\",\"active_multi\":null,\"active_scroll\":\"auto\",\"active_tap\":\"auto\",\"tools\":[{\"id\":\"1467\",\"type\":\"HoverTool\"}]},\"id\":\"1468\",\"type\":\"Toolbar\"},{\"attributes\":{\"axis_label\":\"Count\",\"formatter\":{\"id\":\"1610\",\"type\":\"BasicTickFormatter\"},\"major_label_text_font_size\":{\"value\":\"0pt\"},\"major_tick_line_color\":{\"value\":null},\"minor_tick_line_color\":{\"value\":null},\"ticker\":{\"id\":\"1494\",\"type\":\"BasicTicker\"}},\"id\":\"1493\",\"type\":\"LinearAxis\"},{\"attributes\":{\"below\":[{\"id\":\"1551\",\"type\":\"CategoricalAxis\"}],\"center\":[{\"id\":\"1554\",\"type\":\"Grid\"},{\"id\":\"1559\",\"type\":\"Grid\"}],\"left\":[{\"id\":\"1555\",\"type\":\"LinearAxis\"}],\"plot_height\":300,\"plot_width\":324,\"renderers\":[{\"id\":\"1567\",\"type\":\"GlyphRenderer\"}],\"title\":{\"id\":\"1541\",\"type\":\"Title\"},\"toolbar\":{\"id\":\"1561\",\"type\":\"Toolbar\"},\"toolbar_location\":null,\"x_range\":{\"id\":\"1543\",\"type\":\"FactorRange\"},\"x_scale\":{\"id\":\"1547\",\"type\":\"CategoricalScale\"},\"y_range\":{\"id\":\"1545\",\"type\":\"DataRange1d\"},\"y_scale\":{\"id\":\"1549\",\"type\":\"LinearScale\"}},\"id\":\"1540\",\"subtype\":\"Figure\",\"type\":\"Plot\"},{\"attributes\":{\"callback\":null,\"factors\":[\"Professor\",\"Assistant Professor\",\"Associate Professor\",\"Senior Lecturer\",\"Lecturer\",\"University Lecturer\",\"Assistant Professor Of Professional Practice\"]},\"id\":\"1481\",\"type\":\"FactorRange\"},{\"attributes\":{},\"id\":\"1487\",\"type\":\"LinearScale\"},{\"attributes\":{},\"id\":\"1613\",\"type\":\"UnionRenderers\"},{\"attributes\":{\"bottom\":{\"value\":0.01},\"fill_color\":{\"value\":\"#1f77b4\"},\"line_color\":{\"value\":\"#1f77b4\"},\"top\":{\"field\":\"cnt\"},\"width\":{\"value\":0.9},\"x\":{\"field\":\"col\"}},\"id\":\"1503\",\"type\":\"VBar\"},{\"attributes\":{\"active_drag\":\"auto\",\"active_inspect\":\"auto\",\"active_multi\":null,\"active_scroll\":\"auto\",\"active_tap\":\"auto\",\"tools\":[{\"id\":\"1498\",\"type\":\"HoverTool\"}]},\"id\":\"1499\",\"type\":\"Toolbar\"},{\"attributes\":{},\"id\":\"1627\",\"type\":\"UnionRenderers\"},{\"attributes\":{\"callback\":null,\"data\":{\"cnt\":[1,1,1,1,1,1,1,1,1,1],\"col\":[\"http://www.sfu.ca/computing/people/faculty/ArrvindhShriraman.html\",\"http://www.sfu.ca/computing/people/faculty/EugeniaTernovska.html\",\"http://www.sfu.ca/computing/people/faculty/JosephPeters.html\",\"http://www.sfu.ca/computing/people/faculty/NickSumner.html\",\"http://www.sfu.ca/computing/people/faculty/QianpingGu.html\",\"http://www.sfu.ca/computing/people/faculty/RameshKrishnamurti.html\",\"http://www.sfu.ca/computing/people/faculty/andreibulatov.html\",\"http://www.sfu.ca/computing/people/faculty/angelchang.html\",\"http://www.sfu.ca/computing/people/faculty/angelicalim.html\",\"http://www.sfu.ca/computing/people/faculty/annelavergne.html\"],\"index\":[0,1,2,3,4,5,6,7,8,9],\"pct\":{\"__ndarray__\":\"AAAAAAAA+T8AAAAAAAD5PwAAAAAAAPk/AAAAAAAA+T8AAAAAAAD5PwAAAAAAAPk/AAAAAAAA+T8AAAAAAAD5PwAAAAAAAPk/AAAAAAAA+T8=\",\"dtype\":\"float64\",\"shape\":[10]}},\"selected\":{\"id\":\"1628\",\"type\":\"Selection\"},\"selection_policy\":{\"id\":\"1627\",\"type\":\"UnionRenderers\"}},\"id\":\"1563\",\"type\":\"ColumnDataSource\"},{\"attributes\":{},\"id\":\"1494\",\"type\":\"BasicTicker\"},{\"attributes\":{\"formatter\":{\"id\":\"1507\",\"type\":\"FuncTickFormatter\"},\"major_label_orientation\":1.0471975511965976,\"major_label_text_font_size\":{\"value\":\"9pt\"},\"minor_tick_line_color\":{\"value\":null},\"ticker\":{\"id\":\"1490\",\"type\":\"CategoricalTicker\"}},\"id\":\"1489\",\"type\":\"CategoricalAxis\"},{\"attributes\":{\"grid_line_color\":null,\"ticker\":{\"id\":\"1552\",\"type\":\"CategoricalTicker\"}},\"id\":\"1554\",\"type\":\"Grid\"},{\"attributes\":{\"bottom\":{\"value\":0.01},\"fill_alpha\":{\"value\":0.1},\"fill_color\":{\"value\":\"#1f77b4\"},\"line_alpha\":{\"value\":0.1},\"line_color\":{\"value\":\"#1f77b4\"},\"top\":{\"field\":\"cnt\"},\"width\":{\"value\":0.9},\"x\":{\"field\":\"col\"}},\"id\":\"1504\",\"type\":\"VBar\"},{\"attributes\":{\"callback\":null,\"tooltips\":[[\"name\",\"@col\"],[\"Count\",\"@cnt\"],[\"Percent\",\"@pct{0.2f}%\"]]},\"id\":\"1467\",\"type\":\"HoverTool\"},{\"attributes\":{},\"id\":\"1547\",\"type\":\"CategoricalScale\"},{\"attributes\":{},\"id\":\"1556\",\"type\":\"BasicTicker\"},{\"attributes\":{\"code\":\"\\n            if (tick.length > 15) return tick.substring(0, 15-2) + '...';\\n            else return tick;\\n        \"},\"id\":\"1507\",\"type\":\"FuncTickFormatter\"},{\"attributes\":{},\"id\":\"1549\",\"type\":\"LinearScale\"},{\"attributes\":{\"callback\":null,\"factors\":[\"http://www.sfu.ca/computing/people/faculty/ArrvindhShriraman.html\",\"http://www.sfu.ca/computing/people/faculty/EugeniaTernovska.html\",\"http://www.sfu.ca/computing/people/faculty/JosephPeters.html\",\"http://www.sfu.ca/computing/people/faculty/NickSumner.html\",\"http://www.sfu.ca/computing/people/faculty/QianpingGu.html\",\"http://www.sfu.ca/computing/people/faculty/RameshKrishnamurti.html\",\"http://www.sfu.ca/computing/people/faculty/andreibulatov.html\",\"http://www.sfu.ca/computing/people/faculty/angelchang.html\",\"http://www.sfu.ca/computing/people/faculty/angelicalim.html\",\"http://www.sfu.ca/computing/people/faculty/annelavergne.html\"]},\"id\":\"1543\",\"type\":\"FactorRange\"},{\"attributes\":{\"bottom\":{\"value\":0.01},\"fill_color\":{\"value\":\"#1f77b4\"},\"line_color\":{\"value\":\"#1f77b4\"},\"top\":{\"field\":\"cnt\"},\"width\":{\"value\":0.9},\"x\":{\"field\":\"col\"}},\"id\":\"1472\",\"type\":\"VBar\"},{\"attributes\":{\"code\":\"\\n            if (tick.length > 15) return tick.substring(0, 15-2) + '...';\\n            else return tick;\\n        \"},\"id\":\"1476\",\"type\":\"FuncTickFormatter\"},{\"attributes\":{},\"id\":\"1606\",\"type\":\"UnionRenderers\"},{\"attributes\":{},\"id\":\"1631\",\"type\":\"BasicTickFormatter\"},{\"attributes\":{\"text\":\"rank\",\"text_font_size\":{\"value\":\"10pt\"}},\"id\":\"1479\",\"type\":\"Title\"},{\"attributes\":{},\"id\":\"1485\",\"type\":\"CategoricalScale\"},{\"attributes\":{\"data_source\":{\"id\":\"1470\",\"type\":\"ColumnDataSource\"},\"glyph\":{\"id\":\"1472\",\"type\":\"VBar\"},\"hover_glyph\":null,\"muted_glyph\":null,\"nonselection_glyph\":{\"id\":\"1473\",\"type\":\"VBar\"},\"selection_glyph\":null,\"view\":{\"id\":\"1475\",\"type\":\"CDSView\"}},\"id\":\"1474\",\"type\":\"GlyphRenderer\"},{\"attributes\":{\"callback\":null,\"data\":{\"cnt\":[29,12,9,8,3,2,1],\"col\":[\"Professor\",\"Assistant Professor\",\"Associate Professor\",\"Senior Lecturer\",\"Lecturer\",\"University Lecturer\",\"Assistant Professor Of Professional Practice\"],\"index\":[0,1,2,3,4,5,6],\"pct\":{\"__ndarray__\":\"AAAAAACoRkAAAAAAAMAyQAAAAAAAICxAAAAAAAAAKUAAAAAAAMASQAAAAAAAAAlAAAAAAAAA+T8=\",\"dtype\":\"float64\",\"shape\":[7]}},\"selected\":{\"id\":\"1614\",\"type\":\"Selection\"},\"selection_policy\":{\"id\":\"1613\",\"type\":\"UnionRenderers\"}},\"id\":\"1501\",\"type\":\"ColumnDataSource\"},{\"attributes\":{},\"id\":\"1552\",\"type\":\"CategoricalTicker\"},{\"attributes\":{\"callback\":null},\"id\":\"1545\",\"type\":\"DataRange1d\"},{\"attributes\":{\"below\":[{\"id\":\"1458\",\"type\":\"CategoricalAxis\"}],\"center\":[{\"id\":\"1461\",\"type\":\"Grid\"},{\"id\":\"1466\",\"type\":\"Grid\"}],\"left\":[{\"id\":\"1462\",\"type\":\"LinearAxis\"}],\"plot_height\":300,\"plot_width\":324,\"renderers\":[{\"id\":\"1474\",\"type\":\"GlyphRenderer\"}],\"title\":{\"id\":\"1448\",\"type\":\"Title\"},\"toolbar\":{\"id\":\"1468\",\"type\":\"Toolbar\"},\"toolbar_location\":null,\"x_range\":{\"id\":\"1450\",\"type\":\"FactorRange\"},\"x_scale\":{\"id\":\"1454\",\"type\":\"CategoricalScale\"},\"y_range\":{\"id\":\"1452\",\"type\":\"DataRange1d\"},\"y_scale\":{\"id\":\"1456\",\"type\":\"LinearScale\"}},\"id\":\"1447\",\"subtype\":\"Figure\",\"type\":\"Plot\"},{\"attributes\":{},\"id\":\"1635\",\"type\":\"Selection\"},{\"attributes\":{\"data_source\":{\"id\":\"1501\",\"type\":\"ColumnDataSource\"},\"glyph\":{\"id\":\"1503\",\"type\":\"VBar\"},\"hover_glyph\":null,\"muted_glyph\":null,\"nonselection_glyph\":{\"id\":\"1504\",\"type\":\"VBar\"},\"selection_glyph\":null,\"view\":{\"id\":\"1506\",\"type\":\"CDSView\"}},\"id\":\"1505\",\"type\":\"GlyphRenderer\"},{\"attributes\":{\"axis_label\":\"Count\",\"formatter\":{\"id\":\"1624\",\"type\":\"BasicTickFormatter\"},\"major_label_text_font_size\":{\"value\":\"0pt\"},\"major_tick_line_color\":{\"value\":null},\"minor_tick_line_color\":{\"value\":null},\"ticker\":{\"id\":\"1556\",\"type\":\"BasicTicker\"}},\"id\":\"1555\",\"type\":\"LinearAxis\"},{\"attributes\":{},\"id\":\"1603\",\"type\":\"BasicTickFormatter\"},{\"attributes\":{\"code\":\"\\n            if (tick.length > 15) return tick.substring(0, 15-2) + '...';\\n            else return tick;\\n        \"},\"id\":\"1538\",\"type\":\"FuncTickFormatter\"},{\"attributes\":{\"active_drag\":\"auto\",\"active_inspect\":\"auto\",\"active_multi\":null,\"active_scroll\":\"auto\",\"active_tap\":\"auto\",\"tools\":[{\"id\":\"1560\",\"type\":\"HoverTool\"}]},\"id\":\"1561\",\"type\":\"Toolbar\"},{\"attributes\":{\"text\":\"profile\",\"text_font_size\":{\"value\":\"10pt\"}},\"id\":\"1541\",\"type\":\"Title\"},{\"attributes\":{\"bottom\":{\"value\":0.01},\"fill_color\":{\"value\":\"#1f77b4\"},\"line_color\":{\"value\":\"#1f77b4\"},\"top\":{\"field\":\"cnt\"},\"width\":{\"value\":0.9},\"x\":{\"field\":\"col\"}},\"id\":\"1565\",\"type\":\"VBar\"},{\"attributes\":{},\"id\":\"1621\",\"type\":\"Selection\"},{\"attributes\":{},\"id\":\"1617\",\"type\":\"BasicTickFormatter\"},{\"attributes\":{\"below\":[{\"id\":\"1520\",\"type\":\"CategoricalAxis\"}],\"center\":[{\"id\":\"1523\",\"type\":\"Grid\"},{\"id\":\"1528\",\"type\":\"Grid\"}],\"left\":[{\"id\":\"1524\",\"type\":\"LinearAxis\"}],\"plot_height\":300,\"plot_width\":324,\"renderers\":[{\"id\":\"1536\",\"type\":\"GlyphRenderer\"}],\"title\":{\"id\":\"1510\",\"type\":\"Title\"},\"toolbar\":{\"id\":\"1530\",\"type\":\"Toolbar\"},\"toolbar_location\":null,\"x_range\":{\"id\":\"1512\",\"type\":\"FactorRange\"},\"x_scale\":{\"id\":\"1516\",\"type\":\"CategoricalScale\"},\"y_range\":{\"id\":\"1514\",\"type\":\"DataRange1d\"},\"y_scale\":{\"id\":\"1518\",\"type\":\"LinearScale\"}},\"id\":\"1509\",\"subtype\":\"Figure\",\"type\":\"Plot\"},{\"attributes\":{\"dimension\":1,\"grid_line_color\":null,\"ticker\":{\"id\":\"1556\",\"type\":\"BasicTicker\"}},\"id\":\"1559\",\"type\":\"Grid\"},{\"attributes\":{\"bottom\":{\"value\":0.01},\"fill_alpha\":{\"value\":0.1},\"fill_color\":{\"value\":\"#1f77b4\"},\"line_alpha\":{\"value\":0.1},\"line_color\":{\"value\":\"#1f77b4\"},\"top\":{\"field\":\"cnt\"},\"width\":{\"value\":0.9},\"x\":{\"field\":\"col\"}},\"id\":\"1473\",\"type\":\"VBar\"},{\"attributes\":{\"source\":{\"id\":\"1501\",\"type\":\"ColumnDataSource\"}},\"id\":\"1506\",\"type\":\"CDSView\"},{\"attributes\":{\"callback\":null,\"tooltips\":[[\"profile\",\"@col\"],[\"Count\",\"@cnt\"],[\"Percent\",\"@pct{0.2f}%\"]]},\"id\":\"1560\",\"type\":\"HoverTool\"},{\"attributes\":{},\"id\":\"1634\",\"type\":\"UnionRenderers\"},{\"attributes\":{\"callback\":null,\"tooltips\":[[\"rank\",\"@col\"],[\"Count\",\"@cnt\"],[\"Percent\",\"@pct{0.2f}%\"]]},\"id\":\"1498\",\"type\":\"HoverTool\"},{\"attributes\":{\"source\":{\"id\":\"1470\",\"type\":\"ColumnDataSource\"}},\"id\":\"1475\",\"type\":\"CDSView\"},{\"attributes\":{},\"id\":\"1628\",\"type\":\"Selection\"},{\"attributes\":{\"callback\":null},\"id\":\"1483\",\"type\":\"DataRange1d\"},{\"attributes\":{\"dimension\":1,\"grid_line_color\":null,\"ticker\":{\"id\":\"1494\",\"type\":\"BasicTicker\"}},\"id\":\"1497\",\"type\":\"Grid\"},{\"attributes\":{\"grid_line_color\":null,\"ticker\":{\"id\":\"1490\",\"type\":\"CategoricalTicker\"}},\"id\":\"1492\",\"type\":\"Grid\"},{\"attributes\":{},\"id\":\"1620\",\"type\":\"UnionRenderers\"},{\"attributes\":{},\"id\":\"1624\",\"type\":\"BasicTickFormatter\"},{\"attributes\":{},\"id\":\"1490\",\"type\":\"CategoricalTicker\"},{\"attributes\":{\"below\":[{\"id\":\"1489\",\"type\":\"CategoricalAxis\"}],\"center\":[{\"id\":\"1492\",\"type\":\"Grid\"},{\"id\":\"1497\",\"type\":\"Grid\"}],\"left\":[{\"id\":\"1493\",\"type\":\"LinearAxis\"}],\"plot_height\":300,\"plot_width\":324,\"renderers\":[{\"id\":\"1505\",\"type\":\"GlyphRenderer\"}],\"title\":{\"id\":\"1479\",\"type\":\"Title\"},\"toolbar\":{\"id\":\"1499\",\"type\":\"Toolbar\"},\"toolbar_location\":null,\"x_range\":{\"id\":\"1481\",\"type\":\"FactorRange\"},\"x_scale\":{\"id\":\"1485\",\"type\":\"CategoricalScale\"},\"y_range\":{\"id\":\"1483\",\"type\":\"DataRange1d\"},\"y_scale\":{\"id\":\"1487\",\"type\":\"LinearScale\"}},\"id\":\"1478\",\"subtype\":\"Figure\",\"type\":\"Plot\"},{\"attributes\":{\"dimension\":1,\"grid_line_color\":null,\"ticker\":{\"id\":\"1463\",\"type\":\"BasicTicker\"}},\"id\":\"1466\",\"type\":\"Grid\"},{\"attributes\":{\"callback\":null},\"id\":\"1452\",\"type\":\"DataRange1d\"},{\"attributes\":{},\"id\":\"1607\",\"type\":\"Selection\"},{\"attributes\":{\"callback\":null,\"factors\":[\"Andrei Bulatov\",\"Angel Chang\",\"Angelica Lim\",\"Anne Lavergne\",\"Anoop Sarkar\",\"Arrvindh Shriraman\",\"Binay Bhattacharya\",\"Bobby Chan\",\"Brad Bart\",\"Brian Fraser\"]},\"id\":\"1450\",\"type\":\"FactorRange\"},{\"attributes\":{\"callback\":null,\"factors\":[\"Instruction\",\"Databases and Data Mining\",\"Robotics and Autonomous Systems\",\"Artificial Intelligence, Robotics, Multi-Agent/Robot Systems, Machine Learning\",\"Automated debugging, debugging tools, concurrency & parallelism, program analysis & transformation\",\"Bioinformatics, Evolutionary Computation, Computational Intelligence, Visualization\",\"Combinatorial Optimization and Approximation Algorithms\",\"Computational Biology\",\"Computational Biology and Machine Learning\",\"Computational Color Vision\"]},\"id\":\"1512\",\"type\":\"FactorRange\"},{\"attributes\":{\"grid_line_color\":null,\"ticker\":{\"id\":\"1583\",\"type\":\"CategoricalTicker\"}},\"id\":\"1585\",\"type\":\"Grid\"},{\"attributes\":{\"axis_label\":\"Top 10 of 53 area\",\"axis_label_standoff\":0,\"formatter\":{\"id\":\"1538\",\"type\":\"FuncTickFormatter\"},\"major_label_orientation\":1.0471975511965976,\"major_label_text_font_size\":{\"value\":\"9pt\"},\"minor_tick_line_color\":{\"value\":null},\"ticker\":{\"id\":\"1521\",\"type\":\"CategoricalTicker\"}},\"id\":\"1520\",\"type\":\"CategoricalAxis\"},{\"attributes\":{\"axis_label\":\"Count\",\"formatter\":{\"id\":\"1603\",\"type\":\"BasicTickFormatter\"},\"major_label_text_font_size\":{\"value\":\"0pt\"},\"major_tick_line_color\":{\"value\":null},\"minor_tick_line_color\":{\"value\":null},\"ticker\":{\"id\":\"1463\",\"type\":\"BasicTicker\"}},\"id\":\"1462\",\"type\":\"LinearAxis\"},{\"attributes\":{\"data_source\":{\"id\":\"1594\",\"type\":\"ColumnDataSource\"},\"glyph\":{\"id\":\"1596\",\"type\":\"VBar\"},\"hover_glyph\":null,\"muted_glyph\":null,\"nonselection_glyph\":{\"id\":\"1597\",\"type\":\"VBar\"},\"selection_glyph\":null,\"view\":{\"id\":\"1599\",\"type\":\"CDSView\"}},\"id\":\"1598\",\"type\":\"GlyphRenderer\"},{\"attributes\":{},\"id\":\"1610\",\"type\":\"BasicTickFormatter\"},{\"attributes\":{},\"id\":\"1516\",\"type\":\"CategoricalScale\"},{\"attributes\":{\"callback\":null,\"tooltips\":[[\"homepage\",\"@col\"],[\"Count\",\"@cnt\"],[\"Percent\",\"@pct{0.2f}%\"]]},\"id\":\"1591\",\"type\":\"HoverTool\"},{\"attributes\":{\"active_drag\":\"auto\",\"active_inspect\":\"auto\",\"active_multi\":null,\"active_scroll\":\"auto\",\"active_tap\":\"auto\",\"tools\":[{\"id\":\"1591\",\"type\":\"HoverTool\"}]},\"id\":\"1592\",\"type\":\"Toolbar\"},{\"attributes\":{\"source\":{\"id\":\"1532\",\"type\":\"ColumnDataSource\"}},\"id\":\"1537\",\"type\":\"CDSView\"},{\"attributes\":{\"grid_line_color\":null,\"ticker\":{\"id\":\"1459\",\"type\":\"CategoricalTicker\"}},\"id\":\"1461\",\"type\":\"Grid\"},{\"attributes\":{\"bottom\":{\"value\":0.01},\"fill_alpha\":{\"value\":0.1},\"fill_color\":{\"value\":\"#1f77b4\"},\"line_alpha\":{\"value\":0.1},\"line_color\":{\"value\":\"#1f77b4\"},\"top\":{\"field\":\"cnt\"},\"width\":{\"value\":0.9},\"x\":{\"field\":\"col\"}},\"id\":\"1566\",\"type\":\"VBar\"},{\"attributes\":{\"dimension\":1,\"grid_line_color\":null,\"ticker\":{\"id\":\"1587\",\"type\":\"BasicTicker\"}},\"id\":\"1590\",\"type\":\"Grid\"},{\"attributes\":{},\"id\":\"1587\",\"type\":\"BasicTicker\"},{\"attributes\":{\"callback\":null},\"id\":\"1576\",\"type\":\"DataRange1d\"},{\"attributes\":{\"axis_label\":\"Top 10 of 64 name\",\"axis_label_standoff\":0,\"formatter\":{\"id\":\"1476\",\"type\":\"FuncTickFormatter\"},\"major_label_orientation\":1.0471975511965976,\"major_label_text_font_size\":{\"value\":\"9pt\"},\"minor_tick_line_color\":{\"value\":null},\"ticker\":{\"id\":\"1459\",\"type\":\"CategoricalTicker\"}},\"id\":\"1458\",\"type\":\"CategoricalAxis\"},{\"attributes\":{\"code\":\"\\n            if (tick.length > 15) return tick.substring(0, 15-2) + '...';\\n            else return tick;\\n        \"},\"id\":\"1600\",\"type\":\"FuncTickFormatter\"},{\"attributes\":{},\"id\":\"1525\",\"type\":\"BasicTicker\"},{\"attributes\":{},\"id\":\"1580\",\"type\":\"LinearScale\"},{\"attributes\":{},\"id\":\"1518\",\"type\":\"LinearScale\"},{\"attributes\":{},\"id\":\"1456\",\"type\":\"LinearScale\"},{\"attributes\":{},\"id\":\"1454\",\"type\":\"CategoricalScale\"},{\"attributes\":{\"active_drag\":\"auto\",\"active_inspect\":\"auto\",\"active_multi\":null,\"active_scroll\":\"auto\",\"active_tap\":\"auto\",\"tools\":[{\"id\":\"1529\",\"type\":\"HoverTool\"}]},\"id\":\"1530\",\"type\":\"Toolbar\"},{\"attributes\":{\"callback\":null,\"data\":{\"cnt\":[10,2,2,1,1,1,1,1,1,1],\"col\":[\"Instruction\",\"Databases and Data Mining\",\"Robotics and Autonomous Systems\",\"Artificial Intelligence, Robotics, Multi-Agent/Robot Systems, Machine Learning\",\"Automated debugging, debugging tools, concurrency & parallelism, program analysis & transformation\",\"Bioinformatics, Evolutionary Computation, Computational Intelligence, Visualization\",\"Combinatorial Optimization and Approximation Algorithms\",\"Computational Biology\",\"Computational Biology and Machine Learning\",\"Computational Color Vision\"],\"index\":[0,1,2,3,4,5,6,7,8,9],\"pct\":{\"__ndarray__\":\"AAAAAABAL0AAAAAAAAAJQAAAAAAAAAlAAAAAAAAA+T8AAAAAAAD5PwAAAAAAAPk/AAAAAAAA+T8AAAAAAAD5PwAAAAAAAPk/AAAAAAAA+T8=\",\"dtype\":\"float64\",\"shape\":[10]}},\"selected\":{\"id\":\"1621\",\"type\":\"Selection\"},\"selection_policy\":{\"id\":\"1620\",\"type\":\"UnionRenderers\"}},\"id\":\"1532\",\"type\":\"ColumnDataSource\"},{\"attributes\":{\"bottom\":{\"value\":0.01},\"fill_alpha\":{\"value\":0.1},\"fill_color\":{\"value\":\"#1f77b4\"},\"line_alpha\":{\"value\":0.1},\"line_color\":{\"value\":\"#1f77b4\"},\"top\":{\"field\":\"cnt\"},\"width\":{\"value\":0.9},\"x\":{\"field\":\"col\"}},\"id\":\"1597\",\"type\":\"VBar\"},{\"attributes\":{\"source\":{\"id\":\"1563\",\"type\":\"ColumnDataSource\"}},\"id\":\"1568\",\"type\":\"CDSView\"},{\"attributes\":{\"text\":\"name\",\"text_font_size\":{\"value\":\"10pt\"}},\"id\":\"1448\",\"type\":\"Title\"},{\"attributes\":{\"callback\":null},\"id\":\"1514\",\"type\":\"DataRange1d\"},{\"attributes\":{\"axis_label\":\"Top 10 of 52 homepage\",\"axis_label_standoff\":0,\"formatter\":{\"id\":\"1600\",\"type\":\"FuncTickFormatter\"},\"major_label_orientation\":1.0471975511965976,\"major_label_text_font_size\":{\"value\":\"9pt\"},\"minor_tick_line_color\":{\"value\":null},\"ticker\":{\"id\":\"1583\",\"type\":\"CategoricalTicker\"}},\"id\":\"1582\",\"type\":\"CategoricalAxis\"},{\"attributes\":{\"source\":{\"id\":\"1594\",\"type\":\"ColumnDataSource\"}},\"id\":\"1599\",\"type\":\"CDSView\"},{\"attributes\":{\"callback\":null,\"tooltips\":[[\"area\",\"@col\"],[\"Count\",\"@cnt\"],[\"Percent\",\"@pct{0.2f}%\"]]},\"id\":\"1529\",\"type\":\"HoverTool\"},{\"attributes\":{\"data_source\":{\"id\":\"1563\",\"type\":\"ColumnDataSource\"},\"glyph\":{\"id\":\"1565\",\"type\":\"VBar\"},\"hover_glyph\":null,\"muted_glyph\":null,\"nonselection_glyph\":{\"id\":\"1566\",\"type\":\"VBar\"},\"selection_glyph\":null,\"view\":{\"id\":\"1568\",\"type\":\"CDSView\"}},\"id\":\"1567\",\"type\":\"GlyphRenderer\"},{\"attributes\":{},\"id\":\"1463\",\"type\":\"BasicTicker\"},{\"attributes\":{\"callback\":null,\"data\":{\"cnt\":[13,1,1,1,1,1,1,1,1,1],\"col\":[\"nan\",\"http://hci.cs.sfu.ca/\",\"http://people.inf.ethz.ch/aksoyy/\",\"http://www.cs.sfu.ca/~abulatov/\",\"http://www.cs.sfu.ca/~alavergn/\",\"http://www.cs.sfu.ca/~anoop/\",\"http://www.cs.sfu.ca/~ashriram/\",\"http://www.cs.sfu.ca/~bbart/\",\"http://www.cs.sfu.ca/~bfraser/\",\"http://www.cs.sfu.ca/~binay/\"],\"index\":[0,1,2,3,4,5,6,7,8,9],\"pct\":{\"__ndarray__\":\"AAAAAABQNEAAAAAAAAD5PwAAAAAAAPk/AAAAAAAA+T8AAAAAAAD5PwAAAAAAAPk/AAAAAAAA+T8AAAAAAAD5PwAAAAAAAPk/AAAAAAAA+T8=\",\"dtype\":\"float64\",\"shape\":[10]}},\"selected\":{\"id\":\"1635\",\"type\":\"Selection\"},\"selection_policy\":{\"id\":\"1634\",\"type\":\"UnionRenderers\"}},\"id\":\"1594\",\"type\":\"ColumnDataSource\"},{\"attributes\":{\"axis_label\":\"Count\",\"formatter\":{\"id\":\"1631\",\"type\":\"BasicTickFormatter\"},\"major_label_text_font_size\":{\"value\":\"0pt\"},\"major_tick_line_color\":{\"value\":null},\"minor_tick_line_color\":{\"value\":null},\"ticker\":{\"id\":\"1587\",\"type\":\"BasicTicker\"}},\"id\":\"1586\",\"type\":\"LinearAxis\"},{\"attributes\":{},\"id\":\"1459\",\"type\":\"CategoricalTicker\"},{\"attributes\":{\"callback\":null,\"data\":{\"cnt\":[1,1,1,1,1,1,1,1,1,1],\"col\":[\"Andrei Bulatov\",\"Angel Chang\",\"Angelica Lim\",\"Anne Lavergne\",\"Anoop Sarkar\",\"Arrvindh Shriraman\",\"Binay Bhattacharya\",\"Bobby Chan\",\"Brad Bart\",\"Brian Fraser\"],\"index\":[0,1,2,3,4,5,6,7,8,9],\"pct\":{\"__ndarray__\":\"AAAAAAAA+T8AAAAAAAD5PwAAAAAAAPk/AAAAAAAA+T8AAAAAAAD5PwAAAAAAAPk/AAAAAAAA+T8AAAAAAAD5PwAAAAAAAPk/AAAAAAAA+T8=\",\"dtype\":\"float64\",\"shape\":[10]}},\"selected\":{\"id\":\"1607\",\"type\":\"Selection\"},\"selection_policy\":{\"id\":\"1606\",\"type\":\"UnionRenderers\"}},\"id\":\"1470\",\"type\":\"ColumnDataSource\"},{\"attributes\":{},\"id\":\"1578\",\"type\":\"CategoricalScale\"},{\"attributes\":{\"bottom\":{\"value\":0.01},\"fill_alpha\":{\"value\":0.1},\"fill_color\":{\"value\":\"#1f77b4\"},\"line_alpha\":{\"value\":0.1},\"line_color\":{\"value\":\"#1f77b4\"},\"top\":{\"field\":\"cnt\"},\"width\":{\"value\":0.9},\"x\":{\"field\":\"col\"}},\"id\":\"1535\",\"type\":\"VBar\"},{\"attributes\":{\"code\":\"\\n            if (tick.length > 15) return tick.substring(0, 15-2) + '...';\\n            else return tick;\\n        \"},\"id\":\"1569\",\"type\":\"FuncTickFormatter\"},{\"attributes\":{},\"id\":\"1614\",\"type\":\"Selection\"},{\"attributes\":{\"grid_line_color\":null,\"ticker\":{\"id\":\"1521\",\"type\":\"CategoricalTicker\"}},\"id\":\"1523\",\"type\":\"Grid\"},{\"attributes\":{\"axis_label\":\"Count\",\"formatter\":{\"id\":\"1617\",\"type\":\"BasicTickFormatter\"},\"major_label_text_font_size\":{\"value\":\"0pt\"},\"major_tick_line_color\":{\"value\":null},\"minor_tick_line_color\":{\"value\":null},\"ticker\":{\"id\":\"1525\",\"type\":\"BasicTicker\"}},\"id\":\"1524\",\"type\":\"LinearAxis\"},{\"attributes\":{\"bottom\":{\"value\":0.01},\"fill_color\":{\"value\":\"#1f77b4\"},\"line_color\":{\"value\":\"#1f77b4\"},\"top\":{\"field\":\"cnt\"},\"width\":{\"value\":0.9},\"x\":{\"field\":\"col\"}},\"id\":\"1534\",\"type\":\"VBar\"},{\"attributes\":{\"bottom\":{\"value\":0.01},\"fill_color\":{\"value\":\"#1f77b4\"},\"line_color\":{\"value\":\"#1f77b4\"},\"top\":{\"field\":\"cnt\"},\"width\":{\"value\":0.9},\"x\":{\"field\":\"col\"}},\"id\":\"1596\",\"type\":\"VBar\"},{\"attributes\":{\"below\":[{\"id\":\"1582\",\"type\":\"CategoricalAxis\"}],\"center\":[{\"id\":\"1585\",\"type\":\"Grid\"},{\"id\":\"1590\",\"type\":\"Grid\"}],\"left\":[{\"id\":\"1586\",\"type\":\"LinearAxis\"}],\"plot_height\":300,\"plot_width\":324,\"renderers\":[{\"id\":\"1598\",\"type\":\"GlyphRenderer\"}],\"title\":{\"id\":\"1572\",\"type\":\"Title\"},\"toolbar\":{\"id\":\"1592\",\"type\":\"Toolbar\"},\"toolbar_location\":null,\"x_range\":{\"id\":\"1574\",\"type\":\"FactorRange\"},\"x_scale\":{\"id\":\"1578\",\"type\":\"CategoricalScale\"},\"y_range\":{\"id\":\"1576\",\"type\":\"DataRange1d\"},\"y_scale\":{\"id\":\"1580\",\"type\":\"LinearScale\"}},\"id\":\"1571\",\"subtype\":\"Figure\",\"type\":\"Plot\"},{\"attributes\":{\"dimension\":1,\"grid_line_color\":null,\"ticker\":{\"id\":\"1525\",\"type\":\"BasicTicker\"}},\"id\":\"1528\",\"type\":\"Grid\"},{\"attributes\":{\"callback\":null,\"factors\":[\"nan\",\"http://hci.cs.sfu.ca/\",\"http://people.inf.ethz.ch/aksoyy/\",\"http://www.cs.sfu.ca/~abulatov/\",\"http://www.cs.sfu.ca/~alavergn/\",\"http://www.cs.sfu.ca/~anoop/\",\"http://www.cs.sfu.ca/~ashriram/\",\"http://www.cs.sfu.ca/~bbart/\",\"http://www.cs.sfu.ca/~bfraser/\",\"http://www.cs.sfu.ca/~binay/\"]},\"id\":\"1574\",\"type\":\"FactorRange\"},{\"attributes\":{},\"id\":\"1521\",\"type\":\"CategoricalTicker\"},{\"attributes\":{\"data_source\":{\"id\":\"1532\",\"type\":\"ColumnDataSource\"},\"glyph\":{\"id\":\"1534\",\"type\":\"VBar\"},\"hover_glyph\":null,\"muted_glyph\":null,\"nonselection_glyph\":{\"id\":\"1535\",\"type\":\"VBar\"},\"selection_glyph\":null,\"view\":{\"id\":\"1537\",\"type\":\"CDSView\"}},\"id\":\"1536\",\"type\":\"GlyphRenderer\"},{\"attributes\":{\"text\":\"homepage\",\"text_font_size\":{\"value\":\"10pt\"}},\"id\":\"1572\",\"type\":\"Title\"},{\"attributes\":{},\"id\":\"1583\",\"type\":\"CategoricalTicker\"}],\"root_ids\":[\"1637\"]},\"title\":\"Bokeh Application\",\"version\":\"1.4.0\"}};\n",
       "  var render_items = [{\"docid\":\"dd2eef94-5826-4cd4-97ba-f75e865dc3b1\",\"roots\":{\"1637\":\"61334bb5-331d-43e3-8d5c-0b1b35934fbe\"}}];\n",
       "  root.Bokeh.embed.embed_items_notebook(docs_json, render_items);\n",
       "\n",
       "  }\n",
       "  if (root.Bokeh !== undefined) {\n",
       "    embed_document(root);\n",
       "  } else {\n",
       "    var attempts = 0;\n",
       "    var timer = setInterval(function(root) {\n",
       "      if (root.Bokeh !== undefined) {\n",
       "        clearInterval(timer);\n",
       "        embed_document(root);\n",
       "      } else {\n",
       "        attempts++;\n",
       "        if (attempts > 100) {\n",
       "          clearInterval(timer);\n",
       "          console.log(\"Bokeh: ERROR: Unable to run BokehJS code because BokehJS library is missing\");\n",
       "        }\n",
       "      }\n",
       "    }, 10, root)\n",
       "  }\n",
       "})(window);"
      ],
      "application/vnd.bokehjs_exec.v0+json": ""
     },
     "metadata": {
      "application/vnd.bokehjs_exec.v0+json": {
       "id": "1637"
      }
     },
     "output_type": "display_data"
    },
    {
     "data": {
      "text/html": [
       "<div style=\"display: table;\"><div style=\"display: table-row;\"><div style=\"display: table-cell;\"><b title=\"bokeh.models.layouts.GridBox\">GridBox</b>(</div><div style=\"display: table-cell;\">id&nbsp;=&nbsp;'1637', <span id=\"1888\" style=\"cursor: pointer;\">&hellip;)</span></div></div><div class=\"1887\" style=\"display: none;\"><div style=\"display: table-cell;\"></div><div style=\"display: table-cell;\">align&nbsp;=&nbsp;'start',</div></div><div class=\"1887\" style=\"display: none;\"><div style=\"display: table-cell;\"></div><div style=\"display: table-cell;\">aspect_ratio&nbsp;=&nbsp;None,</div></div><div class=\"1887\" style=\"display: none;\"><div style=\"display: table-cell;\"></div><div style=\"display: table-cell;\">background&nbsp;=&nbsp;None,</div></div><div class=\"1887\" style=\"display: none;\"><div style=\"display: table-cell;\"></div><div style=\"display: table-cell;\">children&nbsp;=&nbsp;[(Figure(id='1447', ...), 0, 0), (Figure(id='1478', ...), 0, 1), (Figure(id='1509', ...), 0, 2), (Figure(id='1540', ...), 1, 0), (Figure(id='1571', ...), 1, 1)],</div></div><div class=\"1887\" style=\"display: none;\"><div style=\"display: table-cell;\"></div><div style=\"display: table-cell;\">cols&nbsp;=&nbsp;'auto',</div></div><div class=\"1887\" style=\"display: none;\"><div style=\"display: table-cell;\"></div><div style=\"display: table-cell;\">css_classes&nbsp;=&nbsp;[],</div></div><div class=\"1887\" style=\"display: none;\"><div style=\"display: table-cell;\"></div><div style=\"display: table-cell;\">disabled&nbsp;=&nbsp;False,</div></div><div class=\"1887\" style=\"display: none;\"><div style=\"display: table-cell;\"></div><div style=\"display: table-cell;\">height&nbsp;=&nbsp;None,</div></div><div class=\"1887\" style=\"display: none;\"><div style=\"display: table-cell;\"></div><div style=\"display: table-cell;\">height_policy&nbsp;=&nbsp;'auto',</div></div><div class=\"1887\" style=\"display: none;\"><div style=\"display: table-cell;\"></div><div style=\"display: table-cell;\">js_event_callbacks&nbsp;=&nbsp;{},</div></div><div class=\"1887\" style=\"display: none;\"><div style=\"display: table-cell;\"></div><div style=\"display: table-cell;\">js_property_callbacks&nbsp;=&nbsp;{},</div></div><div class=\"1887\" style=\"display: none;\"><div style=\"display: table-cell;\"></div><div style=\"display: table-cell;\">margin&nbsp;=&nbsp;(0, 0, 0, 0),</div></div><div class=\"1887\" style=\"display: none;\"><div style=\"display: table-cell;\"></div><div style=\"display: table-cell;\">max_height&nbsp;=&nbsp;None,</div></div><div class=\"1887\" style=\"display: none;\"><div style=\"display: table-cell;\"></div><div style=\"display: table-cell;\">max_width&nbsp;=&nbsp;None,</div></div><div class=\"1887\" style=\"display: none;\"><div style=\"display: table-cell;\"></div><div style=\"display: table-cell;\">min_height&nbsp;=&nbsp;None,</div></div><div class=\"1887\" style=\"display: none;\"><div style=\"display: table-cell;\"></div><div style=\"display: table-cell;\">min_width&nbsp;=&nbsp;None,</div></div><div class=\"1887\" style=\"display: none;\"><div style=\"display: table-cell;\"></div><div style=\"display: table-cell;\">name&nbsp;=&nbsp;None,</div></div><div class=\"1887\" style=\"display: none;\"><div style=\"display: table-cell;\"></div><div style=\"display: table-cell;\">rows&nbsp;=&nbsp;'auto',</div></div><div class=\"1887\" style=\"display: none;\"><div style=\"display: table-cell;\"></div><div style=\"display: table-cell;\">sizing_mode&nbsp;=&nbsp;None,</div></div><div class=\"1887\" style=\"display: none;\"><div style=\"display: table-cell;\"></div><div style=\"display: table-cell;\">spacing&nbsp;=&nbsp;0,</div></div><div class=\"1887\" style=\"display: none;\"><div style=\"display: table-cell;\"></div><div style=\"display: table-cell;\">subscribed_events&nbsp;=&nbsp;[],</div></div><div class=\"1887\" style=\"display: none;\"><div style=\"display: table-cell;\"></div><div style=\"display: table-cell;\">tags&nbsp;=&nbsp;[],</div></div><div class=\"1887\" style=\"display: none;\"><div style=\"display: table-cell;\"></div><div style=\"display: table-cell;\">visible&nbsp;=&nbsp;True,</div></div><div class=\"1887\" style=\"display: none;\"><div style=\"display: table-cell;\"></div><div style=\"display: table-cell;\">width&nbsp;=&nbsp;None,</div></div><div class=\"1887\" style=\"display: none;\"><div style=\"display: table-cell;\"></div><div style=\"display: table-cell;\">width_policy&nbsp;=&nbsp;'auto')</div></div></div>\n",
       "<script>\n",
       "(function() {\n",
       "  var expanded = false;\n",
       "  var ellipsis = document.getElementById(\"1888\");\n",
       "  ellipsis.addEventListener(\"click\", function() {\n",
       "    var rows = document.getElementsByClassName(\"1887\");\n",
       "    for (var i = 0; i < rows.length; i++) {\n",
       "      var el = rows[i];\n",
       "      el.style.display = expanded ? \"none\" : \"table-row\";\n",
       "    }\n",
       "    ellipsis.innerHTML = expanded ? \"&hellip;)\" : \"&lsaquo;&lsaquo;&lsaquo;\";\n",
       "    expanded = !expanded;\n",
       "  });\n",
       "})();\n",
       "</script>\n"
      ],
      "text/plain": [
       "GridBox(id='1637', ...)"
      ]
     },
     "execution_count": 9,
     "metadata": {},
     "output_type": "execute_result"
    }
   ],
   "source": [
    "from dataprep.eda import plot\n",
    "import pandas as pd\n",
    "\n",
    "df = pd.read_csv(\"faculty_table.csv\")\n",
    "plot(df)"
   ]
  },
  {
   "cell_type": "markdown",
   "metadata": {},
   "source": [
    "Below are some examples:\n",
    "\n",
    "**Finding 1:** Professor# (29) is more than 3x larger than Associate Professor# (9). \n",
    "\n",
    "**Questions:** Why did it happen? Is it common in all CS schools in Canada? Will the gap go larger or smaller in five years? What actions can be taken to enlarge/shrink the gap?\n",
    "\n",
    "\n",
    "**Finding 2:** Homepage has 20.3% missing values. \n",
    "\n",
    "**Questions:** Why are there so many missing values? Is it because many faculty do not have their own homepages or do not add their homepages to the school page? What actions can be taken to avoid this to happen in the future? "
   ]
  },
  {
   "cell_type": "markdown",
   "metadata": {},
   "source": [
    "## Task 2: Age Follows Normal Distribution?"
   ]
  },
  {
   "cell_type": "markdown",
   "metadata": {},
   "source": [
    "In this task, you start with a question and then figure out what data to collect.\n",
    "\n",
    "The question that you are intersted in is `Does SFU CS faculty age follow a normal distribution?`\n",
    "\n",
    "To estimate the age of a faculty member, you can collect the year in which s/he graduates from a university (`gradyear`) and then estimate `age` using the following equation:\n",
    "\n",
    "$$age \\approx 2020+23 - gradyear$$\n",
    "\n",
    "For example, if one graduates from a university in 1990, then the age is estimated as 2020+23-1990 = 53. \n",
    "\n"
   ]
  },
  {
   "cell_type": "markdown",
   "metadata": {},
   "source": [
    "### (a) Crawl Web Page"
   ]
  },
  {
   "cell_type": "markdown",
   "metadata": {},
   "source": [
    "You notice that faculty profile pages contain graduation information. For example, you can see that Dr. Jiannan Wang graduated from Harbin Institute of Technology in 2008 at [http://www.sfu.ca/computing/people/faculty/jiannanwang.html](http://www.sfu.ca/computing/people/faculty/jiannanwang.html). \n",
    "\n",
    "\n",
    "Please write code to download the 64 profile pages and save each page as a text file. "
   ]
  },
  {
   "cell_type": "code",
   "execution_count": 10,
   "metadata": {},
   "outputs": [],
   "source": [
    "import requests\n",
    "import pandas as pd\n",
    "import os\n",
    "\n",
    "# Reading the file faculty_table.csv\n",
    "df_prof = pd.read_csv(\"faculty_table.csv\")\n",
    "\n",
    "#Looping through dataframe\n",
    "for idx in df_prof.index:\n",
    "    # Fetching name to store it along with path\n",
    "    name = df_prof['name'][idx]\n",
    "    # Taking the profile link for each name\n",
    "    profile = df_prof['profile'][idx]\n",
    "    # Setting the file naming conventions\n",
    "    pathname = './profpage/'+ str(idx) + '-' + name + '.txt'\n",
    "    #Making the directory with filename\n",
    "    os.makedirs(os.path.dirname(pathname), exist_ok=True)\n",
    "    #Perform request-reply for profile link\n",
    "    response = requests.get(profile)\n",
    "    #Open and store the reply data into the filename\n",
    "    f = open(pathname, 'w')\n",
    "    f.write(response.text)\n",
    "    f.close()"
   ]
  },
  {
   "cell_type": "markdown",
   "metadata": {},
   "source": [
    "### (b) Extract Structured Data"
   ]
  },
  {
   "cell_type": "markdown",
   "metadata": {},
   "source": [
    "Please write code to extract the earliest graduation year (e.g., 2008 for Dr. Jiannan Wang) from each profile page, and create a csv file like [faculty_grad_year.csv](./faculty_grad_year.csv). "
   ]
  },
  {
   "cell_type": "code",
   "execution_count": 11,
   "metadata": {},
   "outputs": [],
   "source": [
    "import pandas as pd\n",
    "import unicodedata\n",
    "import itertools\n",
    "\n",
    "# Function to extract graduation years alone and take the minimal year that shall be the earliest\n",
    "def fetch_grades(etag):\n",
    "    lst= []\n",
    "    yr = ''\n",
    "    if len(etag) > 0:\n",
    "        for tg in etag:\n",
    "            lst.append(str(tg.text))\n",
    "    tokens = [i.replace(\".\",\" \").split() for i in lst]\n",
    "    merged = list(itertools.chain.from_iterable(tokens))\n",
    "    if len(merged) > 0:\n",
    "        digits = [int(item) for item in merged if item.isdigit()]\n",
    "        if digits:\n",
    "            yr = min(digits)\n",
    "    return yr\n",
    "    \n",
    "\n",
    "# Main function to extract name and graduation year \n",
    "def get_grad_year():\n",
    "    \n",
    "    # Read the faculty_table file\n",
    "    df_prof = pd.read_csv(\"faculty_table.csv\")\n",
    "    \n",
    "    #Creation of pandas dataframe to create output results\n",
    "    df_gradyear = pd.DataFrame(columns=['name','gradyear'])\n",
    "    \n",
    "    #Loop through each profile page to collect information\n",
    "    for ids in df_prof.index:\n",
    "        name = df_prof['name'][ids]\n",
    "        profile = df_prof['profile'][ids]\n",
    "        pathname = './profpage/'+ str(ids) + '-' + name + '.txt'\n",
    "        profile_fil = open(pathname, 'r')\n",
    "        profile_det = profile_fil.read()\n",
    "        \n",
    "        # Parsing the HTML file\n",
    "        html_prof = BeautifulSoup(profile_det, 'html.parser')\n",
    "        \n",
    "        # To obtain names from profile page\n",
    "        title = html_prof.find_all('div', class_ = \"title section\")\n",
    "        for names in title:\n",
    "            final_name = names.h1.text\n",
    "        \n",
    "        # To obtain earliest graduate year\n",
    "        edu_parent = html_prof.find('h2', text='Education').parent\n",
    "        tagp = edu_parent.find_all(\"p\")\n",
    "        year = fetch_grades(tagp)\n",
    "        \n",
    "        if year == '':\n",
    "            tagl = edu_parent.find_all(\"ul\")\n",
    "            year = fetch_grades(tagl)\n",
    "        \n",
    "        # Loading the information into dataframe\n",
    "        df_gradyear = df_gradyear.append({'name':final_name,'gradyear':year},ignore_index=True)\n",
    "        \n",
    "    #Writing to csv        \n",
    "    df_gradyear.to_csv('faculty_grad_year.csv',index=True)\n",
    "\n",
    "\n",
    "# Function to extract earliest graduation year\n",
    "get_grad_year()"
   ]
  },
  {
   "cell_type": "markdown",
   "metadata": {},
   "source": [
    "### (c) Interesting Finding"
   ]
  },
  {
   "cell_type": "markdown",
   "metadata": {},
   "source": [
    "Similar to Task 1(c), you don't need to do anything here. Just look at different visualizations w.r.t. age and give yourself an answer to the question: `Does SFU CS faculty age follow a normal distribution?`"
   ]
  },
  {
   "cell_type": "code",
   "execution_count": 12,
   "metadata": {
    "scrolled": true
   },
   "outputs": [
    {
     "data": {
      "text/html": [
       "\n",
       "\n",
       "\n",
       "\n",
       "\n",
       "\n",
       "  <div class=\"bk-root\" id=\"8652bb75-78b1-48a5-b3e7-1e735aca9ea4\" data-root-id=\"2059\"></div>\n"
      ]
     },
     "metadata": {},
     "output_type": "display_data"
    },
    {
     "data": {
      "application/javascript": [
       "(function(root) {\n",
       "  function embed_document(root) {\n",
       "    \n",
       "  var docs_json = {\"69f6fccb-f1f1-4e1d-a4bc-8b03a78297dd\":{\"roots\":{\"references\":[{\"attributes\":{\"callback\":null,\"tabs\":[{\"id\":\"1921\",\"type\":\"Panel\"},{\"id\":\"1961\",\"type\":\"Panel\"},{\"id\":\"1996\",\"type\":\"Panel\"},{\"id\":\"2058\",\"type\":\"Panel\"}]},\"id\":\"2059\",\"type\":\"Tabs\"},{\"attributes\":{\"source\":{\"id\":\"1911\",\"type\":\"ColumnDataSource\"}},\"id\":\"1916\",\"type\":\"CDSView\"},{\"attributes\":{\"text\":\"age\",\"text_font_size\":{\"value\":\"10pt\"}},\"id\":\"1998\",\"type\":\"Title\"},{\"attributes\":{\"bottom\":{\"value\":0.01},\"fill_alpha\":{\"value\":0.1},\"fill_color\":{\"value\":\"#1f77b4\"},\"left\":{\"field\":\"left\"},\"line_alpha\":{\"value\":0.1},\"line_color\":{\"value\":\"#1f77b4\"},\"right\":{\"field\":\"right\"},\"top\":{\"field\":\"freq\"}},\"id\":\"1914\",\"type\":\"Quad\"},{\"attributes\":{\"below\":[{\"id\":\"1900\",\"type\":\"LinearAxis\"}],\"center\":[{\"id\":\"1904\",\"type\":\"Grid\"},{\"id\":\"1909\",\"type\":\"Grid\"}],\"left\":[{\"id\":\"1905\",\"type\":\"LinearAxis\"}],\"plot_height\":400,\"plot_width\":450,\"renderers\":[{\"id\":\"1915\",\"type\":\"GlyphRenderer\"}],\"title\":{\"id\":\"1890\",\"type\":\"Title\"},\"toolbar\":{\"id\":\"1910\",\"type\":\"Toolbar\"},\"toolbar_location\":null,\"x_range\":{\"id\":\"1892\",\"type\":\"DataRange1d\"},\"x_scale\":{\"id\":\"1896\",\"type\":\"LinearScale\"},\"y_range\":{\"id\":\"1894\",\"type\":\"DataRange1d\"},\"y_scale\":{\"id\":\"1898\",\"type\":\"LinearScale\"}},\"id\":\"1889\",\"subtype\":\"Figure\",\"type\":\"Plot\"},{\"attributes\":{\"callback\":null,\"data\":{\"x\":[18.504708504565215,79.36625923737027],\"y\":[18.504708504565215,79.36625923737027]},\"selected\":{\"id\":\"2155\",\"type\":\"Selection\"},\"selection_policy\":{\"id\":\"2154\",\"type\":\"UnionRenderers\"}},\"id\":\"1991\",\"type\":\"ColumnDataSource\"},{\"attributes\":{\"callback\":null,\"data\":{\"freq\":[5,7,5,7,9,10,5,6,4,4],\"index\":[0,1,2,3,4,5,6,7,8,9],\"intervals\":[\"[26.0,30.9)\",\"[30.9,35.8)\",\"[35.8,40.7)\",\"[40.7,45.6)\",\"[45.6,50.5)\",\"[50.5,55.4)\",\"[55.4,60.3)\",\"[60.3,65.2)\",\"[65.2,70.1)\",\"[70.1,75.0]\"],\"left\":{\"__ndarray__\":\"AAAAAAAAOkBmZmZmZuY+QGZmZmZm5kFAmpmZmZlZREDNzMzMzMxGQAAAAAAAQElANDMzMzOzS0BnZmZmZiZOQM3MzMzMTFBAZmZmZmaGUUA=\",\"dtype\":\"float64\",\"shape\":[10]},\"pct\":{\"__ndarray__\":\"AAAAAABAH0AAAAAAAOAlQAAAAAAAQB9AAAAAAADgJUAAAAAAACAsQAAAAAAAQC9AAAAAAABAH0AAAAAAAMAiQAAAAAAAABlAAAAAAAAAGUA=\",\"dtype\":\"float64\",\"shape\":[10]},\"right\":{\"__ndarray__\":\"ZmZmZmbmPkBmZmZmZuZBQJqZmZmZWURAzczMzMzMRkAAAAAAAEBJQDQzMzMzs0tAZ2ZmZmYmTkDNzMzMzExQQGZmZmZmhlFAAAAAAADAUkA=\",\"dtype\":\"float64\",\"shape\":[10]}},\"selected\":{\"id\":\"2147\",\"type\":\"Selection\"},\"selection_policy\":{\"id\":\"2146\",\"type\":\"UnionRenderers\"}},\"id\":\"1911\",\"type\":\"ColumnDataSource\"},{\"attributes\":{\"source\":{\"id\":\"1986\",\"type\":\"ColumnDataSource\"}},\"id\":\"1990\",\"type\":\"CDSView\"},{\"attributes\":{\"line_alpha\":{\"value\":0.1},\"line_color\":{\"value\":\"#1f77b4\"},\"x0\":{\"field\":\"x0\"},\"x1\":{\"field\":\"x1\"},\"y0\":{\"field\":\"lw\"},\"y1\":{\"field\":\"lw\"}},\"id\":\"2045\",\"type\":\"Segment\"},{\"attributes\":{\"fill_alpha\":{\"value\":0.1},\"fill_color\":{\"value\":\"#1f77b4\"},\"line_alpha\":{\"value\":0.1},\"line_color\":{\"value\":\"#1f77b4\"},\"size\":{\"units\":\"screen\",\"value\":3},\"x\":{\"field\":\"x\"},\"y\":{\"field\":\"y\"}},\"id\":\"1988\",\"type\":\"Circle\"},{\"attributes\":{\"axis_label\":\"Frequency\",\"formatter\":{\"id\":\"2133\",\"type\":\"BasicTickFormatter\"},\"major_label_text_font_size\":{\"value\":\"9pt\"},\"minor_tick_line_color\":{\"value\":null},\"ticker\":{\"id\":\"1906\",\"type\":\"BasicTicker\"}},\"id\":\"1905\",\"type\":\"LinearAxis\"},{\"attributes\":{\"callback\":null,\"factors\":[\"age\"]},\"id\":\"2000\",\"type\":\"FactorRange\"},{\"attributes\":{\"below\":[{\"id\":\"2008\",\"type\":\"CategoricalAxis\"}],\"center\":[{\"id\":\"2011\",\"type\":\"Grid\"},{\"id\":\"2016\",\"type\":\"Grid\"}],\"left\":[{\"id\":\"2012\",\"type\":\"LinearAxis\"}],\"plot_height\":400,\"plot_width\":450,\"renderers\":[{\"id\":\"2022\",\"type\":\"GlyphRenderer\"},{\"id\":\"2028\",\"type\":\"GlyphRenderer\"},{\"id\":\"2034\",\"type\":\"GlyphRenderer\"},{\"id\":\"2040\",\"type\":\"GlyphRenderer\"},{\"id\":\"2046\",\"type\":\"GlyphRenderer\"},{\"id\":\"2052\",\"type\":\"GlyphRenderer\"}],\"title\":{\"id\":\"1998\",\"type\":\"Title\"},\"toolbar\":{\"id\":\"2017\",\"type\":\"Toolbar\"},\"toolbar_location\":null,\"x_range\":{\"id\":\"2000\",\"type\":\"FactorRange\"},\"x_scale\":{\"id\":\"2004\",\"type\":\"CategoricalScale\"},\"y_range\":{\"id\":\"2002\",\"type\":\"DataRange1d\"},\"y_scale\":{\"id\":\"2006\",\"type\":\"LinearScale\"}},\"id\":\"1997\",\"subtype\":\"Figure\",\"type\":\"Plot\"},{\"attributes\":{\"fill_color\":{\"value\":\"#1f77b4\"},\"line_color\":{\"value\":\"#1f77b4\"},\"size\":{\"units\":\"screen\",\"value\":3},\"x\":{\"field\":\"x\"},\"y\":{\"field\":\"y\"}},\"id\":\"1987\",\"type\":\"Circle\"},{\"attributes\":{\"callback\":null,\"data\":{\"grp\":[\"age\"],\"index\":[0],\"lw\":[26.0],\"otlrs\":[[]],\"q1\":[38.25],\"q2\":[49.5],\"q3\":[59.0],\"uw\":[75.0],\"x\":[1],\"x0\":[0.19999999999999996],\"x1\":[0.8]},\"selected\":{\"id\":\"2157\",\"type\":\"Selection\"},\"selection_policy\":{\"id\":\"2156\",\"type\":\"UnionRenderers\"}},\"id\":\"2018\",\"type\":\"ColumnDataSource\"},{\"attributes\":{\"bottom\":{\"value\":0.01},\"fill_alpha\":{\"value\":0.5},\"fill_color\":{\"value\":\"#6baed6\"},\"left\":{\"field\":\"left\"},\"line_alpha\":{\"value\":0.5},\"line_color\":{\"value\":\"#1f77b4\"},\"right\":{\"field\":\"right\"},\"top\":{\"field\":\"freq\"}},\"id\":\"1913\",\"type\":\"Quad\"},{\"attributes\":{\"source\":{\"id\":\"1991\",\"type\":\"ColumnDataSource\"}},\"id\":\"1995\",\"type\":\"CDSView\"},{\"attributes\":{\"text\":\"age (3.1% missing)\",\"text_font_size\":{\"value\":\"10pt\"}},\"id\":\"1890\",\"type\":\"Title\"},{\"attributes\":{\"data_source\":{\"id\":\"1991\",\"type\":\"ColumnDataSource\"},\"glyph\":{\"id\":\"1992\",\"type\":\"Line\"},\"hover_glyph\":null,\"muted_glyph\":null,\"nonselection_glyph\":{\"id\":\"1993\",\"type\":\"Line\"},\"selection_glyph\":null,\"view\":{\"id\":\"1995\",\"type\":\"CDSView\"}},\"id\":\"1994\",\"type\":\"GlyphRenderer\"},{\"attributes\":{\"child\":{\"id\":\"1962\",\"subtype\":\"Figure\",\"type\":\"Plot\"},\"title\":\"QQ normal plot\"},\"id\":\"1996\",\"type\":\"Panel\"},{\"attributes\":{\"data_source\":{\"id\":\"1911\",\"type\":\"ColumnDataSource\"},\"glyph\":{\"id\":\"1913\",\"type\":\"Quad\"},\"hover_glyph\":null,\"muted_glyph\":null,\"nonselection_glyph\":{\"id\":\"1914\",\"type\":\"Quad\"},\"selection_glyph\":null,\"view\":{\"id\":\"1916\",\"type\":\"CDSView\"}},\"id\":\"1915\",\"type\":\"GlyphRenderer\"},{\"attributes\":{\"active_drag\":\"auto\",\"active_inspect\":\"auto\",\"active_multi\":null,\"active_scroll\":\"auto\",\"active_tap\":\"auto\",\"tools\":[{\"id\":\"1917\",\"type\":\"HoverTool\"}]},\"id\":\"1910\",\"type\":\"Toolbar\"},{\"attributes\":{\"line_alpha\":0.1,\"line_color\":\"#1f77b4\",\"x\":{\"field\":\"x\"},\"y\":{\"field\":\"y\"}},\"id\":\"1993\",\"type\":\"Line\"},{\"attributes\":{\"grid_line_color\":null,\"ticker\":{\"id\":\"2009\",\"type\":\"CategoricalTicker\"}},\"id\":\"2011\",\"type\":\"Grid\"},{\"attributes\":{},\"id\":\"1906\",\"type\":\"BasicTicker\"},{\"attributes\":{\"dimension\":1,\"grid_line_color\":null,\"ticker\":{\"id\":\"1906\",\"type\":\"BasicTicker\"}},\"id\":\"1909\",\"type\":\"Grid\"},{\"attributes\":{\"data_source\":{\"id\":\"1986\",\"type\":\"ColumnDataSource\"},\"glyph\":{\"id\":\"1987\",\"type\":\"Circle\"},\"hover_glyph\":null,\"muted_glyph\":null,\"nonselection_glyph\":{\"id\":\"1988\",\"type\":\"Circle\"},\"selection_glyph\":null,\"view\":{\"id\":\"1990\",\"type\":\"CDSView\"}},\"id\":\"1989\",\"type\":\"GlyphRenderer\"},{\"attributes\":{\"callback\":null,\"mode\":\"vline\",\"tooltips\":[[\"Bin\",\"@intervals\"],[\"Frequency\",\"@freq\"],[\"Percent\",\"@pct{0.2f}%\"]]},\"id\":\"1917\",\"type\":\"HoverTool\"},{\"attributes\":{\"line_color\":\"red\",\"x\":{\"field\":\"x\"},\"y\":{\"field\":\"y\"}},\"id\":\"1992\",\"type\":\"Line\"},{\"attributes\":{},\"id\":\"2013\",\"type\":\"BasicTicker\"},{\"attributes\":{\"callback\":null},\"id\":\"1894\",\"type\":\"DataRange1d\"},{\"attributes\":{\"child\":{\"id\":\"1889\",\"subtype\":\"Figure\",\"type\":\"Plot\"},\"title\":\"histogram\"},\"id\":\"1921\",\"type\":\"Panel\"},{\"attributes\":{\"axis_label\":null,\"formatter\":{\"id\":\"2056\",\"type\":\"FuncTickFormatter\"},\"major_label_orientation\":1.0471975511965976,\"major_label_text_font_size\":{\"value\":\"0pt\"},\"major_tick_line_color\":{\"value\":null},\"minor_tick_line_color\":{\"value\":null},\"ticker\":{\"id\":\"2009\",\"type\":\"CategoricalTicker\"}},\"id\":\"2008\",\"type\":\"CategoricalAxis\"},{\"attributes\":{},\"id\":\"2006\",\"type\":\"LinearScale\"},{\"attributes\":{\"active_drag\":\"auto\",\"active_inspect\":\"auto\",\"active_multi\":null,\"active_scroll\":\"auto\",\"active_tap\":\"auto\",\"tools\":[{\"id\":\"2054\",\"type\":\"HoverTool\"}]},\"id\":\"2017\",\"type\":\"Toolbar\"},{\"attributes\":{},\"id\":\"2009\",\"type\":\"CategoricalTicker\"},{\"attributes\":{\"dimension\":1,\"grid_line_color\":null,\"ticker\":{\"id\":\"2013\",\"type\":\"BasicTicker\"}},\"id\":\"2016\",\"type\":\"Grid\"},{\"attributes\":{},\"id\":\"2133\",\"type\":\"BasicTickFormatter\"},{\"attributes\":{\"axis_label\":\"age\",\"formatter\":{\"id\":\"2143\",\"type\":\"BasicTickFormatter\"},\"major_label_text_font_size\":{\"value\":\"9pt\"},\"minor_tick_line_color\":{\"value\":null},\"ticker\":{\"id\":\"2013\",\"type\":\"BasicTicker\"}},\"id\":\"2012\",\"type\":\"LinearAxis\"},{\"attributes\":{},\"id\":\"1896\",\"type\":\"LinearScale\"},{\"attributes\":{},\"id\":\"1969\",\"type\":\"LinearScale\"},{\"attributes\":{\"data_source\":{\"id\":\"2042\",\"type\":\"ColumnDataSource\"},\"glyph\":{\"id\":\"2044\",\"type\":\"Segment\"},\"hover_glyph\":null,\"muted_glyph\":null,\"nonselection_glyph\":{\"id\":\"2045\",\"type\":\"Segment\"},\"selection_glyph\":null,\"view\":{\"id\":\"2047\",\"type\":\"CDSView\"}},\"id\":\"2046\",\"type\":\"GlyphRenderer\"},{\"attributes\":{\"below\":[{\"id\":\"1933\",\"type\":\"LinearAxis\"}],\"center\":[{\"id\":\"1937\",\"type\":\"Grid\"},{\"id\":\"1942\",\"type\":\"Grid\"}],\"left\":[{\"id\":\"1938\",\"type\":\"LinearAxis\"}],\"plot_height\":400,\"plot_width\":450,\"renderers\":[{\"id\":\"1948\",\"type\":\"GlyphRenderer\"},{\"id\":\"1954\",\"type\":\"GlyphRenderer\"}],\"title\":{\"id\":\"1923\",\"type\":\"Title\"},\"toolbar\":{\"id\":\"1943\",\"type\":\"Toolbar\"},\"toolbar_location\":null,\"x_range\":{\"id\":\"1925\",\"type\":\"DataRange1d\"},\"x_scale\":{\"id\":\"1929\",\"type\":\"LinearScale\"},\"y_range\":{\"id\":\"1927\",\"type\":\"DataRange1d\"},\"y_scale\":{\"id\":\"1931\",\"type\":\"LinearScale\"}},\"id\":\"1922\",\"subtype\":\"Figure\",\"type\":\"Plot\"},{\"attributes\":{},\"id\":\"1971\",\"type\":\"LinearScale\"},{\"attributes\":{\"source\":{\"id\":\"2042\",\"type\":\"ColumnDataSource\"}},\"id\":\"2047\",\"type\":\"CDSView\"},{\"attributes\":{\"ticks\":[26.0,30.9,35.8,40.7,45.6,50.5,55.400000000000006,60.300000000000004,65.2,70.1,75.0]},\"id\":\"1919\",\"type\":\"FixedTicker\"},{\"attributes\":{\"text\":\"age\",\"text_font_size\":{\"value\":\"10pt\"}},\"id\":\"1923\",\"type\":\"Title\"},{\"attributes\":{\"axis_label\":\"Normal Quantiles\",\"formatter\":{\"id\":\"2141\",\"type\":\"BasicTickFormatter\"},\"major_label_orientation\":1.0471975511965976,\"major_label_text_font_size\":{\"value\":\"9pt\"},\"minor_tick_line_color\":{\"value\":null},\"ticker\":{\"id\":\"1974\",\"type\":\"BasicTicker\"}},\"id\":\"1973\",\"type\":\"LinearAxis\"},{\"attributes\":{\"callback\":null,\"data\":{\"grp\":[\"age\"],\"index\":[0],\"lw\":[26.0],\"otlrs\":[[]],\"q1\":[38.25],\"q2\":[49.5],\"q3\":[59.0],\"uw\":[75.0],\"x\":[1],\"x0\":[0.19999999999999996],\"x1\":[0.8]},\"selected\":{\"id\":\"2167\",\"type\":\"Selection\"},\"selection_policy\":{\"id\":\"2166\",\"type\":\"UnionRenderers\"}},\"id\":\"2048\",\"type\":\"ColumnDataSource\"},{\"attributes\":{},\"id\":\"1974\",\"type\":\"BasicTicker\"},{\"attributes\":{\"callback\":null,\"data\":{\"freq\":{\"__ndarray__\":\"9vtn2WrakD+/YF4wL5iXP+/7Z9lq2pA/v2BeMC+Ylz+HxVSH81WeP+/7Z9lq2qA/9vtn2WrakD9aLuMETTmUPy6T2VsR94o/GJPZWxH3ij8=\",\"dtype\":\"float64\",\"shape\":[10]},\"index\":[0,1,2,3,4,5,6,7,8,9],\"intervals\":[\"[26.0,30.9)\",\"[30.9,35.8)\",\"[35.8,40.7)\",\"[40.7,45.6)\",\"[45.6,50.5)\",\"[50.5,55.4)\",\"[55.4,60.3)\",\"[60.3,65.2)\",\"[65.2,70.1)\",\"[70.1,75.0]\"],\"left\":{\"__ndarray__\":\"AAAAAAAAOkBmZmZmZuY+QGZmZmZm5kFAmpmZmZlZREDNzMzMzMxGQAAAAAAAQElANDMzMzOzS0BnZmZmZiZOQM3MzMzMTFBAZmZmZmaGUUA=\",\"dtype\":\"float64\",\"shape\":[10]},\"right\":{\"__ndarray__\":\"ZmZmZmbmPkBmZmZmZuZBQJqZmZmZWURAzczMzMzMRkAAAAAAAEBJQDQzMzMzs0tAZ2ZmZmYmTkDNzMzMzExQQGZmZmZmhlFAAAAAAADAUkA=\",\"dtype\":\"float64\",\"shape\":[10]}},\"selected\":{\"id\":\"2149\",\"type\":\"Selection\"},\"selection_policy\":{\"id\":\"2148\",\"type\":\"UnionRenderers\"}},\"id\":\"1944\",\"type\":\"ColumnDataSource\"},{\"attributes\":{\"grid_line_color\":null,\"ticker\":{\"id\":\"1974\",\"type\":\"BasicTicker\"}},\"id\":\"1977\",\"type\":\"Grid\"},{\"attributes\":{\"code\":\"\\n            if (tick.length > 15) return tick.substring(0, 15-2) + '...';\\n            else return tick;\\n        \"},\"id\":\"2056\",\"type\":\"FuncTickFormatter\"},{\"attributes\":{\"x0\":{\"field\":\"x0\"},\"x1\":{\"field\":\"x1\"},\"y0\":{\"field\":\"uw\"},\"y1\":{\"field\":\"uw\"}},\"id\":\"2050\",\"type\":\"Segment\"},{\"attributes\":{\"child\":{\"id\":\"1997\",\"subtype\":\"Figure\",\"type\":\"Plot\"},\"title\":\"box plot\"},\"id\":\"2058\",\"type\":\"Panel\"},{\"attributes\":{\"axis_label\":\"Quantiles of age\",\"formatter\":{\"id\":\"2139\",\"type\":\"BasicTickFormatter\"},\"major_label_text_font_size\":{\"value\":\"9pt\"},\"minor_tick_line_color\":{\"value\":null},\"ticker\":{\"id\":\"1979\",\"type\":\"BasicTicker\"}},\"id\":\"1978\",\"type\":\"LinearAxis\"},{\"attributes\":{\"callback\":null,\"point_policy\":\"follow_mouse\",\"renderers\":[{\"id\":\"2052\",\"type\":\"GlyphRenderer\"},{\"id\":\"2022\",\"type\":\"GlyphRenderer\"},{\"id\":\"2034\",\"type\":\"GlyphRenderer\"},{\"id\":\"2040\",\"type\":\"GlyphRenderer\"},{\"id\":\"2028\",\"type\":\"GlyphRenderer\"},{\"id\":\"2046\",\"type\":\"GlyphRenderer\"}],\"tooltips\":[[\"Upper Whisker\",\"@uw\"],[\"Upper Quartile\",\"@q3\"],[\"Median\",\"@q2\"],[\"Lower Quartile\",\"@q1\"],[\"Lower Whisker\",\"@lw\"]]},\"id\":\"2054\",\"type\":\"HoverTool\"},{\"attributes\":{\"callback\":null},\"id\":\"1925\",\"type\":\"DataRange1d\"},{\"attributes\":{},\"id\":\"1979\",\"type\":\"BasicTicker\"},{\"attributes\":{\"callback\":null},\"id\":\"1927\",\"type\":\"DataRange1d\"},{\"attributes\":{\"dimension\":1,\"grid_line_color\":null,\"ticker\":{\"id\":\"1979\",\"type\":\"BasicTicker\"}},\"id\":\"1982\",\"type\":\"Grid\"},{\"attributes\":{\"source\":{\"id\":\"2048\",\"type\":\"ColumnDataSource\"}},\"id\":\"2053\",\"type\":\"CDSView\"},{\"attributes\":{},\"id\":\"1929\",\"type\":\"LinearScale\"},{\"attributes\":{\"data_source\":{\"id\":\"2048\",\"type\":\"ColumnDataSource\"},\"glyph\":{\"id\":\"2050\",\"type\":\"Segment\"},\"hover_glyph\":null,\"muted_glyph\":null,\"nonselection_glyph\":{\"id\":\"2051\",\"type\":\"Segment\"},\"selection_glyph\":null,\"view\":{\"id\":\"2053\",\"type\":\"CDSView\"}},\"id\":\"2052\",\"type\":\"GlyphRenderer\"},{\"attributes\":{},\"id\":\"1931\",\"type\":\"LinearScale\"},{\"attributes\":{},\"id\":\"2141\",\"type\":\"BasicTickFormatter\"},{\"attributes\":{\"line_alpha\":{\"value\":0.1},\"line_color\":{\"value\":\"#1f77b4\"},\"x0\":{\"field\":\"x0\"},\"x1\":{\"field\":\"x1\"},\"y0\":{\"field\":\"uw\"},\"y1\":{\"field\":\"uw\"}},\"id\":\"2051\",\"type\":\"Segment\"},{\"attributes\":{\"formatter\":{\"id\":\"2138\",\"type\":\"BasicTickFormatter\"},\"major_label_orientation\":1.0471975511965976,\"major_label_text_font_size\":{\"value\":\"9pt\"},\"minor_tick_line_color\":{\"value\":null},\"ticker\":{\"id\":\"1959\",\"type\":\"FixedTicker\"}},\"id\":\"1933\",\"type\":\"LinearAxis\"},{\"attributes\":{},\"id\":\"2139\",\"type\":\"BasicTickFormatter\"},{\"attributes\":{},\"id\":\"2146\",\"type\":\"UnionRenderers\"},{\"attributes\":{},\"id\":\"1934\",\"type\":\"BasicTicker\"},{\"attributes\":{\"x0\":{\"field\":\"grp\"},\"x1\":{\"field\":\"grp\"},\"y0\":{\"field\":\"uw\"},\"y1\":{\"field\":\"q3\"}},\"id\":\"2020\",\"type\":\"Segment\"},{\"attributes\":{},\"id\":\"2138\",\"type\":\"BasicTickFormatter\"},{\"attributes\":{\"grid_line_color\":null,\"ticker\":{\"id\":\"1934\",\"type\":\"BasicTicker\"}},\"id\":\"1937\",\"type\":\"Grid\"},{\"attributes\":{\"callback\":null,\"data\":{\"grp\":[\"age\"],\"index\":[0],\"lw\":[26.0],\"otlrs\":[[]],\"q1\":[38.25],\"q2\":[49.5],\"q3\":[59.0],\"uw\":[75.0],\"x\":[1],\"x0\":[0.19999999999999996],\"x1\":[0.8]},\"selected\":{\"id\":\"2159\",\"type\":\"Selection\"},\"selection_policy\":{\"id\":\"2158\",\"type\":\"UnionRenderers\"}},\"id\":\"2024\",\"type\":\"ColumnDataSource\"},{\"attributes\":{\"axis_label\":\"Density\",\"formatter\":{\"id\":\"2136\",\"type\":\"BasicTickFormatter\"},\"major_label_text_font_size\":{\"value\":\"9pt\"},\"minor_tick_line_color\":{\"value\":null},\"ticker\":{\"id\":\"1939\",\"type\":\"BasicTicker\"}},\"id\":\"1938\",\"type\":\"LinearAxis\"},{\"attributes\":{},\"id\":\"2143\",\"type\":\"BasicTickFormatter\"},{\"attributes\":{\"source\":{\"id\":\"2018\",\"type\":\"ColumnDataSource\"}},\"id\":\"2023\",\"type\":\"CDSView\"},{\"attributes\":{},\"id\":\"1939\",\"type\":\"BasicTicker\"},{\"attributes\":{\"data_source\":{\"id\":\"2018\",\"type\":\"ColumnDataSource\"},\"glyph\":{\"id\":\"2020\",\"type\":\"Segment\"},\"hover_glyph\":null,\"muted_glyph\":null,\"nonselection_glyph\":{\"id\":\"2021\",\"type\":\"Segment\"},\"selection_glyph\":null,\"view\":{\"id\":\"2023\",\"type\":\"CDSView\"}},\"id\":\"2022\",\"type\":\"GlyphRenderer\"},{\"attributes\":{},\"id\":\"2147\",\"type\":\"Selection\"},{\"attributes\":{\"dimension\":1,\"grid_line_color\":null,\"ticker\":{\"id\":\"1939\",\"type\":\"BasicTicker\"}},\"id\":\"1942\",\"type\":\"Grid\"},{\"attributes\":{},\"id\":\"1901\",\"type\":\"BasicTicker\"},{\"attributes\":{\"callback\":null},\"id\":\"1967\",\"type\":\"DataRange1d\"},{\"attributes\":{\"line_alpha\":{\"value\":0.1},\"line_color\":{\"value\":\"#1f77b4\"},\"x0\":{\"field\":\"grp\"},\"x1\":{\"field\":\"grp\"},\"y0\":{\"field\":\"uw\"},\"y1\":{\"field\":\"q3\"}},\"id\":\"2021\",\"type\":\"Segment\"},{\"attributes\":{},\"id\":\"2148\",\"type\":\"UnionRenderers\"},{\"attributes\":{\"active_drag\":\"auto\",\"active_inspect\":\"auto\",\"active_multi\":null,\"active_scroll\":\"auto\",\"active_tap\":\"auto\",\"tools\":[{\"id\":\"1950\",\"type\":\"HoverTool\"},{\"id\":\"1956\",\"type\":\"HoverTool\"}]},\"id\":\"1943\",\"type\":\"Toolbar\"},{\"attributes\":{},\"id\":\"2149\",\"type\":\"Selection\"},{\"attributes\":{\"x0\":{\"field\":\"grp\"},\"x1\":{\"field\":\"grp\"},\"y0\":{\"field\":\"lw\"},\"y1\":{\"field\":\"q1\"}},\"id\":\"2026\",\"type\":\"Segment\"},{\"attributes\":{},\"id\":\"2136\",\"type\":\"BasicTickFormatter\"},{\"attributes\":{\"active_drag\":\"auto\",\"active_inspect\":\"auto\",\"active_multi\":null,\"active_scroll\":\"auto\",\"active_tap\":\"auto\",\"tools\":[{\"id\":\"1983\",\"type\":\"HoverTool\"}]},\"id\":\"1984\",\"type\":\"Toolbar\"},{\"attributes\":{},\"id\":\"2150\",\"type\":\"UnionRenderers\"},{\"attributes\":{\"callback\":null,\"data\":{\"grp\":[\"age\"],\"index\":[0],\"lw\":[26.0],\"otlrs\":[[]],\"q1\":[38.25],\"q2\":[49.5],\"q3\":[59.0],\"uw\":[75.0],\"x\":[1],\"x0\":[0.19999999999999996],\"x1\":[0.8]},\"selected\":{\"id\":\"2161\",\"type\":\"Selection\"},\"selection_policy\":{\"id\":\"2160\",\"type\":\"UnionRenderers\"}},\"id\":\"2030\",\"type\":\"ColumnDataSource\"},{\"attributes\":{\"callback\":null},\"id\":\"1892\",\"type\":\"DataRange1d\"},{\"attributes\":{\"data_source\":{\"id\":\"1944\",\"type\":\"ColumnDataSource\"},\"glyph\":{\"id\":\"1946\",\"type\":\"Quad\"},\"hover_glyph\":null,\"muted_glyph\":null,\"nonselection_glyph\":{\"id\":\"1947\",\"type\":\"Quad\"},\"selection_glyph\":null,\"view\":{\"id\":\"1949\",\"type\":\"CDSView\"}},\"id\":\"1948\",\"type\":\"GlyphRenderer\"},{\"attributes\":{},\"id\":\"2151\",\"type\":\"Selection\"},{\"attributes\":{\"bottom\":{\"value\":0},\"fill_alpha\":{\"value\":0.5},\"fill_color\":{\"value\":\"#6baed6\"},\"left\":{\"field\":\"left\"},\"line_alpha\":{\"value\":0.5},\"line_color\":{\"value\":\"#1f77b4\"},\"right\":{\"field\":\"right\"},\"top\":{\"field\":\"freq\"}},\"id\":\"1946\",\"type\":\"Quad\"},{\"attributes\":{\"source\":{\"id\":\"1944\",\"type\":\"ColumnDataSource\"}},\"id\":\"1949\",\"type\":\"CDSView\"},{\"attributes\":{\"source\":{\"id\":\"2024\",\"type\":\"ColumnDataSource\"}},\"id\":\"2029\",\"type\":\"CDSView\"},{\"attributes\":{},\"id\":\"2152\",\"type\":\"UnionRenderers\"},{\"attributes\":{\"bottom\":{\"value\":0},\"fill_alpha\":{\"value\":0.1},\"fill_color\":{\"value\":\"#1f77b4\"},\"left\":{\"field\":\"left\"},\"line_alpha\":{\"value\":0.1},\"line_color\":{\"value\":\"#1f77b4\"},\"right\":{\"field\":\"right\"},\"top\":{\"field\":\"freq\"}},\"id\":\"1947\",\"type\":\"Quad\"},{\"attributes\":{\"data_source\":{\"id\":\"2024\",\"type\":\"ColumnDataSource\"},\"glyph\":{\"id\":\"2026\",\"type\":\"Segment\"},\"hover_glyph\":null,\"muted_glyph\":null,\"nonselection_glyph\":{\"id\":\"2027\",\"type\":\"Segment\"},\"selection_glyph\":null,\"view\":{\"id\":\"2029\",\"type\":\"CDSView\"}},\"id\":\"2028\",\"type\":\"GlyphRenderer\"},{\"attributes\":{},\"id\":\"2153\",\"type\":\"Selection\"},{\"attributes\":{\"callback\":null},\"id\":\"2002\",\"type\":\"DataRange1d\"},{\"attributes\":{\"callback\":null,\"tooltips\":[[\"x\",\"@x\"],[\"y\",\"@y\"]]},\"id\":\"1983\",\"type\":\"HoverTool\"},{\"attributes\":{\"line_alpha\":{\"value\":0.1},\"line_color\":{\"value\":\"#1f77b4\"},\"x0\":{\"field\":\"grp\"},\"x1\":{\"field\":\"grp\"},\"y0\":{\"field\":\"lw\"},\"y1\":{\"field\":\"q1\"}},\"id\":\"2027\",\"type\":\"Segment\"},{\"attributes\":{},\"id\":\"2154\",\"type\":\"UnionRenderers\"},{\"attributes\":{\"callback\":null,\"mode\":\"vline\",\"renderers\":[{\"id\":\"1948\",\"type\":\"GlyphRenderer\"}],\"tooltips\":[[\"Bin\",\"@intervals\"],[\"Density\",\"@freq\"]]},\"id\":\"1950\",\"type\":\"HoverTool\"},{\"attributes\":{},\"id\":\"2155\",\"type\":\"Selection\"},{\"attributes\":{\"bottom\":{\"field\":\"q2\"},\"fill_color\":{\"value\":\"#1f77b4\"},\"top\":{\"field\":\"q3\"},\"width\":{\"value\":0.7},\"x\":{\"field\":\"grp\"}},\"id\":\"2032\",\"type\":\"VBar\"},{\"attributes\":{},\"id\":\"2135\",\"type\":\"BasicTickFormatter\"},{\"attributes\":{\"callback\":null,\"data\":{\"x\":{\"__ndarray__\":\"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\",\"dtype\":\"float64\",\"shape\":[1000]},\"y\":{\"__ndarray__\":\"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\",\"dtype\":\"float64\",\"shape\":[1000]}},\"selected\":{\"id\":\"2151\",\"type\":\"Selection\"},\"selection_policy\":{\"id\":\"2150\",\"type\":\"UnionRenderers\"}},\"id\":\"1951\",\"type\":\"ColumnDataSource\"},{\"attributes\":{},\"id\":\"2156\",\"type\":\"UnionRenderers\"},{\"attributes\":{\"formatter\":{\"id\":\"2135\",\"type\":\"BasicTickFormatter\"},\"major_label_orientation\":1.0471975511965976,\"major_label_text_font_size\":{\"value\":\"9pt\"},\"minor_tick_line_color\":{\"value\":null},\"ticker\":{\"id\":\"1919\",\"type\":\"FixedTicker\"}},\"id\":\"1900\",\"type\":\"LinearAxis\"},{\"attributes\":{\"callback\":null,\"data\":{\"grp\":[\"age\"],\"index\":[0],\"lw\":[26.0],\"otlrs\":[[]],\"q1\":[38.25],\"q2\":[49.5],\"q3\":[59.0],\"uw\":[75.0],\"x\":[1],\"x0\":[0.19999999999999996],\"x1\":[0.8]},\"selected\":{\"id\":\"2163\",\"type\":\"Selection\"},\"selection_policy\":{\"id\":\"2162\",\"type\":\"UnionRenderers\"}},\"id\":\"2036\",\"type\":\"ColumnDataSource\"},{\"attributes\":{\"grid_line_color\":null,\"ticker\":{\"id\":\"1901\",\"type\":\"BasicTicker\"}},\"id\":\"1904\",\"type\":\"Grid\"},{\"attributes\":{\"line_alpha\":0.5,\"line_color\":\"#9467bd\",\"line_width\":2,\"x\":{\"field\":\"x\"},\"y\":{\"field\":\"y\"}},\"id\":\"1952\",\"type\":\"Line\"},{\"attributes\":{},\"id\":\"2157\",\"type\":\"Selection\"},{\"attributes\":{\"line_alpha\":0.1,\"line_color\":\"#1f77b4\",\"line_width\":2,\"x\":{\"field\":\"x\"},\"y\":{\"field\":\"y\"}},\"id\":\"1953\",\"type\":\"Line\"},{\"attributes\":{},\"id\":\"1898\",\"type\":\"LinearScale\"},{\"attributes\":{\"source\":{\"id\":\"2030\",\"type\":\"ColumnDataSource\"}},\"id\":\"2035\",\"type\":\"CDSView\"},{\"attributes\":{},\"id\":\"2158\",\"type\":\"UnionRenderers\"},{\"attributes\":{\"data_source\":{\"id\":\"1951\",\"type\":\"ColumnDataSource\"},\"glyph\":{\"id\":\"1952\",\"type\":\"Line\"},\"hover_glyph\":null,\"muted_glyph\":null,\"nonselection_glyph\":{\"id\":\"1953\",\"type\":\"Line\"},\"selection_glyph\":null,\"view\":{\"id\":\"1955\",\"type\":\"CDSView\"}},\"id\":\"1954\",\"type\":\"GlyphRenderer\"},{\"attributes\":{\"data_source\":{\"id\":\"2030\",\"type\":\"ColumnDataSource\"},\"glyph\":{\"id\":\"2032\",\"type\":\"VBar\"},\"hover_glyph\":null,\"muted_glyph\":null,\"nonselection_glyph\":{\"id\":\"2033\",\"type\":\"VBar\"},\"selection_glyph\":null,\"view\":{\"id\":\"2035\",\"type\":\"CDSView\"}},\"id\":\"2034\",\"type\":\"GlyphRenderer\"},{\"attributes\":{},\"id\":\"2159\",\"type\":\"Selection\"},{\"attributes\":{\"source\":{\"id\":\"1951\",\"type\":\"ColumnDataSource\"}},\"id\":\"1955\",\"type\":\"CDSView\"},{\"attributes\":{\"bottom\":{\"field\":\"q2\"},\"fill_alpha\":{\"value\":0.1},\"fill_color\":{\"value\":\"#1f77b4\"},\"line_alpha\":{\"value\":0.1},\"line_color\":{\"value\":\"#1f77b4\"},\"top\":{\"field\":\"q3\"},\"width\":{\"value\":0.7},\"x\":{\"field\":\"grp\"}},\"id\":\"2033\",\"type\":\"VBar\"},{\"attributes\":{},\"id\":\"2160\",\"type\":\"UnionRenderers\"},{\"attributes\":{\"callback\":null,\"renderers\":[{\"id\":\"1954\",\"type\":\"GlyphRenderer\"}],\"tooltips\":[[\"x\",\"@x\"],[\"y\",\"@y\"]]},\"id\":\"1956\",\"type\":\"HoverTool\"},{\"attributes\":{},\"id\":\"2161\",\"type\":\"Selection\"},{\"attributes\":{\"bottom\":{\"field\":\"q1\"},\"fill_color\":{\"value\":\"#1f77b4\"},\"top\":{\"field\":\"q2\"},\"width\":{\"value\":0.7},\"x\":{\"field\":\"grp\"}},\"id\":\"2038\",\"type\":\"VBar\"},{\"attributes\":{},\"id\":\"2162\",\"type\":\"UnionRenderers\"},{\"attributes\":{\"child\":{\"id\":\"1922\",\"subtype\":\"Figure\",\"type\":\"Plot\"},\"title\":\"KDE plot\"},\"id\":\"1961\",\"type\":\"Panel\"},{\"attributes\":{\"callback\":null,\"data\":{\"grp\":[\"age\"],\"index\":[0],\"lw\":[26.0],\"otlrs\":[[]],\"q1\":[38.25],\"q2\":[49.5],\"q3\":[59.0],\"uw\":[75.0],\"x\":[1],\"x0\":[0.19999999999999996],\"x1\":[0.8]},\"selected\":{\"id\":\"2165\",\"type\":\"Selection\"},\"selection_policy\":{\"id\":\"2164\",\"type\":\"UnionRenderers\"}},\"id\":\"2042\",\"type\":\"ColumnDataSource\"},{\"attributes\":{\"below\":[{\"id\":\"1973\",\"type\":\"LinearAxis\"}],\"center\":[{\"id\":\"1977\",\"type\":\"Grid\"},{\"id\":\"1982\",\"type\":\"Grid\"}],\"left\":[{\"id\":\"1978\",\"type\":\"LinearAxis\"}],\"plot_height\":400,\"plot_width\":450,\"renderers\":[{\"id\":\"1989\",\"type\":\"GlyphRenderer\"},{\"id\":\"1994\",\"type\":\"GlyphRenderer\"}],\"title\":{\"id\":\"1963\",\"type\":\"Title\"},\"toolbar\":{\"id\":\"1984\",\"type\":\"Toolbar\"},\"toolbar_location\":null,\"x_range\":{\"id\":\"1965\",\"type\":\"DataRange1d\"},\"x_scale\":{\"id\":\"1969\",\"type\":\"LinearScale\"},\"y_range\":{\"id\":\"1967\",\"type\":\"DataRange1d\"},\"y_scale\":{\"id\":\"1971\",\"type\":\"LinearScale\"}},\"id\":\"1962\",\"subtype\":\"Figure\",\"type\":\"Plot\"},{\"attributes\":{\"x0\":{\"field\":\"x0\"},\"x1\":{\"field\":\"x1\"},\"y0\":{\"field\":\"lw\"},\"y1\":{\"field\":\"lw\"}},\"id\":\"2044\",\"type\":\"Segment\"},{\"attributes\":{},\"id\":\"2163\",\"type\":\"Selection\"},{\"attributes\":{\"ticks\":[26.0,30.9,35.8,40.7,45.6,50.5,55.400000000000006,60.300000000000004,65.2,70.1,75.0]},\"id\":\"1959\",\"type\":\"FixedTicker\"},{\"attributes\":{\"source\":{\"id\":\"2036\",\"type\":\"ColumnDataSource\"}},\"id\":\"2041\",\"type\":\"CDSView\"},{\"attributes\":{},\"id\":\"2164\",\"type\":\"UnionRenderers\"},{\"attributes\":{\"data_source\":{\"id\":\"2036\",\"type\":\"ColumnDataSource\"},\"glyph\":{\"id\":\"2038\",\"type\":\"VBar\"},\"hover_glyph\":null,\"muted_glyph\":null,\"nonselection_glyph\":{\"id\":\"2039\",\"type\":\"VBar\"},\"selection_glyph\":null,\"view\":{\"id\":\"2041\",\"type\":\"CDSView\"}},\"id\":\"2040\",\"type\":\"GlyphRenderer\"},{\"attributes\":{},\"id\":\"2165\",\"type\":\"Selection\"},{\"attributes\":{\"callback\":null,\"data\":{\"x\":{\"__ndarray__\":\"5B6ZkzSBMkBAMLCPDws2QKwTkgtFSzhAMJc8AR/9OUDEyd3ALF47QFABg2u+ijxALe4zCVCSPUDTsfBdUX4+QFLaUdH0VD9Aggl8eEMNQEAu72sMEmlAQOi76w4Qv0BAGJRjiyIQQUD+Yv+f/VxBQABR1qsxpkFAzAKLTzTsQUDQeT/AZi9CQCg3ulQacEJAKzjQ3ZOuQkDQKqonDutCQKIH5+G7JUNA1VetGMleQ0AEftBbXJZDQBLenaiXzENAC98YJZkBREBfnWy3ezVEQES0i4FXaERA8bD2RkKaREAp7i/BT8tEQPXeVOaR+0RA1kGMJBkrRUBWfGKU9FlFQNGvuyMyiEVArD6sut61RUDyiEVbBuNFQA6kMD20D0ZAQRjI5fI7RkBsk0E9zGdGQG8HX6FJk0ZARVYK9nO+RkAEYC60U+lGQC8kE/fwE0dA2gl4iFM+R0Cvx57rgmhHQLZqcmeGkkdAslPwD2W8R0BKcvTOJeZHQBJdhmzPD0hAxwDClmg5SEDJZHTp92JIQCdZg/WDjEhAKb01SBO2SEDeYHFyrN9IQKZLAxBWCUlAPmoHzxYzSUA6U4V39VxJQEH2WPP4hklAFrR/ViixSUDBmeTnittJQOxdySooBkpAqmft6AcxSkCBtpg9MlxKQIMqtqGvh0pAr6Uv+YizSkDiGcehx99KQP00soN1DEtARH9LJJ05S0AfDjy7SWdLQJpBlUqHlUtAGnxrumLES0D73qL46fNLQMfPxx0sJExA/wwBmDlVTECsCWxdJIdMQJEgiycAukxA5d7eueLtTEDe31k25CJNQOw/J4MfWU1AG2ZKxrKQTUBOthD9v8lNQCCTTbdtBE5AxIUnAehATkDIhj2KYX9OQCBEuB4VwE5AJLtsj0cDT0DwbCEzSklPQPJa+D5+kk9A2CmUU1nfT0AEAQboNRhQQGLnRek0Q1BAN9o9MxxxUEBjaCe7gKJQQIOy/5cp2FBAbOMu7SkTUUCkHptUDlVRQIZsRL8yoFFALLksL3b4UUAMWpes7GRSQOfSjwv69FJAP5eVynDXU0A=\",\"dtype\":\"float64\",\"shape\":[100]},\"y\":{\"__ndarray__\":\"AAAAAAAAOkAAAAAAAAA6QAAAAAAAADpAWA191dDXOkBxLr2RfQY8QDbWu7gSoTxA9vt0v093PUCBS3INeqw+QIbNty3ScD9AAAAAAAAAQEAAAAAAAABAQAAAAAAAAEBAAAAAAAAAQEAAAAAAAABAQBPe14soCEFA9jFXH3NVQUAAAAAAAIBBQAAAAAAAgEFAAAAAAACAQUA6W6qzpfpBQICBVG2dikJAY9XTAOjXQkAAAAAAAABDQAAAAAAAAENAAAAAAAAAQ0DtJNFOEg1DQNB4UOJcWkNAZZmf607PQ0AqQZ4S5GlEQAAAAAAAgERAWshNMIePREA8HM3D0dxEQCBwTFccKkVAAsTL6mZ3RUDkF0t+scRFQAAAAAAAAEZAAAAAAAAARkBvZ0jM23lGQFK7x18mx0ZAAAAAAAAAR0AAAAAAAABHQPq2RRoGL0dA3ArFrVB8R0AAAAAAAIBHQKKyw9TllkdAhAZDaDDkR0AAAAAAAABIQAAAAAAAAEhALALBIhBMSEAPVkC2WplIQPGpv0ml5khAAAAAAAAASUC2Ub5wOgFJQJmlPQSFTklAAAAAAACASUAAAAAAAIBJQAAAAAAAgElAJPU6Uq+DSUAGSbrl+dBJQAAAAAAAAEpAAAAAAAAASkAAAAAAAABKQAAAAAAAAEpAAAAAAAAASkAAAAAAAABKQAAAAAAAAEpANtBpA512SkAAAAAAAABLQAAAAAAAAEtAhsdleFxGS0BMb2Sf8eBLQJiilClKuUxAAAAAAACATUAAAAAAAIBNQAAAAAAAgE1AAAAAAACATUAAAAAAAIBNQLAFW7AFm01AdK1Z15o1TkAAAAAAAIBOQAAAAAAAgE5AAAAAAACATkBFJqq5949OQCd6KU1C3U5AAAAAAAAAT0AAAAAAAABPQAAAAAAAAE9AnutOD0SKT0CyySabbBJQQJQdpi63X1BAAAAAAACAUEAAAAAAAIBQQNoltl1i61BAAAAAAABAUUAAAAAAAEBRQFgfc/Uxh1FAKh2y0iH7UUBUXlDlBSVSQAAAAAAAQFJAAAAAAABAUkA=\",\"dtype\":\"float64\",\"shape\":[100]}},\"selected\":{\"id\":\"2153\",\"type\":\"Selection\"},\"selection_policy\":{\"id\":\"2152\",\"type\":\"UnionRenderers\"}},\"id\":\"1986\",\"type\":\"ColumnDataSource\"},{\"attributes\":{\"text\":\"age\",\"text_font_size\":{\"value\":\"10pt\"}},\"id\":\"1963\",\"type\":\"Title\"},{\"attributes\":{\"bottom\":{\"field\":\"q1\"},\"fill_alpha\":{\"value\":0.1},\"fill_color\":{\"value\":\"#1f77b4\"},\"line_alpha\":{\"value\":0.1},\"line_color\":{\"value\":\"#1f77b4\"},\"top\":{\"field\":\"q2\"},\"width\":{\"value\":0.7},\"x\":{\"field\":\"grp\"}},\"id\":\"2039\",\"type\":\"VBar\"},{\"attributes\":{},\"id\":\"2166\",\"type\":\"UnionRenderers\"},{\"attributes\":{\"callback\":null},\"id\":\"1965\",\"type\":\"DataRange1d\"},{\"attributes\":{},\"id\":\"2167\",\"type\":\"Selection\"},{\"attributes\":{},\"id\":\"2004\",\"type\":\"CategoricalScale\"}],\"root_ids\":[\"2059\"]},\"title\":\"Bokeh Application\",\"version\":\"1.4.0\"}};\n",
       "  var render_items = [{\"docid\":\"69f6fccb-f1f1-4e1d-a4bc-8b03a78297dd\",\"roots\":{\"2059\":\"8652bb75-78b1-48a5-b3e7-1e735aca9ea4\"}}];\n",
       "  root.Bokeh.embed.embed_items_notebook(docs_json, render_items);\n",
       "\n",
       "  }\n",
       "  if (root.Bokeh !== undefined) {\n",
       "    embed_document(root);\n",
       "  } else {\n",
       "    var attempts = 0;\n",
       "    var timer = setInterval(function(root) {\n",
       "      if (root.Bokeh !== undefined) {\n",
       "        clearInterval(timer);\n",
       "        embed_document(root);\n",
       "      } else {\n",
       "        attempts++;\n",
       "        if (attempts > 100) {\n",
       "          clearInterval(timer);\n",
       "          console.log(\"Bokeh: ERROR: Unable to run BokehJS code because BokehJS library is missing\");\n",
       "        }\n",
       "      }\n",
       "    }, 10, root)\n",
       "  }\n",
       "})(window);"
      ],
      "application/vnd.bokehjs_exec.v0+json": ""
     },
     "metadata": {
      "application/vnd.bokehjs_exec.v0+json": {
       "id": "2059"
      }
     },
     "output_type": "display_data"
    },
    {
     "data": {
      "text/html": [
       "<div style=\"display: table;\"><div style=\"display: table-row;\"><div style=\"display: table-cell;\"><b title=\"bokeh.models.layouts.Tabs\">Tabs</b>(</div><div style=\"display: table-cell;\">id&nbsp;=&nbsp;'2059', <span id=\"2403\" style=\"cursor: pointer;\">&hellip;)</span></div></div><div class=\"2402\" style=\"display: none;\"><div style=\"display: table-cell;\"></div><div style=\"display: table-cell;\">active&nbsp;=&nbsp;0,</div></div><div class=\"2402\" style=\"display: none;\"><div style=\"display: table-cell;\"></div><div style=\"display: table-cell;\">align&nbsp;=&nbsp;'start',</div></div><div class=\"2402\" style=\"display: none;\"><div style=\"display: table-cell;\"></div><div style=\"display: table-cell;\">aspect_ratio&nbsp;=&nbsp;None,</div></div><div class=\"2402\" style=\"display: none;\"><div style=\"display: table-cell;\"></div><div style=\"display: table-cell;\">background&nbsp;=&nbsp;None,</div></div><div class=\"2402\" style=\"display: none;\"><div style=\"display: table-cell;\"></div><div style=\"display: table-cell;\">callback&nbsp;=&nbsp;None,</div></div><div class=\"2402\" style=\"display: none;\"><div style=\"display: table-cell;\"></div><div style=\"display: table-cell;\">css_classes&nbsp;=&nbsp;[],</div></div><div class=\"2402\" style=\"display: none;\"><div style=\"display: table-cell;\"></div><div style=\"display: table-cell;\">disabled&nbsp;=&nbsp;False,</div></div><div class=\"2402\" style=\"display: none;\"><div style=\"display: table-cell;\"></div><div style=\"display: table-cell;\">height&nbsp;=&nbsp;None,</div></div><div class=\"2402\" style=\"display: none;\"><div style=\"display: table-cell;\"></div><div style=\"display: table-cell;\">height_policy&nbsp;=&nbsp;'auto',</div></div><div class=\"2402\" style=\"display: none;\"><div style=\"display: table-cell;\"></div><div style=\"display: table-cell;\">js_event_callbacks&nbsp;=&nbsp;{},</div></div><div class=\"2402\" style=\"display: none;\"><div style=\"display: table-cell;\"></div><div style=\"display: table-cell;\">js_property_callbacks&nbsp;=&nbsp;{},</div></div><div class=\"2402\" style=\"display: none;\"><div style=\"display: table-cell;\"></div><div style=\"display: table-cell;\">margin&nbsp;=&nbsp;(0, 0, 0, 0),</div></div><div class=\"2402\" style=\"display: none;\"><div style=\"display: table-cell;\"></div><div style=\"display: table-cell;\">max_height&nbsp;=&nbsp;None,</div></div><div class=\"2402\" style=\"display: none;\"><div style=\"display: table-cell;\"></div><div style=\"display: table-cell;\">max_width&nbsp;=&nbsp;None,</div></div><div class=\"2402\" style=\"display: none;\"><div style=\"display: table-cell;\"></div><div style=\"display: table-cell;\">min_height&nbsp;=&nbsp;None,</div></div><div class=\"2402\" style=\"display: none;\"><div style=\"display: table-cell;\"></div><div style=\"display: table-cell;\">min_width&nbsp;=&nbsp;None,</div></div><div class=\"2402\" style=\"display: none;\"><div style=\"display: table-cell;\"></div><div style=\"display: table-cell;\">name&nbsp;=&nbsp;None,</div></div><div class=\"2402\" style=\"display: none;\"><div style=\"display: table-cell;\"></div><div style=\"display: table-cell;\">sizing_mode&nbsp;=&nbsp;None,</div></div><div class=\"2402\" style=\"display: none;\"><div style=\"display: table-cell;\"></div><div style=\"display: table-cell;\">subscribed_events&nbsp;=&nbsp;[],</div></div><div class=\"2402\" style=\"display: none;\"><div style=\"display: table-cell;\"></div><div style=\"display: table-cell;\">tabs&nbsp;=&nbsp;[Panel(id='1921', ...), Panel(id='1961', ...), Panel(id='1996', ...), Panel(id='2058', ...)],</div></div><div class=\"2402\" style=\"display: none;\"><div style=\"display: table-cell;\"></div><div style=\"display: table-cell;\">tabs_location&nbsp;=&nbsp;'above',</div></div><div class=\"2402\" style=\"display: none;\"><div style=\"display: table-cell;\"></div><div style=\"display: table-cell;\">tags&nbsp;=&nbsp;[],</div></div><div class=\"2402\" style=\"display: none;\"><div style=\"display: table-cell;\"></div><div style=\"display: table-cell;\">visible&nbsp;=&nbsp;True,</div></div><div class=\"2402\" style=\"display: none;\"><div style=\"display: table-cell;\"></div><div style=\"display: table-cell;\">width&nbsp;=&nbsp;None,</div></div><div class=\"2402\" style=\"display: none;\"><div style=\"display: table-cell;\"></div><div style=\"display: table-cell;\">width_policy&nbsp;=&nbsp;'auto')</div></div></div>\n",
       "<script>\n",
       "(function() {\n",
       "  var expanded = false;\n",
       "  var ellipsis = document.getElementById(\"2403\");\n",
       "  ellipsis.addEventListener(\"click\", function() {\n",
       "    var rows = document.getElementsByClassName(\"2402\");\n",
       "    for (var i = 0; i < rows.length; i++) {\n",
       "      var el = rows[i];\n",
       "      el.style.display = expanded ? \"none\" : \"table-row\";\n",
       "    }\n",
       "    ellipsis.innerHTML = expanded ? \"&hellip;)\" : \"&lsaquo;&lsaquo;&lsaquo;\";\n",
       "    expanded = !expanded;\n",
       "  });\n",
       "})();\n",
       "</script>\n"
      ],
      "text/plain": [
       "Tabs(id='2059', ...)"
      ]
     },
     "execution_count": 12,
     "metadata": {},
     "output_type": "execute_result"
    }
   ],
   "source": [
    "from dataprep.eda import plot\n",
    "import pandas as pd\n",
    "\n",
    "df = pd.read_csv(\"faculty_grad_year.csv\")\n",
    "df[\"age\"] = 2020+23-df[\"gradyear\"]\n",
    "\n",
    "plot(df, \"age\")"
   ]
  },
  {
   "cell_type": "markdown",
   "metadata": {},
   "source": [
    "## Submission"
   ]
  },
  {
   "cell_type": "markdown",
   "metadata": {},
   "source": [
    "Complete the code in this [notebook](https://github.com/sfu-db/bigdata-cmpt733/blob/master/Assignments/A1/A1.ipynb), and submit it to the CourSys activity `Assignment 1`."
   ]
  },
  {
   "cell_type": "markdown",
   "metadata": {},
   "source": [
    "<hr/>\n",
    "## <span style=\"color:red\">Bonus: Contribute to dataprep</span>"
   ]
  },
  {
   "cell_type": "markdown",
   "metadata": {},
   "source": [
    "**Total Bonus: 0.2 + 0.3 = 0.5**\n",
    "\n",
    "1. If you create an issue (i.e., report a bug or request a feature) at [link1](https://github.com/sfu-db/dataprep/issues) or [link2](https://github.com/sfu-db/DataConnectorConfigs/issues), you will get **0.2** bonus points.\n",
    "\n",
    "2.  Creating more issues will *not* give you more bonus points, but you are encouraged to do so for learning more.\n",
    "\n",
    "2. If you send a pull request (i.e., fix a bug or implement a feature or add data connector for a new website) at [link1](https://github.com/sfu-db/dataprep/pulls) or [link2](https://github.com/sfu-db/DataConnectorConfigs/pulls) and the pull request gets merged into the repo, you will get **0.3** bonus points. \n",
    "\n",
    "4.  Sending more pull requests will *not* give you more bonus points, but you are encouraged to do so for learning more.\n",
    "\n",
    "5. These bonus points will be directly added to your final grade.\n",
    "\n",
    "\n",
    "\n",
    "\n",
    "\n",
    "\n",
    "**How to Submit**\n",
    "* Submit github link(s) to the CourSys activity `Bonus`.\n",
    "* Due on `March 15, 2020`\n",
    "\n",
    "If you love dataprep, please support it by simply clicking the **<span style=\"color:red\">Star</span>** on [Github](https://github.com/sfu-db/dataprep).\n",
    "<img src=\"dataprep-star.png\" width=\"1000\">"
   ]
  }
 ],
 "metadata": {
  "kernelspec": {
   "display_name": "Python 3",
   "language": "python",
   "name": "python3"
  },
  "language_info": {
   "codemirror_mode": {
    "name": "ipython",
    "version": 3
   },
   "file_extension": ".py",
   "mimetype": "text/x-python",
   "name": "python",
   "nbconvert_exporter": "python",
   "pygments_lexer": "ipython3",
   "version": "3.6.8"
  }
 },
 "nbformat": 4,
 "nbformat_minor": 1
}
