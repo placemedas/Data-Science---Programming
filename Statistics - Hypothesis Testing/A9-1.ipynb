{
 "cells": [
  {
   "cell_type": "markdown",
   "metadata": {},
   "source": [
    "# Assignment 9: Hypothesis Testing (Part 1)"
   ]
  },
  {
   "cell_type": "markdown",
   "metadata": {},
   "source": [
    "## Objective"
   ]
  },
  {
   "cell_type": "markdown",
   "metadata": {},
   "source": [
    "In many situations, we cannot get the full population but only a sample. If we derive an interesting result from a sample, how likely can we derive the same result from the entire population? In other words, we want to know whether this result is a true finding or it just happens in the sample by chance. Hypothesis testing aims to answer this fundamental question. \n",
    "\n",
    "\n",
    "**Hypothesis Testing**\n",
    "1. Why A/B testing?  \n",
    "2. What is a permutation test? How to implement it?\n",
    "3. What is p-value? How to avoid p-hacking? \n",
    "4. What is a chi-squared test? How to implement it?\n"
   ]
  },
  {
   "cell_type": "markdown",
   "metadata": {},
   "source": [
    "## Task 1. A/B Testing\n",
    "> Acknowledgment: Thank [Greg Baker](http://www.cs.sfu.ca/~ggbaker/) for helping me to prepare this task.\n",
    "\n",
    "A very common technique to evaluate changes in a user interface is A/B testing: show some users interface A, some interface B, and then look to see if one performs better than the other.\n",
    "\n",
    "Suppose I started an A/B test on CourSys. Here are the two interfaces that I want to compare with. I want to know whether a good placeholder in the search box can attract more users to use the `search` feature.\n",
    "\n",
    "\n",
    "![](img/ab-testing.png)"
   ]
  },
  {
   "cell_type": "markdown",
   "metadata": {},
   "source": [
    "The provided [searchlog.json](searchlog.json) has information about users' usage. The question I was interested in: is the number of searches per user different?"
   ]
  },
  {
   "cell_type": "markdown",
   "metadata": {},
   "source": [
    "To answer this question, we need to first pick up a **test statistic** to quantify how good an interface is. Here, we choose \"the search_count mean\". \n",
    "\n",
    "Please write the code to compute **the difference of the search_count means between interface A and Interface B.** "
   ]
  },
  {
   "cell_type": "code",
   "execution_count": 1,
   "metadata": {
    "scrolled": true
   },
   "outputs": [
    {
     "name": "stdout",
     "output_type": "stream",
     "text": [
      "Difference is 0.13500569535052287\n"
     ]
    }
   ],
   "source": [
    "#<-- Write Your Code -->\n",
    "import pandas as pd\n",
    "filename = 'searchlog.json'\n",
    "logs = pd.read_json(filename, lines=True)\n",
    "logs_A = logs[logs[\"search_ui\"] == 'A']\n",
    "mean_A = logs_A[\"search_count\"].mean()\n",
    "logs_B = logs[logs[\"search_ui\"] == 'B']\n",
    "mean_B = logs_B[\"search_count\"].mean()\n",
    "difference = abs(mean_B - mean_A)\n",
    "print(\"Difference is\",difference)"
   ]
  },
  {
   "cell_type": "markdown",
   "metadata": {},
   "source": [
    "Suppose we find that the mean value increased by 0.135. Then, we wonder whether this result is just caused by random variation. \n",
    "\n",
    "We define the Null Hypothesis as\n",
    " * The difference in search_count mean between Interface A and Interface B is caused by random variation. \n",
    " \n",
    "Then the next job is to check whether we can reject the null hypothesis or not. If it does, we can adopt the alternative explanation:\n",
    " * The difference in search_count mean  between Interface A and Interface B is caused by the design differences between the two.\n",
    "\n",
    "We compute the p-value of the observed result. If p-value is low (e.g., <0.01), we can reject the null hypothesis, and adopt  the alternative explanation.  \n",
    "\n",
    "Please implement a permutation test (numSamples = 10000) to compute the p-value. Note that you are NOT allowed to use an implementation in an existing library. You have to implement it by yourself."
   ]
  },
  {
   "cell_type": "code",
   "execution_count": 3,
   "metadata": {},
   "outputs": [
    {
     "name": "stdout",
     "output_type": "stream",
     "text": [
      "P-value is 0.2602\n",
      "Null hypothesis is accepted\n"
     ]
    }
   ],
   "source": [
    "#<-- Write Your Code -->\n",
    "import numpy as np\n",
    "#pV = list(logs_A[\"search_count\"]) + list(logs_B[\"search_count\"])\n",
    "logp = logs.copy()\n",
    "# Initialize permutations\n",
    "pD = []\n",
    "#Define p (number of permutations):\n",
    "p=10000\n",
    "# Permutation loop:\n",
    "for i in range(0,p):\n",
    "  # Shuffle the data:\n",
    "    logp['search_count'] = np.random.permutation(logp['search_count'].values)\n",
    "    # Calculate the mean here as well\n",
    "    logp_A = logp[logp[\"search_ui\"] == 'A']\n",
    "    mean_A = logp_A[\"search_count\"].mean()\n",
    "    logp_B = logp[logp[\"search_ui\"] == 'B']\n",
    "    mean_B = logp_B[\"search_count\"].mean()\n",
    "    # Calculate the difference\n",
    "    difference_l = abs(mean_B - mean_A)\n",
    "    pD.append(difference_l)\n",
    "# Calculating p-value\n",
    "p_val = len(np.where(pD>=difference)[0])/p\n",
    "print(\"P-value is\",p_val)\n",
    "if p_val < 0.01:\n",
    "    print(\"Null hypothesis is rejected\")\n",
    "else:\n",
    "    print(\"Null hypothesis is accepted\")"
   ]
  },
  {
   "cell_type": "markdown",
   "metadata": {},
   "source": [
    "Suppose we want to use the same dataset to do another A/B testing. We suspect that instructors are the ones who can get more useful information from the search feature, so perhaps non-instructors didn't touch the search feature because it was genuinely not relevant to them.\n",
    "\n",
    "So we decide to repeat the above analysis looking only at instructors."
   ]
  },
  {
   "cell_type": "markdown",
   "metadata": {},
   "source": [
    "**Q. If using the same dataset to do this analysis, do you feel like we're p-hacking? If so, what can we do with it? **"
   ]
  },
  {
   "cell_type": "markdown",
   "metadata": {},
   "source": [
    "**A.** Yes, using the same dataset to perform analysis until we find something significant can result in p-hacking. This can also increase the number of false positives as we are ignoring the results of other hypothesis tests.To address p-hacking, we should disclose the number of hypothesis disclosed during study,all data collection decisions, all statistical analysis conducted and all p-values computed. One way to control p-hacking is to decrease the level of significance to $\\alpha/N$ where 'N' is the number of hypothesis tests conducted. Another measure is to control the false discovery rate ($FP/(FP+TP))$ using another significance level $\\beta$. We first find the index $k$ of largest p-value and it should be $<=(i/m)\\beta$ were $m$ is the number of null hypothesis performed. All null hypothesis tests with p-value index $i <= k $ is considered to be statistically significant."
   ]
  },
  {
   "cell_type": "markdown",
   "metadata": {},
   "source": [
    "## Task 2. Chi-squared Test "
   ]
  },
  {
   "cell_type": "markdown",
   "metadata": {},
   "source": [
    "There are tens of different hypothesis testing methods. It's impossible to cover all of them in one week. Given that this is an important topic in statistics, I highly recommend using your free time to learn some other popular ones such as <a href=\"https://en.wikipedia.org/wiki/Chi-squared_test\">Chi-squared test</a>, <a href=\"https://en.wikipedia.org/wiki/G-test\">G-test</a>, <a href=\"https://en.wikipedia.org/wiki/Student%27s_t-test\">T-test</a>, and <a href=\"https://en.wikipedia.org/wiki/Mann%E2%80%93Whitney_U_test\">Mann–Whitney U test</a>.\n",
    "\n",
    "On the searchlog dataset, there are two categorical columns: `is_instructor` and `search_ui`. In Task D, your job is to first learn how a Chi-Squired test works by yourself and then use it to test whether `is_instructor` and `search_ui` are correlated. "
   ]
  },
  {
   "cell_type": "markdown",
   "metadata": {},
   "source": [
    "Please write code to compute the Chi-squared stat. Note that you are **not** allowed to call an existing function (e.g., stats.chi2, chi2_contingency). "
   ]
  },
  {
   "cell_type": "code",
   "execution_count": 5,
   "metadata": {},
   "outputs": [
    {
     "name": "stdout",
     "output_type": "stream",
     "text": [
      "Chi Square stat is 0.6731740891275046\n",
      "Degree of freedom is 1\n"
     ]
    }
   ],
   "source": [
    "#<-- Write Your Code -->\n",
    "# Creating a contigency table\n",
    "cont_tab = pd.crosstab(logs['is_instructor'], logs['search_ui'],margins = True)\n",
    "obs = np.empty((2,0), int)\n",
    "\n",
    "# Observations\n",
    "for i in range(0,len(cont_tab)-1):\n",
    "    obs = np.append(obs,cont_tab.iloc[i][0:2].values)\n",
    "\n",
    "# Expectations\n",
    "tuple_sum = cont_tab.iloc[0:2,2].values\n",
    "attr_sum = cont_tab.iloc[2,0:2].values\n",
    "total = cont_tab[\"All\"].iloc[2]\n",
    "exp = []\n",
    "for j in range(0,len(cont_tab)-1):\n",
    "    for l in attr_sum:\n",
    "        exp.append(l*tuple_sum[j]/total)\n",
    "\n",
    "# Chi Square calculation\n",
    "chi_sqr = sum(((obs - exp)**2/exp))\n",
    "print(\"Chi Square stat is\",chi_sqr)\n",
    "\n",
    "# Degree of freedom\n",
    "df = (len(tuple_sum)-1)*(len(attr_sum)-1)\n",
    "print(\"Degree of freedom is\",df)\n"
   ]
  },
  {
   "cell_type": "markdown",
   "metadata": {},
   "source": [
    "Please explain how to use Chi-squared test to determine whether `is_instructor` and `search_ui` are correlated. "
   ]
  },
  {
   "cell_type": "markdown",
   "metadata": {},
   "source": [
    "**A.** To identify whether 'is_instructor' and 'search_ui' are correlated, we need to define a null hypothesis and its alternate.\n",
    "\n",
    "Null Hypothesis: \n",
    "There is no important relationship between 'is_instructor' and 'search_ui'. Hence they are independant\n",
    "\n",
    "Alternate Hypothesis:\n",
    "There is an important relationship between 'is_instructor' and 'search_ui'. Hence they are dependant\n",
    "\n",
    "Inorder to reject null hypothesis, the p-value should be less than significance level. Lets keep the significance level as 0.05 in this case. \n",
    "\n",
    "To perform Chi- Squared test, we need to calculate the Chi-squared value using the below formula\n",
    "                        \n",
    "$$X^2 = \\sum_{i=1}^{\\ n}{\\frac{(observed_i−expected_i)^2}{(expected_i)}}$$\n",
    "\n",
    "To calculate the above ,we created a contingency table with frequency count obtained in each cell to form a cross table . Values in this contingency table are observed values. Expected values are those value that can be obtained when the null hypothesis is true.Expected values for a single cell can be obtained using the below formula:\n",
    "\n",
    "$$Expected\\space Value = {\\frac{(Row\\space Sum * Column\\space Sum)}{Grand\\space Total}}$$\n",
    "\n",
    "Now we plug in expected value and observed value in chi-squared formula to obtain the value. In this case our \n",
    "Chi-squared statistic was 0.6731. Post obtaining this value we need to calculate the degree of freedom using the below formula\n",
    "\n",
    "$$Degree\\space of\\space Freedom = (number\\space of\\space rows - 1)(number\\space of\\space columns - 1)$$\n",
    "\n",
    "In this example, we got the degree of freedom as 1. Further we check Chi-squared distribution table at first row(based on degree of freedom) to obtain the p-value matching to Chi-squared statistic value. In this case we could find the p-value is 0.900. \n",
    "\n",
    "Since p-value is greater than significance value, we can accept null hypothesis and hence conclude that \n",
    "is_instructor' and 'search_ui' are independant\n",
    "\n",
    "\n",
    "\n"
   ]
  },
  {
   "cell_type": "markdown",
   "metadata": {},
   "source": [
    "## Submission"
   ]
  },
  {
   "cell_type": "markdown",
   "metadata": {},
   "source": [
    "Complete the code in this notebook, and submit it to the CourSys activity Assignment 7."
   ]
  }
 ],
 "metadata": {
  "kernelspec": {
   "display_name": "Python 3",
   "language": "python",
   "name": "python3"
  },
  "language_info": {
   "codemirror_mode": {
    "name": "ipython",
    "version": 3
   },
   "file_extension": ".py",
   "mimetype": "text/x-python",
   "name": "python",
   "nbconvert_exporter": "python",
   "pygments_lexer": "ipython3",
   "version": "3.6.9"
  }
 },
 "nbformat": 4,
 "nbformat_minor": 2
}
