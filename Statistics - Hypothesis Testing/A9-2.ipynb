{
 "cells": [
  {
   "cell_type": "markdown",
   "metadata": {},
   "source": [
    "# Assignment 9: Causal Inference (Part 2)\n",
    "\n",
    "## Objective:\n",
    "\n",
    "Causal inference is the process of drawing a conclusion about a causal connection based on the conditions of the occurrence of an effect. It is a very powerful and widely-used tool in real-world applications and scenarios. In this assignment, you are expected to apply the basic concepts of causal inference to solve problems on real datasets and be able to achieve the following goals.\n",
    "\n",
    "* Understand why causality is needed.\n",
    "* Understand what is causality, particularly the difference between causality and correlation.\n",
    "* Understand how to estimate counterfactual results.\n",
    "* Understand how to use the graphical model to represent causality.\n",
    "* Can use some tools (e.g., dowhy) to infer causality, express causality and estimate treatment effects."
   ]
  },
  {
   "cell_type": "markdown",
   "metadata": {},
   "source": [
    "# 0. Preparation"
   ]
  },
  {
   "cell_type": "code",
   "execution_count": 14,
   "metadata": {},
   "outputs": [],
   "source": [
    "import numpy as np\n",
    "import pandas as pd\n",
    "from dataprep.eda import plot\n",
    "pd.options.mode.chained_assignment = None"
   ]
  },
  {
   "cell_type": "markdown",
   "metadata": {},
   "source": [
    "In this assignment, you are going to use the [Lalonde](lalonde.csv) dataset. Each tuple in the dataset represents an individual who was enrolled (or not enrolled) in a job training program. It aims to evaluate the effectiveness of a job training program (the treatment variable) on the real earnings of an individual, after completing the program for years. \n",
    "\n",
    "The dataset consists of a number of demographic variables, like age, race, academic background, marriage status, and previous real earnings in 1974, 1975 as well as a treatment indicator, and the real earnings in the year 1978 (the outcome variable)."
   ]
  },
  {
   "cell_type": "code",
   "execution_count": 15,
   "metadata": {},
   "outputs": [
    {
     "data": {
      "text/html": [
       "<div>\n",
       "<style scoped>\n",
       "    .dataframe tbody tr th:only-of-type {\n",
       "        vertical-align: middle;\n",
       "    }\n",
       "\n",
       "    .dataframe tbody tr th {\n",
       "        vertical-align: top;\n",
       "    }\n",
       "\n",
       "    .dataframe thead th {\n",
       "        text-align: right;\n",
       "    }\n",
       "</style>\n",
       "<table border=\"1\" class=\"dataframe\">\n",
       "  <thead>\n",
       "    <tr style=\"text-align: right;\">\n",
       "      <th></th>\n",
       "      <th>treat</th>\n",
       "      <th>age</th>\n",
       "      <th>educ</th>\n",
       "      <th>black</th>\n",
       "      <th>hispan</th>\n",
       "      <th>married</th>\n",
       "      <th>nodegree</th>\n",
       "      <th>re74</th>\n",
       "      <th>re75</th>\n",
       "      <th>re78</th>\n",
       "    </tr>\n",
       "    <tr>\n",
       "      <th>id</th>\n",
       "      <th></th>\n",
       "      <th></th>\n",
       "      <th></th>\n",
       "      <th></th>\n",
       "      <th></th>\n",
       "      <th></th>\n",
       "      <th></th>\n",
       "      <th></th>\n",
       "      <th></th>\n",
       "      <th></th>\n",
       "    </tr>\n",
       "  </thead>\n",
       "  <tbody>\n",
       "    <tr>\n",
       "      <th>NSW1</th>\n",
       "      <td>1</td>\n",
       "      <td>37</td>\n",
       "      <td>11</td>\n",
       "      <td>1</td>\n",
       "      <td>0</td>\n",
       "      <td>1</td>\n",
       "      <td>1</td>\n",
       "      <td>0.0</td>\n",
       "      <td>0.0</td>\n",
       "      <td>9930.0460</td>\n",
       "    </tr>\n",
       "    <tr>\n",
       "      <th>NSW2</th>\n",
       "      <td>1</td>\n",
       "      <td>22</td>\n",
       "      <td>9</td>\n",
       "      <td>0</td>\n",
       "      <td>1</td>\n",
       "      <td>0</td>\n",
       "      <td>1</td>\n",
       "      <td>0.0</td>\n",
       "      <td>0.0</td>\n",
       "      <td>3595.8940</td>\n",
       "    </tr>\n",
       "    <tr>\n",
       "      <th>NSW3</th>\n",
       "      <td>1</td>\n",
       "      <td>30</td>\n",
       "      <td>12</td>\n",
       "      <td>1</td>\n",
       "      <td>0</td>\n",
       "      <td>0</td>\n",
       "      <td>0</td>\n",
       "      <td>0.0</td>\n",
       "      <td>0.0</td>\n",
       "      <td>24909.4500</td>\n",
       "    </tr>\n",
       "    <tr>\n",
       "      <th>NSW4</th>\n",
       "      <td>1</td>\n",
       "      <td>27</td>\n",
       "      <td>11</td>\n",
       "      <td>1</td>\n",
       "      <td>0</td>\n",
       "      <td>0</td>\n",
       "      <td>1</td>\n",
       "      <td>0.0</td>\n",
       "      <td>0.0</td>\n",
       "      <td>7506.1460</td>\n",
       "    </tr>\n",
       "    <tr>\n",
       "      <th>NSW5</th>\n",
       "      <td>1</td>\n",
       "      <td>33</td>\n",
       "      <td>8</td>\n",
       "      <td>1</td>\n",
       "      <td>0</td>\n",
       "      <td>0</td>\n",
       "      <td>1</td>\n",
       "      <td>0.0</td>\n",
       "      <td>0.0</td>\n",
       "      <td>289.7899</td>\n",
       "    </tr>\n",
       "    <tr>\n",
       "      <th>...</th>\n",
       "      <td>...</td>\n",
       "      <td>...</td>\n",
       "      <td>...</td>\n",
       "      <td>...</td>\n",
       "      <td>...</td>\n",
       "      <td>...</td>\n",
       "      <td>...</td>\n",
       "      <td>...</td>\n",
       "      <td>...</td>\n",
       "      <td>...</td>\n",
       "    </tr>\n",
       "    <tr>\n",
       "      <th>PSID420</th>\n",
       "      <td>0</td>\n",
       "      <td>39</td>\n",
       "      <td>2</td>\n",
       "      <td>1</td>\n",
       "      <td>0</td>\n",
       "      <td>1</td>\n",
       "      <td>1</td>\n",
       "      <td>0.0</td>\n",
       "      <td>0.0</td>\n",
       "      <td>964.9555</td>\n",
       "    </tr>\n",
       "    <tr>\n",
       "      <th>PSID421</th>\n",
       "      <td>0</td>\n",
       "      <td>55</td>\n",
       "      <td>8</td>\n",
       "      <td>0</td>\n",
       "      <td>0</td>\n",
       "      <td>1</td>\n",
       "      <td>1</td>\n",
       "      <td>0.0</td>\n",
       "      <td>0.0</td>\n",
       "      <td>0.0000</td>\n",
       "    </tr>\n",
       "    <tr>\n",
       "      <th>PSID422</th>\n",
       "      <td>0</td>\n",
       "      <td>16</td>\n",
       "      <td>9</td>\n",
       "      <td>0</td>\n",
       "      <td>0</td>\n",
       "      <td>0</td>\n",
       "      <td>1</td>\n",
       "      <td>0.0</td>\n",
       "      <td>0.0</td>\n",
       "      <td>5551.8190</td>\n",
       "    </tr>\n",
       "    <tr>\n",
       "      <th>PSID423</th>\n",
       "      <td>0</td>\n",
       "      <td>27</td>\n",
       "      <td>10</td>\n",
       "      <td>1</td>\n",
       "      <td>0</td>\n",
       "      <td>0</td>\n",
       "      <td>1</td>\n",
       "      <td>0.0</td>\n",
       "      <td>0.0</td>\n",
       "      <td>7543.7940</td>\n",
       "    </tr>\n",
       "    <tr>\n",
       "      <th>PSID424</th>\n",
       "      <td>0</td>\n",
       "      <td>25</td>\n",
       "      <td>14</td>\n",
       "      <td>0</td>\n",
       "      <td>0</td>\n",
       "      <td>0</td>\n",
       "      <td>0</td>\n",
       "      <td>0.0</td>\n",
       "      <td>0.0</td>\n",
       "      <td>0.0000</td>\n",
       "    </tr>\n",
       "  </tbody>\n",
       "</table>\n",
       "<p>609 rows × 10 columns</p>\n",
       "</div>"
      ],
      "text/plain": [
       "         treat  age  educ  black  hispan  married  nodegree  re74  re75  \\\n",
       "id                                                                        \n",
       "NSW1         1   37    11      1       0        1         1   0.0   0.0   \n",
       "NSW2         1   22     9      0       1        0         1   0.0   0.0   \n",
       "NSW3         1   30    12      1       0        0         0   0.0   0.0   \n",
       "NSW4         1   27    11      1       0        0         1   0.0   0.0   \n",
       "NSW5         1   33     8      1       0        0         1   0.0   0.0   \n",
       "...        ...  ...   ...    ...     ...      ...       ...   ...   ...   \n",
       "PSID420      0   39     2      1       0        1         1   0.0   0.0   \n",
       "PSID421      0   55     8      0       0        1         1   0.0   0.0   \n",
       "PSID422      0   16     9      0       0        0         1   0.0   0.0   \n",
       "PSID423      0   27    10      1       0        0         1   0.0   0.0   \n",
       "PSID424      0   25    14      0       0        0         0   0.0   0.0   \n",
       "\n",
       "               re78  \n",
       "id                   \n",
       "NSW1      9930.0460  \n",
       "NSW2      3595.8940  \n",
       "NSW3     24909.4500  \n",
       "NSW4      7506.1460  \n",
       "NSW5       289.7899  \n",
       "...             ...  \n",
       "PSID420    964.9555  \n",
       "PSID421      0.0000  \n",
       "PSID422   5551.8190  \n",
       "PSID423   7543.7940  \n",
       "PSID424      0.0000  \n",
       "\n",
       "[609 rows x 10 columns]"
      ]
     },
     "execution_count": 15,
     "metadata": {},
     "output_type": "execute_result"
    }
   ],
   "source": [
    "lalonde = pd.read_csv('lalonde.csv', index_col=0)\n",
    "lalonde.head()\n",
    "lalonde.head(-5)"
   ]
  },
  {
   "cell_type": "code",
   "execution_count": 45,
   "metadata": {},
   "outputs": [
    {
     "data": {
      "text/html": [
       "\n",
       "\n",
       "\n",
       "\n",
       "\n",
       "\n",
       "  <div class=\"bk-root\" id=\"20c64847-de5b-45e3-b807-dfd022cf9c47\" data-root-id=\"2204\"></div>\n"
      ]
     },
     "metadata": {},
     "output_type": "display_data"
    },
    {
     "data": {
      "application/javascript": [
       "(function(root) {\n",
       "  function embed_document(root) {\n",
       "    \n",
       "  var docs_json = {\"b217b3bf-a217-4b9b-80e4-248ef54faa78\":{\"roots\":{\"references\":[{\"attributes\":{\"children\":[[{\"id\":\"1814\",\"subtype\":\"Figure\",\"type\":\"Plot\"},0,0],[{\"id\":\"1846\",\"subtype\":\"Figure\",\"type\":\"Plot\"},0,1],[{\"id\":\"1878\",\"subtype\":\"Figure\",\"type\":\"Plot\"},0,2],[{\"id\":\"1910\",\"subtype\":\"Figure\",\"type\":\"Plot\"},1,0],[{\"id\":\"1942\",\"subtype\":\"Figure\",\"type\":\"Plot\"},1,1],[{\"id\":\"1974\",\"subtype\":\"Figure\",\"type\":\"Plot\"},1,2],[{\"id\":\"2006\",\"subtype\":\"Figure\",\"type\":\"Plot\"},2,0],[{\"id\":\"2038\",\"subtype\":\"Figure\",\"type\":\"Plot\"},2,1],[{\"id\":\"2070\",\"subtype\":\"Figure\",\"type\":\"Plot\"},2,2],[{\"id\":\"2102\",\"subtype\":\"Figure\",\"type\":\"Plot\"},3,0]]},\"id\":\"2204\",\"type\":\"GridBox\"},{\"attributes\":{},\"id\":\"2145\",\"type\":\"UnionRenderers\"},{\"attributes\":{},\"id\":\"2146\",\"type\":\"Selection\"},{\"attributes\":{},\"id\":\"2149\",\"type\":\"BasicTickFormatter\"},{\"attributes\":{},\"id\":\"1917\",\"type\":\"LinearScale\"},{\"attributes\":{},\"id\":\"1826\",\"type\":\"BasicTicker\"},{\"attributes\":{},\"id\":\"2150\",\"type\":\"BasicTickFormatter\"},{\"attributes\":{\"grid_line_color\":null,\"ticker\":{\"id\":\"1826\",\"type\":\"BasicTicker\"}},\"id\":\"1829\",\"type\":\"Grid\"},{\"attributes\":{},\"id\":\"2152\",\"type\":\"UnionRenderers\"},{\"attributes\":{\"source\":{\"id\":\"1900\",\"type\":\"ColumnDataSource\"}},\"id\":\"1905\",\"type\":\"CDSView\"},{\"attributes\":{},\"id\":\"2153\",\"type\":\"Selection\"},{\"attributes\":{\"below\":[{\"id\":\"1825\",\"type\":\"LinearAxis\"}],\"center\":[{\"id\":\"1829\",\"type\":\"Grid\"},{\"id\":\"1834\",\"type\":\"Grid\"}],\"left\":[{\"id\":\"1830\",\"type\":\"LinearAxis\"}],\"plot_height\":300,\"plot_width\":324,\"renderers\":[{\"id\":\"1840\",\"type\":\"GlyphRenderer\"}],\"title\":{\"id\":\"1815\",\"type\":\"Title\"},\"toolbar\":{\"id\":\"1835\",\"type\":\"Toolbar\"},\"toolbar_location\":null,\"x_range\":{\"id\":\"1817\",\"type\":\"DataRange1d\"},\"x_scale\":{\"id\":\"1821\",\"type\":\"LinearScale\"},\"y_range\":{\"id\":\"1819\",\"type\":\"DataRange1d\"},\"y_scale\":{\"id\":\"1823\",\"type\":\"LinearScale\"}},\"id\":\"1814\",\"subtype\":\"Figure\",\"type\":\"Plot\"},{\"attributes\":{},\"id\":\"2156\",\"type\":\"BasicTickFormatter\"},{\"attributes\":{},\"id\":\"2159\",\"type\":\"UnionRenderers\"},{\"attributes\":{},\"id\":\"2160\",\"type\":\"Selection\"},{\"attributes\":{},\"id\":\"2163\",\"type\":\"BasicTickFormatter\"},{\"attributes\":{\"bottom\":{\"value\":0.01},\"fill_alpha\":{\"value\":0.5},\"fill_color\":{\"value\":\"#6baed6\"},\"left\":{\"field\":\"left\"},\"line_alpha\":{\"value\":0.5},\"line_color\":{\"value\":\"#1f77b4\"},\"right\":{\"field\":\"right\"},\"top\":{\"field\":\"freq\"}},\"id\":\"2030\",\"type\":\"Quad\"},{\"attributes\":{},\"id\":\"2164\",\"type\":\"BasicTickFormatter\"},{\"attributes\":{},\"id\":\"2166\",\"type\":\"UnionRenderers\"},{\"attributes\":{},\"id\":\"2167\",\"type\":\"Selection\"},{\"attributes\":{},\"id\":\"2170\",\"type\":\"BasicTickFormatter\"},{\"attributes\":{},\"id\":\"2171\",\"type\":\"BasicTickFormatter\"},{\"attributes\":{\"dimension\":1,\"grid_line_color\":null,\"ticker\":{\"id\":\"1895\",\"type\":\"BasicTicker\"}},\"id\":\"1898\",\"type\":\"Grid\"},{\"attributes\":{},\"id\":\"2173\",\"type\":\"UnionRenderers\"},{\"attributes\":{\"data_source\":{\"id\":\"1900\",\"type\":\"ColumnDataSource\"},\"glyph\":{\"id\":\"1902\",\"type\":\"Quad\"},\"hover_glyph\":null,\"muted_glyph\":null,\"nonselection_glyph\":{\"id\":\"1903\",\"type\":\"Quad\"},\"selection_glyph\":null,\"view\":{\"id\":\"1905\",\"type\":\"CDSView\"}},\"id\":\"1904\",\"type\":\"GlyphRenderer\"},{\"attributes\":{},\"id\":\"2174\",\"type\":\"Selection\"},{\"attributes\":{},\"id\":\"2177\",\"type\":\"BasicTickFormatter\"},{\"attributes\":{\"callback\":null,\"mode\":\"vline\",\"tooltips\":[[\"Bin\",\"@intervals\"],[\"Frequency\",\"@freq\"],[\"Percent\",\"@pct{0.2f}%\"]]},\"id\":\"1906\",\"type\":\"HoverTool\"},{\"attributes\":{},\"id\":\"2178\",\"type\":\"BasicTickFormatter\"},{\"attributes\":{},\"id\":\"2180\",\"type\":\"UnionRenderers\"},{\"attributes\":{},\"id\":\"2181\",\"type\":\"Selection\"},{\"attributes\":{},\"id\":\"2184\",\"type\":\"BasicTickFormatter\"},{\"attributes\":{},\"id\":\"2185\",\"type\":\"BasicTickFormatter\"},{\"attributes\":{\"below\":[{\"id\":\"1921\",\"type\":\"LinearAxis\"}],\"center\":[{\"id\":\"1925\",\"type\":\"Grid\"},{\"id\":\"1930\",\"type\":\"Grid\"}],\"left\":[{\"id\":\"1926\",\"type\":\"LinearAxis\"}],\"plot_height\":300,\"plot_width\":324,\"renderers\":[{\"id\":\"1936\",\"type\":\"GlyphRenderer\"}],\"title\":{\"id\":\"1911\",\"type\":\"Title\"},\"toolbar\":{\"id\":\"1931\",\"type\":\"Toolbar\"},\"toolbar_location\":null,\"x_range\":{\"id\":\"1913\",\"type\":\"DataRange1d\"},\"x_scale\":{\"id\":\"1917\",\"type\":\"LinearScale\"},\"y_range\":{\"id\":\"1915\",\"type\":\"DataRange1d\"},\"y_scale\":{\"id\":\"1919\",\"type\":\"LinearScale\"}},\"id\":\"1910\",\"subtype\":\"Figure\",\"type\":\"Plot\"},{\"attributes\":{},\"id\":\"2187\",\"type\":\"UnionRenderers\"},{\"attributes\":{},\"id\":\"1919\",\"type\":\"LinearScale\"},{\"attributes\":{},\"id\":\"2188\",\"type\":\"Selection\"},{\"attributes\":{},\"id\":\"2191\",\"type\":\"BasicTickFormatter\"},{\"attributes\":{\"callback\":null,\"data\":{\"freq\":[429,0,0,0,0,0,0,0,0,185],\"index\":[0,1,2,3,4,5,6,7,8,9],\"intervals\":[\"[0.0,0.1)\",\"[0.1,0.2)\",\"[0.2,0.3)\",\"[0.3,0.4)\",\"[0.4,0.5)\",\"[0.5,0.6)\",\"[0.6,0.7)\",\"[0.7,0.8)\",\"[0.8,0.9)\",\"[0.9,1.0]\"],\"left\":{\"__ndarray__\":\"AAAAAAAAAACamZmZmZm5P5qZmZmZmck/NDMzMzMz0z+amZmZmZnZPwAAAAAAAOA/NDMzMzMz4z9nZmZmZmbmP5qZmZmZmek/zczMzMzM7D8=\",\"dtype\":\"float64\",\"shape\":[10]},\"pct\":{\"__ndarray__\":\"hiXhRql3UUAAAAAAAAAAAAAAAAAAAAAAAAAAAAAAAAAAAAAAAAAAAAAAAAAAAAAAAAAAAAAAAAAAAAAAAAAAAAAAAAAAAAAA6Gl75FohPkA=\",\"dtype\":\"float64\",\"shape\":[10]},\"right\":{\"__ndarray__\":\"mpmZmZmZuT+amZmZmZnJPzQzMzMzM9M/mpmZmZmZ2T8AAAAAAADgPzQzMzMzM+M/Z2ZmZmZm5j+amZmZmZnpP83MzMzMzOw/AAAAAAAA8D8=\",\"dtype\":\"float64\",\"shape\":[10]}},\"selected\":{\"id\":\"2139\",\"type\":\"Selection\"},\"selection_policy\":{\"id\":\"2138\",\"type\":\"UnionRenderers\"}},\"id\":\"1836\",\"type\":\"ColumnDataSource\"},{\"attributes\":{},\"id\":\"2192\",\"type\":\"BasicTickFormatter\"},{\"attributes\":{},\"id\":\"2194\",\"type\":\"UnionRenderers\"},{\"attributes\":{},\"id\":\"2195\",\"type\":\"Selection\"},{\"attributes\":{\"callback\":null},\"id\":\"1915\",\"type\":\"DataRange1d\"},{\"attributes\":{},\"id\":\"2198\",\"type\":\"BasicTickFormatter\"},{\"attributes\":{\"callback\":null},\"id\":\"1817\",\"type\":\"DataRange1d\"},{\"attributes\":{\"text\":\"treat\",\"text_font_size\":{\"value\":\"10pt\"}},\"id\":\"1815\",\"type\":\"Title\"},{\"attributes\":{},\"id\":\"2199\",\"type\":\"BasicTickFormatter\"},{\"attributes\":{},\"id\":\"2201\",\"type\":\"UnionRenderers\"},{\"attributes\":{},\"id\":\"2202\",\"type\":\"Selection\"},{\"attributes\":{\"below\":[{\"id\":\"1985\",\"type\":\"LinearAxis\"}],\"center\":[{\"id\":\"1989\",\"type\":\"Grid\"},{\"id\":\"1994\",\"type\":\"Grid\"}],\"left\":[{\"id\":\"1990\",\"type\":\"LinearAxis\"}],\"plot_height\":300,\"plot_width\":324,\"renderers\":[{\"id\":\"2000\",\"type\":\"GlyphRenderer\"}],\"title\":{\"id\":\"1975\",\"type\":\"Title\"},\"toolbar\":{\"id\":\"1995\",\"type\":\"Toolbar\"},\"toolbar_location\":null,\"x_range\":{\"id\":\"1977\",\"type\":\"DataRange1d\"},\"x_scale\":{\"id\":\"1981\",\"type\":\"LinearScale\"},\"y_range\":{\"id\":\"1979\",\"type\":\"DataRange1d\"},\"y_scale\":{\"id\":\"1983\",\"type\":\"LinearScale\"}},\"id\":\"1974\",\"subtype\":\"Figure\",\"type\":\"Plot\"},{\"attributes\":{\"data_source\":{\"id\":\"1836\",\"type\":\"ColumnDataSource\"},\"glyph\":{\"id\":\"1838\",\"type\":\"Quad\"},\"hover_glyph\":null,\"muted_glyph\":null,\"nonselection_glyph\":{\"id\":\"1839\",\"type\":\"Quad\"},\"selection_glyph\":null,\"view\":{\"id\":\"1841\",\"type\":\"CDSView\"}},\"id\":\"1840\",\"type\":\"GlyphRenderer\"},{\"attributes\":{},\"id\":\"2087\",\"type\":\"BasicTicker\"},{\"attributes\":{\"formatter\":{\"id\":\"2156\",\"type\":\"BasicTickFormatter\"},\"major_label_orientation\":1.0471975511965976,\"major_label_text_font_size\":{\"value\":\"9pt\"},\"minor_tick_line_color\":{\"value\":null},\"ticker\":{\"id\":\"1940\",\"type\":\"FixedTicker\"}},\"id\":\"1921\",\"type\":\"LinearAxis\"},{\"attributes\":{\"callback\":null,\"data\":{\"freq\":[359,0,0,0,0,0,0,0,0,255],\"index\":[0,1,2,3,4,5,6,7,8,9],\"intervals\":[\"[0.0,0.1)\",\"[0.1,0.2)\",\"[0.2,0.3)\",\"[0.3,0.4)\",\"[0.4,0.5)\",\"[0.5,0.6)\",\"[0.6,0.7)\",\"[0.7,0.8)\",\"[0.8,0.9)\",\"[0.9,1.0]\"],\"left\":{\"__ndarray__\":\"AAAAAAAAAACamZmZmZm5P5qZmZmZmck/NDMzMzMz0z+amZmZmZnZPwAAAAAAAOA/NDMzMzMz4z9nZmZmZmbmP5qZmZmZmek/zczMzMzM7D8=\",\"dtype\":\"float64\",\"shape\":[10]},\"pct\":{\"__ndarray__\":\"1PGqAQo8TUAAAAAAAAAAAAAAAAAAAAAAAAAAAAAAAAAAAAAAAAAAAAAAAAAAAAAAAAAAAAAAAAAAAAAAAAAAAAAAAAAAAAAALQ5V/vXDREA=\",\"dtype\":\"float64\",\"shape\":[10]},\"right\":{\"__ndarray__\":\"mpmZmZmZuT+amZmZmZnJPzQzMzMzM9M/mpmZmZmZ2T8AAAAAAADgPzQzMzMzM+M/Z2ZmZmZm5j+amZmZmZnpP83MzMzMzOw/AAAAAAAA8D8=\",\"dtype\":\"float64\",\"shape\":[10]}},\"selected\":{\"id\":\"2174\",\"type\":\"Selection\"},\"selection_policy\":{\"id\":\"2173\",\"type\":\"UnionRenderers\"}},\"id\":\"1996\",\"type\":\"ColumnDataSource\"},{\"attributes\":{\"source\":{\"id\":\"2028\",\"type\":\"ColumnDataSource\"}},\"id\":\"2033\",\"type\":\"CDSView\"},{\"attributes\":{\"dimension\":1,\"grid_line_color\":null,\"ticker\":{\"id\":\"2087\",\"type\":\"BasicTicker\"}},\"id\":\"2090\",\"type\":\"Grid\"},{\"attributes\":{\"source\":{\"id\":\"1836\",\"type\":\"ColumnDataSource\"}},\"id\":\"1841\",\"type\":\"CDSView\"},{\"attributes\":{\"active_drag\":\"auto\",\"active_inspect\":\"auto\",\"active_multi\":null,\"active_scroll\":\"auto\",\"active_tap\":\"auto\",\"tools\":[{\"id\":\"1906\",\"type\":\"HoverTool\"}]},\"id\":\"1899\",\"type\":\"Toolbar\"},{\"attributes\":{},\"id\":\"1922\",\"type\":\"BasicTicker\"},{\"attributes\":{\"ticks\":[0.0,0.1,0.2,0.30000000000000004,0.4,0.5,0.6000000000000001,0.7000000000000001,0.8,0.9,1.0]},\"id\":\"1972\",\"type\":\"FixedTicker\"},{\"attributes\":{\"active_drag\":\"auto\",\"active_inspect\":\"auto\",\"active_multi\":null,\"active_scroll\":\"auto\",\"active_tap\":\"auto\",\"tools\":[{\"id\":\"2098\",\"type\":\"HoverTool\"}]},\"id\":\"2091\",\"type\":\"Toolbar\"},{\"attributes\":{\"callback\":null,\"mode\":\"vline\",\"tooltips\":[[\"Bin\",\"@intervals\"],[\"Frequency\",\"@freq\"],[\"Percent\",\"@pct{0.2f}%\"]]},\"id\":\"1842\",\"type\":\"HoverTool\"},{\"attributes\":{\"callback\":null,\"mode\":\"vline\",\"tooltips\":[[\"Bin\",\"@intervals\"],[\"Frequency\",\"@freq\"],[\"Percent\",\"@pct{0.2f}%\"]]},\"id\":\"2034\",\"type\":\"HoverTool\"},{\"attributes\":{\"grid_line_color\":null,\"ticker\":{\"id\":\"1922\",\"type\":\"BasicTicker\"}},\"id\":\"1925\",\"type\":\"Grid\"},{\"attributes\":{\"text\":\"married\",\"text_font_size\":{\"value\":\"10pt\"}},\"id\":\"1975\",\"type\":\"Title\"},{\"attributes\":{\"below\":[{\"id\":\"2049\",\"type\":\"LinearAxis\"}],\"center\":[{\"id\":\"2053\",\"type\":\"Grid\"},{\"id\":\"2058\",\"type\":\"Grid\"}],\"left\":[{\"id\":\"2054\",\"type\":\"LinearAxis\"}],\"plot_height\":300,\"plot_width\":324,\"renderers\":[{\"id\":\"2064\",\"type\":\"GlyphRenderer\"}],\"title\":{\"id\":\"2039\",\"type\":\"Title\"},\"toolbar\":{\"id\":\"2059\",\"type\":\"Toolbar\"},\"toolbar_location\":null,\"x_range\":{\"id\":\"2041\",\"type\":\"DataRange1d\"},\"x_scale\":{\"id\":\"2045\",\"type\":\"LinearScale\"},\"y_range\":{\"id\":\"2043\",\"type\":\"DataRange1d\"},\"y_scale\":{\"id\":\"2047\",\"type\":\"LinearScale\"}},\"id\":\"2038\",\"subtype\":\"Figure\",\"type\":\"Plot\"},{\"attributes\":{\"below\":[{\"id\":\"1857\",\"type\":\"LinearAxis\"}],\"center\":[{\"id\":\"1861\",\"type\":\"Grid\"},{\"id\":\"1866\",\"type\":\"Grid\"}],\"left\":[{\"id\":\"1862\",\"type\":\"LinearAxis\"}],\"plot_height\":300,\"plot_width\":324,\"renderers\":[{\"id\":\"1872\",\"type\":\"GlyphRenderer\"}],\"title\":{\"id\":\"1847\",\"type\":\"Title\"},\"toolbar\":{\"id\":\"1867\",\"type\":\"Toolbar\"},\"toolbar_location\":null,\"x_range\":{\"id\":\"1849\",\"type\":\"DataRange1d\"},\"x_scale\":{\"id\":\"1853\",\"type\":\"LinearScale\"},\"y_range\":{\"id\":\"1851\",\"type\":\"DataRange1d\"},\"y_scale\":{\"id\":\"1855\",\"type\":\"LinearScale\"}},\"id\":\"1846\",\"subtype\":\"Figure\",\"type\":\"Plot\"},{\"attributes\":{\"axis_label\":\"Frequency\",\"formatter\":{\"id\":\"2157\",\"type\":\"BasicTickFormatter\"},\"major_label_text_font_size\":{\"value\":\"0pt\"},\"major_tick_line_color\":{\"value\":null},\"minor_tick_line_color\":{\"value\":null},\"ticker\":{\"id\":\"1927\",\"type\":\"BasicTicker\"}},\"id\":\"1926\",\"type\":\"LinearAxis\"},{\"attributes\":{\"callback\":null},\"id\":\"1977\",\"type\":\"DataRange1d\"},{\"attributes\":{\"data_source\":{\"id\":\"2092\",\"type\":\"ColumnDataSource\"},\"glyph\":{\"id\":\"2094\",\"type\":\"Quad\"},\"hover_glyph\":null,\"muted_glyph\":null,\"nonselection_glyph\":{\"id\":\"2095\",\"type\":\"Quad\"},\"selection_glyph\":null,\"view\":{\"id\":\"2097\",\"type\":\"CDSView\"}},\"id\":\"2096\",\"type\":\"GlyphRenderer\"},{\"attributes\":{\"callback\":null,\"data\":{\"freq\":[153,124,113,62,35,35,34,23,20,15],\"index\":[0,1,2,3,4,5,6,7,8,9],\"intervals\":[\"[16.0,19.9)\",\"[19.9,23.8)\",\"[23.8,27.7)\",\"[27.7,31.6)\",\"[31.6,35.5)\",\"[35.5,39.4)\",\"[39.4,43.3)\",\"[43.3,47.2)\",\"[47.2,51.1)\",\"[51.1,55.0]\"],\"left\":{\"__ndarray__\":\"AAAAAAAAMEBmZmZmZuYzQM3MzMzMzDdAMzMzMzOzO0CamZmZmZk/QAAAAAAAwEFAMzMzMzOzQ0BmZmZmZqZFQJqZmZmZmUdAzczMzMyMSUA=\",\"dtype\":\"float64\",\"shape\":[10]},\"pct\":{\"__ndarray__\":\"0N0yMSfrOEDbHrlWCDI0QLIuGJFmZzJA2x65VggyJEDmZF0wIs0WQOZkXTAizRZAY1P0uVsmFkCHJeFGqfcNQHW8aoACDwpAWA1Q4EGLA0A=\",\"dtype\":\"float64\",\"shape\":[10]},\"right\":{\"__ndarray__\":\"ZmZmZmbmM0DNzMzMzMw3QDMzMzMzsztAmpmZmZmZP0AAAAAAAMBBQDMzMzMzs0NAZmZmZmamRUCamZmZmZlHQM3MzMzMjElAAAAAAACAS0A=\",\"dtype\":\"float64\",\"shape\":[10]}},\"selected\":{\"id\":\"2146\",\"type\":\"Selection\"},\"selection_policy\":{\"id\":\"2145\",\"type\":\"UnionRenderers\"}},\"id\":\"1868\",\"type\":\"ColumnDataSource\"},{\"attributes\":{\"callback\":null,\"data\":{\"freq\":[388,59,56,46,28,17,10,9,0,1],\"index\":[0,1,2,3,4,5,6,7,8,9],\"intervals\":[\"[0.0,3504.007)\",\"[3504.007,7008.014)\",\"[7008.014,10512.021)\",\"[10512.021,14016.028)\",\"[14016.028,17520.035)\",\"[17520.035,21024.042)\",\"[21024.042,24528.049)\",\"[24528.049,28032.056)\",\"[28032.056,31536.063)\",\"[31536.063,35040.07]\"],\"left\":{\"__ndarray__\":\"AAAAAAAAAAAlBoGVA2CrQCUGgZUDYLtAnMQgsAKIxEAlBoGVA2DLQNejcD0CHNFAnMQgsAKI1EBg5dAiA/TXQCUGgZUDYNtA6iYxCATM3kA=\",\"dtype\":\"float64\",\"shape\":[10]},\"pct\":{\"__ndarray__\":\"TdHnbpmYT0CWhBul3jcjQFLqffO0PSJAhyXhRqn3HUBS6n3ztD0SQGNT9LlbJgZAdbxqgAIP+j9pdsam6HP3PwAAAAAAAAAAXjAizc7YxD8=\",\"dtype\":\"float64\",\"shape\":[10]},\"right\":{\"__ndarray__\":\"JQaBlQNgq0AlBoGVA2C7QJzEILACiMRAJQaBlQNgy0DXo3A9AhzRQJzEILACiNRAYOXQIgP010AlBoGVA2DbQOomMQgEzN5A16NwPQIc4UA=\",\"dtype\":\"float64\",\"shape\":[10]}},\"selected\":{\"id\":\"2188\",\"type\":\"Selection\"},\"selection_policy\":{\"id\":\"2187\",\"type\":\"UnionRenderers\"}},\"id\":\"2060\",\"type\":\"ColumnDataSource\"},{\"attributes\":{\"callback\":null},\"id\":\"1979\",\"type\":\"DataRange1d\"},{\"attributes\":{},\"id\":\"1927\",\"type\":\"BasicTicker\"},{\"attributes\":{\"ticks\":[0.0,0.1,0.2,0.30000000000000004,0.4,0.5,0.6000000000000001,0.7000000000000001,0.8,0.9,1.0]},\"id\":\"2036\",\"type\":\"FixedTicker\"},{\"attributes\":{\"ticks\":[0.0,0.1,0.2,0.30000000000000004,0.4,0.5,0.6000000000000001,0.7000000000000001,0.8,0.9,1.0]},\"id\":\"1844\",\"type\":\"FixedTicker\"},{\"attributes\":{\"bottom\":{\"value\":0.01},\"fill_alpha\":{\"value\":0.5},\"fill_color\":{\"value\":\"#6baed6\"},\"left\":{\"field\":\"left\"},\"line_alpha\":{\"value\":0.5},\"line_color\":{\"value\":\"#1f77b4\"},\"right\":{\"field\":\"right\"},\"top\":{\"field\":\"freq\"}},\"id\":\"2094\",\"type\":\"Quad\"},{\"attributes\":{\"dimension\":1,\"grid_line_color\":null,\"ticker\":{\"id\":\"1927\",\"type\":\"BasicTicker\"}},\"id\":\"1930\",\"type\":\"Grid\"},{\"attributes\":{},\"id\":\"1981\",\"type\":\"LinearScale\"},{\"attributes\":{\"text\":\"re74\",\"text_font_size\":{\"value\":\"10pt\"}},\"id\":\"2039\",\"type\":\"Title\"},{\"attributes\":{\"text\":\"age\",\"text_font_size\":{\"value\":\"10pt\"}},\"id\":\"1847\",\"type\":\"Title\"},{\"attributes\":{\"active_drag\":\"auto\",\"active_inspect\":\"auto\",\"active_multi\":null,\"active_scroll\":\"auto\",\"active_tap\":\"auto\",\"tools\":[{\"id\":\"1938\",\"type\":\"HoverTool\"}]},\"id\":\"1931\",\"type\":\"Toolbar\"},{\"attributes\":{},\"id\":\"1983\",\"type\":\"LinearScale\"},{\"attributes\":{\"callback\":null},\"id\":\"2041\",\"type\":\"DataRange1d\"},{\"attributes\":{\"callback\":null},\"id\":\"1849\",\"type\":\"DataRange1d\"},{\"attributes\":{\"source\":{\"id\":\"2092\",\"type\":\"ColumnDataSource\"}},\"id\":\"2097\",\"type\":\"CDSView\"},{\"attributes\":{\"bottom\":{\"value\":0.01},\"fill_alpha\":{\"value\":0.1},\"fill_color\":{\"value\":\"#1f77b4\"},\"left\":{\"field\":\"left\"},\"line_alpha\":{\"value\":0.1},\"line_color\":{\"value\":\"#1f77b4\"},\"right\":{\"field\":\"right\"},\"top\":{\"field\":\"freq\"}},\"id\":\"2095\",\"type\":\"Quad\"},{\"attributes\":{\"formatter\":{\"id\":\"2170\",\"type\":\"BasicTickFormatter\"},\"major_label_orientation\":1.0471975511965976,\"major_label_text_font_size\":{\"value\":\"9pt\"},\"minor_tick_line_color\":{\"value\":null},\"ticker\":{\"id\":\"2004\",\"type\":\"FixedTicker\"}},\"id\":\"1985\",\"type\":\"LinearAxis\"},{\"attributes\":{\"callback\":null},\"id\":\"2043\",\"type\":\"DataRange1d\"},{\"attributes\":{\"callback\":null},\"id\":\"1851\",\"type\":\"DataRange1d\"},{\"attributes\":{\"callback\":null,\"data\":{\"freq\":[227,0,0,0,0,0,0,0,0,387],\"index\":[0,1,2,3,4,5,6,7,8,9],\"intervals\":[\"[0.0,0.1)\",\"[0.1,0.2)\",\"[0.2,0.3)\",\"[0.3,0.4)\",\"[0.4,0.5)\",\"[0.5,0.6)\",\"[0.6,0.7)\",\"[0.7,0.8)\",\"[0.8,0.9)\",\"[0.9,1.0]\"],\"left\":{\"__ndarray__\":\"AAAAAAAAAACamZmZmZm5P5qZmZmZmck/NDMzMzMz0z+amZmZmZnZPwAAAAAAAOA/NDMzMzMz4z9nZmZmZmbmP5qZmZmZmek/zczMzMzM7D8=\",\"dtype\":\"float64\",\"shape\":[10]},\"pct\":{\"__ndarray__\":\"41DlXz98QkAAAAAAAAAAAAAAAAAAAAAAAAAAAAAAAAAAAAAAAAAAAAAAAAAAAAAAAAAAAAAAAAAAAAAAAAAAAAAAAAAAAAAAHK8aoMCDT0A=\",\"dtype\":\"float64\",\"shape\":[10]},\"right\":{\"__ndarray__\":\"mpmZmZmZuT+amZmZmZnJPzQzMzMzM9M/mpmZmZmZ2T8AAAAAAADgPzQzMzMzM+M/Z2ZmZmZm5j+amZmZmZnpP83MzMzMzOw/AAAAAAAA8D8=\",\"dtype\":\"float64\",\"shape\":[10]}},\"selected\":{\"id\":\"2181\",\"type\":\"Selection\"},\"selection_policy\":{\"id\":\"2180\",\"type\":\"UnionRenderers\"}},\"id\":\"2028\",\"type\":\"ColumnDataSource\"},{\"attributes\":{\"callback\":null,\"mode\":\"vline\",\"tooltips\":[[\"Bin\",\"@intervals\"],[\"Frequency\",\"@freq\"],[\"Percent\",\"@pct{0.2f}%\"]]},\"id\":\"2130\",\"type\":\"HoverTool\"},{\"attributes\":{\"data_source\":{\"id\":\"1932\",\"type\":\"ColumnDataSource\"},\"glyph\":{\"id\":\"1934\",\"type\":\"Quad\"},\"hover_glyph\":null,\"muted_glyph\":null,\"nonselection_glyph\":{\"id\":\"1935\",\"type\":\"Quad\"},\"selection_glyph\":null,\"view\":{\"id\":\"1937\",\"type\":\"CDSView\"}},\"id\":\"1936\",\"type\":\"GlyphRenderer\"},{\"attributes\":{},\"id\":\"2045\",\"type\":\"LinearScale\"},{\"attributes\":{},\"id\":\"1986\",\"type\":\"BasicTicker\"},{\"attributes\":{},\"id\":\"1853\",\"type\":\"LinearScale\"},{\"attributes\":{\"callback\":null,\"mode\":\"vline\",\"tooltips\":[[\"Bin\",\"@intervals\"],[\"Frequency\",\"@freq\"],[\"Percent\",\"@pct{0.2f}%\"]]},\"id\":\"2098\",\"type\":\"HoverTool\"},{\"attributes\":{\"grid_line_color\":null,\"ticker\":{\"id\":\"1986\",\"type\":\"BasicTicker\"}},\"id\":\"1989\",\"type\":\"Grid\"},{\"attributes\":{},\"id\":\"2047\",\"type\":\"LinearScale\"},{\"attributes\":{\"bottom\":{\"value\":0.01},\"fill_alpha\":{\"value\":0.5},\"fill_color\":{\"value\":\"#6baed6\"},\"left\":{\"field\":\"left\"},\"line_alpha\":{\"value\":0.5},\"line_color\":{\"value\":\"#1f77b4\"},\"right\":{\"field\":\"right\"},\"top\":{\"field\":\"freq\"}},\"id\":\"1934\",\"type\":\"Quad\"},{\"attributes\":{\"below\":[{\"id\":\"2113\",\"type\":\"LinearAxis\"}],\"center\":[{\"id\":\"2117\",\"type\":\"Grid\"},{\"id\":\"2122\",\"type\":\"Grid\"}],\"left\":[{\"id\":\"2118\",\"type\":\"LinearAxis\"}],\"plot_height\":300,\"plot_width\":324,\"renderers\":[{\"id\":\"2128\",\"type\":\"GlyphRenderer\"}],\"title\":{\"id\":\"2103\",\"type\":\"Title\"},\"toolbar\":{\"id\":\"2123\",\"type\":\"Toolbar\"},\"toolbar_location\":null,\"x_range\":{\"id\":\"2105\",\"type\":\"DataRange1d\"},\"x_scale\":{\"id\":\"2109\",\"type\":\"LinearScale\"},\"y_range\":{\"id\":\"2107\",\"type\":\"DataRange1d\"},\"y_scale\":{\"id\":\"2111\",\"type\":\"LinearScale\"}},\"id\":\"2102\",\"subtype\":\"Figure\",\"type\":\"Plot\"},{\"attributes\":{},\"id\":\"1855\",\"type\":\"LinearScale\"},{\"attributes\":{\"axis_label\":\"Frequency\",\"formatter\":{\"id\":\"2171\",\"type\":\"BasicTickFormatter\"},\"major_label_text_font_size\":{\"value\":\"0pt\"},\"major_tick_line_color\":{\"value\":null},\"minor_tick_line_color\":{\"value\":null},\"ticker\":{\"id\":\"1991\",\"type\":\"BasicTicker\"}},\"id\":\"1990\",\"type\":\"LinearAxis\"},{\"attributes\":{\"formatter\":{\"id\":\"2184\",\"type\":\"BasicTickFormatter\"},\"major_label_orientation\":1.0471975511965976,\"major_label_text_font_size\":{\"value\":\"9pt\"},\"minor_tick_line_color\":{\"value\":null},\"ticker\":{\"id\":\"2068\",\"type\":\"FixedTicker\"}},\"id\":\"2049\",\"type\":\"LinearAxis\"},{\"attributes\":{\"callback\":null,\"data\":{\"freq\":[341,138,76,36,20,1,1,0,0,1],\"index\":[0,1,2,3,4,5,6,7,8,9],\"intervals\":[\"[0.0,6030.793)\",\"[6030.793,12061.586)\",\"[12061.586,18092.379)\",\"[18092.379,24123.172)\",\"[24123.172,30153.965)\",\"[30153.965,36184.758)\",\"[36184.758,42215.551)\",\"[42215.551,48246.344)\",\"[48246.344,54277.137)\",\"[54277.137,60307.93]\"],\"left\":{\"__ndarray__\":\"AAAAAAAAAAC6SQwCy463QLpJDALLjsdATDeJQRir0UC6SQwCy47XQChcj8J9ct1ATDeJQRir4UCDwMqh8ZzkQLpJDALLjudA8dJNYqSA6kA=\",\"dtype\":\"float64\",\"shape\":[10]},\"pct\":{\"__ndarray__\":\"bYo+d8vES0Ak3Cj1vnk2QG+ZmJN1wShAaXbGpuhzF0B1vGqAAg8KQF4wIs3O2MQ/XjAizc7YxD8AAAAAAAAAAAAAAAAAAAAAXjAizc7YxD8=\",\"dtype\":\"float64\",\"shape\":[10]},\"right\":{\"__ndarray__\":\"ukkMAsuOt0C6SQwCy47HQEw3iUEYq9FAukkMAsuO10AoXI/CfXLdQEw3iUEYq+FAg8DKofGc5EC6SQwCy47nQPHSTWKkgOpAKVyPwn1y7UA=\",\"dtype\":\"float64\",\"shape\":[10]}},\"selected\":{\"id\":\"2202\",\"type\":\"Selection\"},\"selection_policy\":{\"id\":\"2201\",\"type\":\"UnionRenderers\"}},\"id\":\"2124\",\"type\":\"ColumnDataSource\"},{\"attributes\":{\"formatter\":{\"id\":\"2142\",\"type\":\"BasicTickFormatter\"},\"major_label_orientation\":1.0471975511965976,\"major_label_text_font_size\":{\"value\":\"9pt\"},\"minor_tick_line_color\":{\"value\":null},\"ticker\":{\"id\":\"1876\",\"type\":\"FixedTicker\"}},\"id\":\"1857\",\"type\":\"LinearAxis\"},{\"attributes\":{\"bottom\":{\"value\":0.01},\"fill_alpha\":{\"value\":0.1},\"fill_color\":{\"value\":\"#1f77b4\"},\"left\":{\"field\":\"left\"},\"line_alpha\":{\"value\":0.1},\"line_color\":{\"value\":\"#1f77b4\"},\"right\":{\"field\":\"right\"},\"top\":{\"field\":\"freq\"}},\"id\":\"1839\",\"type\":\"Quad\"},{\"attributes\":{},\"id\":\"2143\",\"type\":\"BasicTickFormatter\"},{\"attributes\":{\"source\":{\"id\":\"1932\",\"type\":\"ColumnDataSource\"}},\"id\":\"1937\",\"type\":\"CDSView\"},{\"attributes\":{\"bottom\":{\"value\":0.01},\"fill_alpha\":{\"value\":0.1},\"fill_color\":{\"value\":\"#1f77b4\"},\"left\":{\"field\":\"left\"},\"line_alpha\":{\"value\":0.1},\"line_color\":{\"value\":\"#1f77b4\"},\"right\":{\"field\":\"right\"},\"top\":{\"field\":\"freq\"}},\"id\":\"1935\",\"type\":\"Quad\"},{\"attributes\":{},\"id\":\"1991\",\"type\":\"BasicTicker\"},{\"attributes\":{},\"id\":\"2050\",\"type\":\"BasicTicker\"},{\"attributes\":{},\"id\":\"1858\",\"type\":\"BasicTicker\"},{\"attributes\":{\"ticks\":[0.0,2514.224,5028.448,7542.6720000000005,10056.896,12571.12,15085.344000000001,17599.568,20113.792,22628.016000000003,25142.24]},\"id\":\"2100\",\"type\":\"FixedTicker\"},{\"attributes\":{\"dimension\":1,\"grid_line_color\":null,\"ticker\":{\"id\":\"1991\",\"type\":\"BasicTicker\"}},\"id\":\"1994\",\"type\":\"Grid\"},{\"attributes\":{\"text\":\"nodegree\",\"text_font_size\":{\"value\":\"10pt\"}},\"id\":\"2007\",\"type\":\"Title\"},{\"attributes\":{\"grid_line_color\":null,\"ticker\":{\"id\":\"2050\",\"type\":\"BasicTicker\"}},\"id\":\"2053\",\"type\":\"Grid\"},{\"attributes\":{\"callback\":null},\"id\":\"1819\",\"type\":\"DataRange1d\"},{\"attributes\":{\"grid_line_color\":null,\"ticker\":{\"id\":\"1858\",\"type\":\"BasicTicker\"}},\"id\":\"1861\",\"type\":\"Grid\"},{\"attributes\":{\"text\":\"re78\",\"text_font_size\":{\"value\":\"10pt\"}},\"id\":\"2103\",\"type\":\"Title\"},{\"attributes\":{\"callback\":null,\"mode\":\"vline\",\"tooltips\":[[\"Bin\",\"@intervals\"],[\"Frequency\",\"@freq\"],[\"Percent\",\"@pct{0.2f}%\"]]},\"id\":\"1938\",\"type\":\"HoverTool\"},{\"attributes\":{\"active_drag\":\"auto\",\"active_inspect\":\"auto\",\"active_multi\":null,\"active_scroll\":\"auto\",\"active_tap\":\"auto\",\"tools\":[{\"id\":\"2002\",\"type\":\"HoverTool\"}]},\"id\":\"1995\",\"type\":\"Toolbar\"},{\"attributes\":{\"axis_label\":\"Frequency\",\"formatter\":{\"id\":\"2185\",\"type\":\"BasicTickFormatter\"},\"major_label_text_font_size\":{\"value\":\"0pt\"},\"major_tick_line_color\":{\"value\":null},\"minor_tick_line_color\":{\"value\":null},\"ticker\":{\"id\":\"2055\",\"type\":\"BasicTicker\"}},\"id\":\"2054\",\"type\":\"LinearAxis\"},{\"attributes\":{\"callback\":null},\"id\":\"2105\",\"type\":\"DataRange1d\"},{\"attributes\":{\"axis_label\":\"Frequency\",\"formatter\":{\"id\":\"2143\",\"type\":\"BasicTickFormatter\"},\"major_label_text_font_size\":{\"value\":\"0pt\"},\"major_tick_line_color\":{\"value\":null},\"minor_tick_line_color\":{\"value\":null},\"ticker\":{\"id\":\"1863\",\"type\":\"BasicTicker\"}},\"id\":\"1862\",\"type\":\"LinearAxis\"},{\"attributes\":{\"below\":[{\"id\":\"1953\",\"type\":\"LinearAxis\"}],\"center\":[{\"id\":\"1957\",\"type\":\"Grid\"},{\"id\":\"1962\",\"type\":\"Grid\"}],\"left\":[{\"id\":\"1958\",\"type\":\"LinearAxis\"}],\"plot_height\":300,\"plot_width\":324,\"renderers\":[{\"id\":\"1968\",\"type\":\"GlyphRenderer\"}],\"title\":{\"id\":\"1943\",\"type\":\"Title\"},\"toolbar\":{\"id\":\"1963\",\"type\":\"Toolbar\"},\"toolbar_location\":null,\"x_range\":{\"id\":\"1945\",\"type\":\"DataRange1d\"},\"x_scale\":{\"id\":\"1949\",\"type\":\"LinearScale\"},\"y_range\":{\"id\":\"1947\",\"type\":\"DataRange1d\"},\"y_scale\":{\"id\":\"1951\",\"type\":\"LinearScale\"}},\"id\":\"1942\",\"subtype\":\"Figure\",\"type\":\"Plot\"},{\"attributes\":{\"callback\":null},\"id\":\"2107\",\"type\":\"DataRange1d\"},{\"attributes\":{},\"id\":\"2055\",\"type\":\"BasicTicker\"},{\"attributes\":{\"formatter\":{\"id\":\"2135\",\"type\":\"BasicTickFormatter\"},\"major_label_orientation\":1.0471975511965976,\"major_label_text_font_size\":{\"value\":\"9pt\"},\"minor_tick_line_color\":{\"value\":null},\"ticker\":{\"id\":\"1844\",\"type\":\"FixedTicker\"}},\"id\":\"1825\",\"type\":\"LinearAxis\"},{\"attributes\":{},\"id\":\"2015\",\"type\":\"LinearScale\"},{\"attributes\":{},\"id\":\"1863\",\"type\":\"BasicTicker\"},{\"attributes\":{\"callback\":null,\"data\":{\"freq\":[542,0,0,0,0,0,0,0,0,72],\"index\":[0,1,2,3,4,5,6,7,8,9],\"intervals\":[\"[0.0,0.1)\",\"[0.1,0.2)\",\"[0.2,0.3)\",\"[0.3,0.4)\",\"[0.4,0.5)\",\"[0.5,0.6)\",\"[0.6,0.7)\",\"[0.7,0.8)\",\"[0.8,0.9)\",\"[0.9,1.0]\"],\"left\":{\"__ndarray__\":\"AAAAAAAAAACamZmZmZm5P5qZmZmZmck/NDMzMzMz0z+amZmZmZnZPwAAAAAAAOA/NDMzMzMz4z9nZmZmZmbmP5qZmZmZmek/zczMzMzM7D8=\",\"dtype\":\"float64\",\"shape\":[10]},\"pct\":{\"__ndarray__\":\"MjEn64IRVkAAAAAAAAAAAAAAAAAAAAAAAAAAAAAAAAAAAAAAAAAAAAAAAAAAAAAAAAAAAAAAAAAAAAAAAAAAAAAAAAAAAAAAaXbGpuhzJ0A=\",\"dtype\":\"float64\",\"shape\":[10]},\"right\":{\"__ndarray__\":\"mpmZmZmZuT+amZmZmZnJPzQzMzMzM9M/mpmZmZmZ2T8AAAAAAADgPzQzMzMzM+M/Z2ZmZmZm5j+amZmZmZnpP83MzMzMzOw/AAAAAAAA8D8=\",\"dtype\":\"float64\",\"shape\":[10]}},\"selected\":{\"id\":\"2167\",\"type\":\"Selection\"},\"selection_policy\":{\"id\":\"2166\",\"type\":\"UnionRenderers\"}},\"id\":\"1964\",\"type\":\"ColumnDataSource\"},{\"attributes\":{\"data_source\":{\"id\":\"1996\",\"type\":\"ColumnDataSource\"},\"glyph\":{\"id\":\"1998\",\"type\":\"Quad\"},\"hover_glyph\":null,\"muted_glyph\":null,\"nonselection_glyph\":{\"id\":\"1999\",\"type\":\"Quad\"},\"selection_glyph\":null,\"view\":{\"id\":\"2001\",\"type\":\"CDSView\"}},\"id\":\"2000\",\"type\":\"GlyphRenderer\"},{\"attributes\":{\"dimension\":1,\"grid_line_color\":null,\"ticker\":{\"id\":\"2055\",\"type\":\"BasicTicker\"}},\"id\":\"2058\",\"type\":\"Grid\"},{\"attributes\":{},\"id\":\"2109\",\"type\":\"LinearScale\"},{\"attributes\":{\"dimension\":1,\"grid_line_color\":null,\"ticker\":{\"id\":\"1863\",\"type\":\"BasicTicker\"}},\"id\":\"1866\",\"type\":\"Grid\"},{\"attributes\":{\"ticks\":[0.0,0.1,0.2,0.30000000000000004,0.4,0.5,0.6000000000000001,0.7000000000000001,0.8,0.9,1.0]},\"id\":\"1940\",\"type\":\"FixedTicker\"},{\"attributes\":{\"callback\":null},\"id\":\"1913\",\"type\":\"DataRange1d\"},{\"attributes\":{\"active_drag\":\"auto\",\"active_inspect\":\"auto\",\"active_multi\":null,\"active_scroll\":\"auto\",\"active_tap\":\"auto\",\"tools\":[{\"id\":\"2066\",\"type\":\"HoverTool\"}]},\"id\":\"2059\",\"type\":\"Toolbar\"},{\"attributes\":{},\"id\":\"2111\",\"type\":\"LinearScale\"},{\"attributes\":{\"text\":\"black\",\"text_font_size\":{\"value\":\"10pt\"}},\"id\":\"1911\",\"type\":\"Title\"},{\"attributes\":{\"text\":\"hispan\",\"text_font_size\":{\"value\":\"10pt\"}},\"id\":\"1943\",\"type\":\"Title\"},{\"attributes\":{\"active_drag\":\"auto\",\"active_inspect\":\"auto\",\"active_multi\":null,\"active_scroll\":\"auto\",\"active_tap\":\"auto\",\"tools\":[{\"id\":\"1874\",\"type\":\"HoverTool\"}]},\"id\":\"1867\",\"type\":\"Toolbar\"},{\"attributes\":{\"bottom\":{\"value\":0.01},\"fill_alpha\":{\"value\":0.5},\"fill_color\":{\"value\":\"#6baed6\"},\"left\":{\"field\":\"left\"},\"line_alpha\":{\"value\":0.5},\"line_color\":{\"value\":\"#1f77b4\"},\"right\":{\"field\":\"right\"},\"top\":{\"field\":\"freq\"}},\"id\":\"1998\",\"type\":\"Quad\"},{\"attributes\":{\"formatter\":{\"id\":\"2198\",\"type\":\"BasicTickFormatter\"},\"major_label_orientation\":1.0471975511965976,\"major_label_text_font_size\":{\"value\":\"9pt\"},\"minor_tick_line_color\":{\"value\":null},\"ticker\":{\"id\":\"2132\",\"type\":\"FixedTicker\"}},\"id\":\"2113\",\"type\":\"LinearAxis\"},{\"attributes\":{\"callback\":null},\"id\":\"1945\",\"type\":\"DataRange1d\"},{\"attributes\":{\"ticks\":[0.0,1.8,3.6,5.4,7.2,9.0,10.8,12.6,14.4,16.2,18.0]},\"id\":\"1908\",\"type\":\"FixedTicker\"},{\"attributes\":{\"source\":{\"id\":\"1996\",\"type\":\"ColumnDataSource\"}},\"id\":\"2001\",\"type\":\"CDSView\"},{\"attributes\":{},\"id\":\"1821\",\"type\":\"LinearScale\"},{\"attributes\":{\"data_source\":{\"id\":\"2060\",\"type\":\"ColumnDataSource\"},\"glyph\":{\"id\":\"2062\",\"type\":\"Quad\"},\"hover_glyph\":null,\"muted_glyph\":null,\"nonselection_glyph\":{\"id\":\"2063\",\"type\":\"Quad\"},\"selection_glyph\":null,\"view\":{\"id\":\"2065\",\"type\":\"CDSView\"}},\"id\":\"2064\",\"type\":\"GlyphRenderer\"},{\"attributes\":{\"bottom\":{\"value\":0.01},\"fill_alpha\":{\"value\":0.1},\"fill_color\":{\"value\":\"#1f77b4\"},\"left\":{\"field\":\"left\"},\"line_alpha\":{\"value\":0.1},\"line_color\":{\"value\":\"#1f77b4\"},\"right\":{\"field\":\"right\"},\"top\":{\"field\":\"freq\"}},\"id\":\"1999\",\"type\":\"Quad\"},{\"attributes\":{\"data_source\":{\"id\":\"1868\",\"type\":\"ColumnDataSource\"},\"glyph\":{\"id\":\"1870\",\"type\":\"Quad\"},\"hover_glyph\":null,\"muted_glyph\":null,\"nonselection_glyph\":{\"id\":\"1871\",\"type\":\"Quad\"},\"selection_glyph\":null,\"view\":{\"id\":\"1873\",\"type\":\"CDSView\"}},\"id\":\"1872\",\"type\":\"GlyphRenderer\"},{\"attributes\":{\"callback\":null},\"id\":\"1947\",\"type\":\"DataRange1d\"},{\"attributes\":{},\"id\":\"2114\",\"type\":\"BasicTicker\"},{\"attributes\":{\"grid_line_color\":null,\"ticker\":{\"id\":\"2114\",\"type\":\"BasicTicker\"}},\"id\":\"2117\",\"type\":\"Grid\"},{\"attributes\":{\"bottom\":{\"value\":0.01},\"fill_alpha\":{\"value\":0.5},\"fill_color\":{\"value\":\"#6baed6\"},\"left\":{\"field\":\"left\"},\"line_alpha\":{\"value\":0.5},\"line_color\":{\"value\":\"#1f77b4\"},\"right\":{\"field\":\"right\"},\"top\":{\"field\":\"freq\"}},\"id\":\"2062\",\"type\":\"Quad\"},{\"attributes\":{\"axis_label\":\"Frequency\",\"formatter\":{\"id\":\"2136\",\"type\":\"BasicTickFormatter\"},\"major_label_text_font_size\":{\"value\":\"0pt\"},\"major_tick_line_color\":{\"value\":null},\"minor_tick_line_color\":{\"value\":null},\"ticker\":{\"id\":\"1831\",\"type\":\"BasicTicker\"}},\"id\":\"1830\",\"type\":\"LinearAxis\"},{\"attributes\":{},\"id\":\"1949\",\"type\":\"LinearScale\"},{\"attributes\":{\"bottom\":{\"value\":0.01},\"fill_alpha\":{\"value\":0.5},\"fill_color\":{\"value\":\"#6baed6\"},\"left\":{\"field\":\"left\"},\"line_alpha\":{\"value\":0.5},\"line_color\":{\"value\":\"#1f77b4\"},\"right\":{\"field\":\"right\"},\"top\":{\"field\":\"freq\"}},\"id\":\"1870\",\"type\":\"Quad\"},{\"attributes\":{\"callback\":null,\"mode\":\"vline\",\"tooltips\":[[\"Bin\",\"@intervals\"],[\"Frequency\",\"@freq\"],[\"Percent\",\"@pct{0.2f}%\"]]},\"id\":\"2002\",\"type\":\"HoverTool\"},{\"attributes\":{\"axis_label\":\"Frequency\",\"formatter\":{\"id\":\"2199\",\"type\":\"BasicTickFormatter\"},\"major_label_text_font_size\":{\"value\":\"0pt\"},\"major_tick_line_color\":{\"value\":null},\"minor_tick_line_color\":{\"value\":null},\"ticker\":{\"id\":\"2119\",\"type\":\"BasicTicker\"}},\"id\":\"2118\",\"type\":\"LinearAxis\"},{\"attributes\":{},\"id\":\"1951\",\"type\":\"LinearScale\"},{\"attributes\":{\"bottom\":{\"value\":0.01},\"fill_alpha\":{\"value\":0.5},\"fill_color\":{\"value\":\"#6baed6\"},\"left\":{\"field\":\"left\"},\"line_alpha\":{\"value\":0.5},\"line_color\":{\"value\":\"#1f77b4\"},\"right\":{\"field\":\"right\"},\"top\":{\"field\":\"freq\"}},\"id\":\"1902\",\"type\":\"Quad\"},{\"attributes\":{\"source\":{\"id\":\"2060\",\"type\":\"ColumnDataSource\"}},\"id\":\"2065\",\"type\":\"CDSView\"},{\"attributes\":{\"source\":{\"id\":\"1868\",\"type\":\"ColumnDataSource\"}},\"id\":\"1873\",\"type\":\"CDSView\"},{\"attributes\":{\"bottom\":{\"value\":0.01},\"fill_alpha\":{\"value\":0.1},\"fill_color\":{\"value\":\"#1f77b4\"},\"left\":{\"field\":\"left\"},\"line_alpha\":{\"value\":0.1},\"line_color\":{\"value\":\"#1f77b4\"},\"right\":{\"field\":\"right\"},\"top\":{\"field\":\"freq\"}},\"id\":\"2063\",\"type\":\"Quad\"},{\"attributes\":{},\"id\":\"2119\",\"type\":\"BasicTicker\"},{\"attributes\":{\"formatter\":{\"id\":\"2163\",\"type\":\"BasicTickFormatter\"},\"major_label_orientation\":1.0471975511965976,\"major_label_text_font_size\":{\"value\":\"9pt\"},\"minor_tick_line_color\":{\"value\":null},\"ticker\":{\"id\":\"1972\",\"type\":\"FixedTicker\"}},\"id\":\"1953\",\"type\":\"LinearAxis\"},{\"attributes\":{\"bottom\":{\"value\":0.01},\"fill_alpha\":{\"value\":0.1},\"fill_color\":{\"value\":\"#1f77b4\"},\"left\":{\"field\":\"left\"},\"line_alpha\":{\"value\":0.1},\"line_color\":{\"value\":\"#1f77b4\"},\"right\":{\"field\":\"right\"},\"top\":{\"field\":\"freq\"}},\"id\":\"1871\",\"type\":\"Quad\"},{\"attributes\":{\"callback\":null},\"id\":\"2011\",\"type\":\"DataRange1d\"},{\"attributes\":{\"dimension\":1,\"grid_line_color\":null,\"ticker\":{\"id\":\"2119\",\"type\":\"BasicTicker\"}},\"id\":\"2122\",\"type\":\"Grid\"},{\"attributes\":{\"bottom\":{\"value\":0.01},\"fill_alpha\":{\"value\":0.5},\"fill_color\":{\"value\":\"#6baed6\"},\"left\":{\"field\":\"left\"},\"line_alpha\":{\"value\":0.5},\"line_color\":{\"value\":\"#1f77b4\"},\"right\":{\"field\":\"right\"},\"top\":{\"field\":\"freq\"}},\"id\":\"2126\",\"type\":\"Quad\"},{\"attributes\":{},\"id\":\"1895\",\"type\":\"BasicTicker\"},{\"attributes\":{\"callback\":null,\"data\":{\"freq\":[371,0,0,0,0,0,0,0,0,243],\"index\":[0,1,2,3,4,5,6,7,8,9],\"intervals\":[\"[0.0,0.1)\",\"[0.1,0.2)\",\"[0.2,0.3)\",\"[0.3,0.4)\",\"[0.4,0.5)\",\"[0.5,0.6)\",\"[0.6,0.7)\",\"[0.7,0.8)\",\"[0.8,0.9)\",\"[0.9,1.0]\"],\"left\":{\"__ndarray__\":\"AAAAAAAAAACamZmZmZm5P5qZmZmZmck/NDMzMzMz0z+amZmZmZnZPwAAAAAAAOA/NDMzMzMz4z9nZmZmZmbmP5qZmZmZmek/zczMzMzM7D8=\",\"dtype\":\"float64\",\"shape\":[10]},\"pct\":{\"__ndarray__\":\"GIxIszM2TkAAAAAAAAAAAAAAAAAAAAAAAAAAAAAAAAAAAAAAAAAAAAAAAAAAAAAAAAAAAAAAAAAAAAAAAAAAAAAAAAAAAAAA6XO3TMzJQ0A=\",\"dtype\":\"float64\",\"shape\":[10]},\"right\":{\"__ndarray__\":\"mpmZmZmZuT+amZmZmZnJPzQzMzMzM9M/mpmZmZmZ2T8AAAAAAADgPzQzMzMzM+M/Z2ZmZmZm5j+amZmZmZnpP83MzMzMzOw/AAAAAAAA8D8=\",\"dtype\":\"float64\",\"shape\":[10]}},\"selected\":{\"id\":\"2160\",\"type\":\"Selection\"},\"selection_policy\":{\"id\":\"2159\",\"type\":\"UnionRenderers\"}},\"id\":\"1932\",\"type\":\"ColumnDataSource\"},{\"attributes\":{},\"id\":\"1954\",\"type\":\"BasicTicker\"},{\"attributes\":{\"ticks\":[0.0,0.1,0.2,0.30000000000000004,0.4,0.5,0.6000000000000001,0.7000000000000001,0.8,0.9,1.0]},\"id\":\"2004\",\"type\":\"FixedTicker\"},{\"attributes\":{\"active_drag\":\"auto\",\"active_inspect\":\"auto\",\"active_multi\":null,\"active_scroll\":\"auto\",\"active_tap\":\"auto\",\"tools\":[{\"id\":\"2130\",\"type\":\"HoverTool\"}]},\"id\":\"2123\",\"type\":\"Toolbar\"},{\"attributes\":{\"callback\":null,\"mode\":\"vline\",\"tooltips\":[[\"Bin\",\"@intervals\"],[\"Frequency\",\"@freq\"],[\"Percent\",\"@pct{0.2f}%\"]]},\"id\":\"1874\",\"type\":\"HoverTool\"},{\"attributes\":{\"callback\":null,\"mode\":\"vline\",\"tooltips\":[[\"Bin\",\"@intervals\"],[\"Frequency\",\"@freq\"],[\"Percent\",\"@pct{0.2f}%\"]]},\"id\":\"2066\",\"type\":\"HoverTool\"},{\"attributes\":{\"grid_line_color\":null,\"ticker\":{\"id\":\"1954\",\"type\":\"BasicTicker\"}},\"id\":\"1957\",\"type\":\"Grid\"},{\"attributes\":{},\"id\":\"2013\",\"type\":\"LinearScale\"},{\"attributes\":{\"below\":[{\"id\":\"2081\",\"type\":\"LinearAxis\"}],\"center\":[{\"id\":\"2085\",\"type\":\"Grid\"},{\"id\":\"2090\",\"type\":\"Grid\"}],\"left\":[{\"id\":\"2086\",\"type\":\"LinearAxis\"}],\"plot_height\":300,\"plot_width\":324,\"renderers\":[{\"id\":\"2096\",\"type\":\"GlyphRenderer\"}],\"title\":{\"id\":\"2071\",\"type\":\"Title\"},\"toolbar\":{\"id\":\"2091\",\"type\":\"Toolbar\"},\"toolbar_location\":null,\"x_range\":{\"id\":\"2073\",\"type\":\"DataRange1d\"},\"x_scale\":{\"id\":\"2077\",\"type\":\"LinearScale\"},\"y_range\":{\"id\":\"2075\",\"type\":\"DataRange1d\"},\"y_scale\":{\"id\":\"2079\",\"type\":\"LinearScale\"}},\"id\":\"2070\",\"subtype\":\"Figure\",\"type\":\"Plot\"},{\"attributes\":{\"below\":[{\"id\":\"1889\",\"type\":\"LinearAxis\"}],\"center\":[{\"id\":\"1893\",\"type\":\"Grid\"},{\"id\":\"1898\",\"type\":\"Grid\"}],\"left\":[{\"id\":\"1894\",\"type\":\"LinearAxis\"}],\"plot_height\":300,\"plot_width\":324,\"renderers\":[{\"id\":\"1904\",\"type\":\"GlyphRenderer\"}],\"title\":{\"id\":\"1879\",\"type\":\"Title\"},\"toolbar\":{\"id\":\"1899\",\"type\":\"Toolbar\"},\"toolbar_location\":null,\"x_range\":{\"id\":\"1881\",\"type\":\"DataRange1d\"},\"x_scale\":{\"id\":\"1885\",\"type\":\"LinearScale\"},\"y_range\":{\"id\":\"1883\",\"type\":\"DataRange1d\"},\"y_scale\":{\"id\":\"1887\",\"type\":\"LinearScale\"}},\"id\":\"1878\",\"subtype\":\"Figure\",\"type\":\"Plot\"},{\"attributes\":{},\"id\":\"1823\",\"type\":\"LinearScale\"},{\"attributes\":{\"axis_label\":\"Frequency\",\"formatter\":{\"id\":\"2164\",\"type\":\"BasicTickFormatter\"},\"major_label_text_font_size\":{\"value\":\"0pt\"},\"major_tick_line_color\":{\"value\":null},\"minor_tick_line_color\":{\"value\":null},\"ticker\":{\"id\":\"1959\",\"type\":\"BasicTicker\"}},\"id\":\"1958\",\"type\":\"LinearAxis\"},{\"attributes\":{\"formatter\":{\"id\":\"2177\",\"type\":\"BasicTickFormatter\"},\"major_label_orientation\":1.0471975511965976,\"major_label_text_font_size\":{\"value\":\"9pt\"},\"minor_tick_line_color\":{\"value\":null},\"ticker\":{\"id\":\"2036\",\"type\":\"FixedTicker\"}},\"id\":\"2017\",\"type\":\"LinearAxis\"},{\"attributes\":{\"callback\":null,\"data\":{\"freq\":[5,7,21,39,62,158,252,48,18,4],\"index\":[0,1,2,3,4,5,6,7,8,9],\"intervals\":[\"[0.0,1.8)\",\"[1.8,3.6)\",\"[3.6,5.4)\",\"[5.4,7.2)\",\"[7.2,9.0)\",\"[9.0,10.8)\",\"[10.8,12.6)\",\"[12.6,14.4)\",\"[14.4,16.2)\",\"[16.2,18.0]\"],\"left\":{\"__ndarray__\":\"AAAAAAAAAADNzMzMzMz8P83MzMzMzAxAmpmZmZmZFUDNzMzMzMwcQAAAAAAAACJAmpmZmZmZJUAzMzMzMzMpQM3MzMzMzCxAMzMzMzMzMEA=\",\"dtype\":\"float64\",\"shape\":[10]},\"pct\":{\"__ndarray__\":\"dbxqgAIP6j9S6n3ztD3yP3vfPG2PXAtA8qoBCjxoGUDbHrlWCDIkQLMzNkWfuzlAnKftkWuFRECLSLMzNkUfQGl2xqbocwdAXjAizc7Y5D8=\",\"dtype\":\"float64\",\"shape\":[10]},\"right\":{\"__ndarray__\":\"zczMzMzM/D/NzMzMzMwMQJqZmZmZmRVAzczMzMzMHEAAAAAAAAAiQJqZmZmZmSVAMzMzMzMzKUDNzMzMzMwsQDMzMzMzMzBAAAAAAAAAMkA=\",\"dtype\":\"float64\",\"shape\":[10]}},\"selected\":{\"id\":\"2153\",\"type\":\"Selection\"},\"selection_policy\":{\"id\":\"2152\",\"type\":\"UnionRenderers\"}},\"id\":\"1900\",\"type\":\"ColumnDataSource\"},{\"attributes\":{\"callback\":null,\"data\":{\"freq\":[421,97,53,19,14,5,1,3,0,1],\"index\":[0,1,2,3,4,5,6,7,8,9],\"intervals\":[\"[0.0,2514.224)\",\"[2514.224,5028.448)\",\"[5028.448,7542.672)\",\"[7542.672,10056.896)\",\"[10056.896,12571.12)\",\"[12571.12,15085.344)\",\"[15085.344,17599.568)\",\"[17599.568,20113.792)\",\"[20113.792,22628.016)\",\"[22628.016,25142.24]\"],\"left\":{\"__ndarray__\":\"AAAAAAAAAACcxCCwcqSjQJzEILBypLNA6iYxCKx2vUCcxCCwcqTDQMP1KFyPjchA6iYxCKx2zUAIrBxa5C/RQJzEILBypNNAMN0kBgEZ1kA=\",\"dtype\":\"float64\",\"shape\":[10]},\"pct\":{\"__ndarray__\":\"xZysC0YkUUBN0edumZgvQA1Q4EGLQyFAb5mYk3XBCEBS6n3ztD0CQHW8aoACD+o/XjAizc7YxD+LSLMzNkXfPwAAAAAAAAAAXjAizc7YxD8=\",\"dtype\":\"float64\",\"shape\":[10]},\"right\":{\"__ndarray__\":\"nMQgsHKko0CcxCCwcqSzQOomMQisdr1AnMQgsHKkw0DD9Shcj43IQOomMQisds1ACKwcWuQv0UCcxCCwcqTTQDDdJAYBGdZAw/UoXI+N2EA=\",\"dtype\":\"float64\",\"shape\":[10]}},\"selected\":{\"id\":\"2195\",\"type\":\"Selection\"},\"selection_policy\":{\"id\":\"2194\",\"type\":\"UnionRenderers\"}},\"id\":\"2092\",\"type\":\"ColumnDataSource\"},{\"attributes\":{\"source\":{\"id\":\"2124\",\"type\":\"ColumnDataSource\"}},\"id\":\"2129\",\"type\":\"CDSView\"},{\"attributes\":{},\"id\":\"1959\",\"type\":\"BasicTicker\"},{\"attributes\":{},\"id\":\"2018\",\"type\":\"BasicTicker\"},{\"attributes\":{\"ticks\":[0.0,3504.007,7008.014,10512.021,14016.028,17520.035,21024.042,24528.049,28032.056,31536.063000000002,35040.07]},\"id\":\"2068\",\"type\":\"FixedTicker\"},{\"attributes\":{\"data_source\":{\"id\":\"2124\",\"type\":\"ColumnDataSource\"},\"glyph\":{\"id\":\"2126\",\"type\":\"Quad\"},\"hover_glyph\":null,\"muted_glyph\":null,\"nonselection_glyph\":{\"id\":\"2127\",\"type\":\"Quad\"},\"selection_glyph\":null,\"view\":{\"id\":\"2129\",\"type\":\"CDSView\"}},\"id\":\"2128\",\"type\":\"GlyphRenderer\"},{\"attributes\":{\"ticks\":[16.0,19.9,23.8,27.7,31.6,35.5,39.4,43.3,47.2,51.1,55.0]},\"id\":\"1876\",\"type\":\"FixedTicker\"},{\"attributes\":{\"dimension\":1,\"grid_line_color\":null,\"ticker\":{\"id\":\"1959\",\"type\":\"BasicTicker\"}},\"id\":\"1962\",\"type\":\"Grid\"},{\"attributes\":{\"grid_line_color\":null,\"ticker\":{\"id\":\"2018\",\"type\":\"BasicTicker\"}},\"id\":\"2021\",\"type\":\"Grid\"},{\"attributes\":{\"text\":\"re75\",\"text_font_size\":{\"value\":\"10pt\"}},\"id\":\"2071\",\"type\":\"Title\"},{\"attributes\":{\"text\":\"educ\",\"text_font_size\":{\"value\":\"10pt\"}},\"id\":\"1879\",\"type\":\"Title\"},{\"attributes\":{\"active_drag\":\"auto\",\"active_inspect\":\"auto\",\"active_multi\":null,\"active_scroll\":\"auto\",\"active_tap\":\"auto\",\"tools\":[{\"id\":\"1970\",\"type\":\"HoverTool\"}]},\"id\":\"1963\",\"type\":\"Toolbar\"},{\"attributes\":{\"axis_label\":\"Frequency\",\"formatter\":{\"id\":\"2178\",\"type\":\"BasicTickFormatter\"},\"major_label_text_font_size\":{\"value\":\"0pt\"},\"major_tick_line_color\":{\"value\":null},\"minor_tick_line_color\":{\"value\":null},\"ticker\":{\"id\":\"2023\",\"type\":\"BasicTicker\"}},\"id\":\"2022\",\"type\":\"LinearAxis\"},{\"attributes\":{\"callback\":null},\"id\":\"2073\",\"type\":\"DataRange1d\"},{\"attributes\":{\"callback\":null},\"id\":\"1881\",\"type\":\"DataRange1d\"},{\"attributes\":{\"callback\":null},\"id\":\"2075\",\"type\":\"DataRange1d\"},{\"attributes\":{},\"id\":\"2135\",\"type\":\"BasicTickFormatter\"},{\"attributes\":{},\"id\":\"2023\",\"type\":\"BasicTicker\"},{\"attributes\":{\"below\":[{\"id\":\"2017\",\"type\":\"LinearAxis\"}],\"center\":[{\"id\":\"2021\",\"type\":\"Grid\"},{\"id\":\"2026\",\"type\":\"Grid\"}],\"left\":[{\"id\":\"2022\",\"type\":\"LinearAxis\"}],\"plot_height\":300,\"plot_width\":324,\"renderers\":[{\"id\":\"2032\",\"type\":\"GlyphRenderer\"}],\"title\":{\"id\":\"2007\",\"type\":\"Title\"},\"toolbar\":{\"id\":\"2027\",\"type\":\"Toolbar\"},\"toolbar_location\":null,\"x_range\":{\"id\":\"2009\",\"type\":\"DataRange1d\"},\"x_scale\":{\"id\":\"2013\",\"type\":\"LinearScale\"},\"y_range\":{\"id\":\"2011\",\"type\":\"DataRange1d\"},\"y_scale\":{\"id\":\"2015\",\"type\":\"LinearScale\"}},\"id\":\"2006\",\"subtype\":\"Figure\",\"type\":\"Plot\"},{\"attributes\":{\"callback\":null},\"id\":\"1883\",\"type\":\"DataRange1d\"},{\"attributes\":{\"data_source\":{\"id\":\"1964\",\"type\":\"ColumnDataSource\"},\"glyph\":{\"id\":\"1966\",\"type\":\"Quad\"},\"hover_glyph\":null,\"muted_glyph\":null,\"nonselection_glyph\":{\"id\":\"1967\",\"type\":\"Quad\"},\"selection_glyph\":null,\"view\":{\"id\":\"1969\",\"type\":\"CDSView\"}},\"id\":\"1968\",\"type\":\"GlyphRenderer\"},{\"attributes\":{\"dimension\":1,\"grid_line_color\":null,\"ticker\":{\"id\":\"2023\",\"type\":\"BasicTicker\"}},\"id\":\"2026\",\"type\":\"Grid\"},{\"attributes\":{},\"id\":\"2077\",\"type\":\"LinearScale\"},{\"attributes\":{\"ticks\":[0.0,6030.793,12061.586,18092.379,24123.172,30153.964999999997,36184.758,42215.551,48246.344,54277.136999999995,60307.93]},\"id\":\"2132\",\"type\":\"FixedTicker\"},{\"attributes\":{},\"id\":\"1885\",\"type\":\"LinearScale\"},{\"attributes\":{\"callback\":null},\"id\":\"2009\",\"type\":\"DataRange1d\"},{\"attributes\":{\"active_drag\":\"auto\",\"active_inspect\":\"auto\",\"active_multi\":null,\"active_scroll\":\"auto\",\"active_tap\":\"auto\",\"tools\":[{\"id\":\"2034\",\"type\":\"HoverTool\"}]},\"id\":\"2027\",\"type\":\"Toolbar\"},{\"attributes\":{},\"id\":\"2079\",\"type\":\"LinearScale\"},{\"attributes\":{\"bottom\":{\"value\":0.01},\"fill_alpha\":{\"value\":0.5},\"fill_color\":{\"value\":\"#6baed6\"},\"left\":{\"field\":\"left\"},\"line_alpha\":{\"value\":0.5},\"line_color\":{\"value\":\"#1f77b4\"},\"right\":{\"field\":\"right\"},\"top\":{\"field\":\"freq\"}},\"id\":\"1966\",\"type\":\"Quad\"},{\"attributes\":{\"bottom\":{\"value\":0.01},\"fill_alpha\":{\"value\":0.1},\"fill_color\":{\"value\":\"#1f77b4\"},\"left\":{\"field\":\"left\"},\"line_alpha\":{\"value\":0.1},\"line_color\":{\"value\":\"#1f77b4\"},\"right\":{\"field\":\"right\"},\"top\":{\"field\":\"freq\"}},\"id\":\"2127\",\"type\":\"Quad\"},{\"attributes\":{},\"id\":\"1887\",\"type\":\"LinearScale\"},{\"attributes\":{},\"id\":\"2136\",\"type\":\"BasicTickFormatter\"},{\"attributes\":{\"formatter\":{\"id\":\"2191\",\"type\":\"BasicTickFormatter\"},\"major_label_orientation\":1.0471975511965976,\"major_label_text_font_size\":{\"value\":\"9pt\"},\"minor_tick_line_color\":{\"value\":null},\"ticker\":{\"id\":\"2100\",\"type\":\"FixedTicker\"}},\"id\":\"2081\",\"type\":\"LinearAxis\"},{\"attributes\":{\"bottom\":{\"value\":0.01},\"fill_alpha\":{\"value\":0.5},\"fill_color\":{\"value\":\"#6baed6\"},\"left\":{\"field\":\"left\"},\"line_alpha\":{\"value\":0.5},\"line_color\":{\"value\":\"#1f77b4\"},\"right\":{\"field\":\"right\"},\"top\":{\"field\":\"freq\"}},\"id\":\"1838\",\"type\":\"Quad\"},{\"attributes\":{\"dimension\":1,\"grid_line_color\":null,\"ticker\":{\"id\":\"1831\",\"type\":\"BasicTicker\"}},\"id\":\"1834\",\"type\":\"Grid\"},{\"attributes\":{\"formatter\":{\"id\":\"2149\",\"type\":\"BasicTickFormatter\"},\"major_label_orientation\":1.0471975511965976,\"major_label_text_font_size\":{\"value\":\"9pt\"},\"minor_tick_line_color\":{\"value\":null},\"ticker\":{\"id\":\"1908\",\"type\":\"FixedTicker\"}},\"id\":\"1889\",\"type\":\"LinearAxis\"},{\"attributes\":{\"source\":{\"id\":\"1964\",\"type\":\"ColumnDataSource\"}},\"id\":\"1969\",\"type\":\"CDSView\"},{\"attributes\":{},\"id\":\"1831\",\"type\":\"BasicTicker\"},{\"attributes\":{\"bottom\":{\"value\":0.01},\"fill_alpha\":{\"value\":0.1},\"fill_color\":{\"value\":\"#1f77b4\"},\"left\":{\"field\":\"left\"},\"line_alpha\":{\"value\":0.1},\"line_color\":{\"value\":\"#1f77b4\"},\"right\":{\"field\":\"right\"},\"top\":{\"field\":\"freq\"}},\"id\":\"1967\",\"type\":\"Quad\"},{\"attributes\":{},\"id\":\"2082\",\"type\":\"BasicTicker\"},{\"attributes\":{},\"id\":\"2138\",\"type\":\"UnionRenderers\"},{\"attributes\":{\"active_drag\":\"auto\",\"active_inspect\":\"auto\",\"active_multi\":null,\"active_scroll\":\"auto\",\"active_tap\":\"auto\",\"tools\":[{\"id\":\"1842\",\"type\":\"HoverTool\"}]},\"id\":\"1835\",\"type\":\"Toolbar\"},{\"attributes\":{\"bottom\":{\"value\":0.01},\"fill_alpha\":{\"value\":0.1},\"fill_color\":{\"value\":\"#1f77b4\"},\"left\":{\"field\":\"left\"},\"line_alpha\":{\"value\":0.1},\"line_color\":{\"value\":\"#1f77b4\"},\"right\":{\"field\":\"right\"},\"top\":{\"field\":\"freq\"}},\"id\":\"1903\",\"type\":\"Quad\"},{\"attributes\":{},\"id\":\"1890\",\"type\":\"BasicTicker\"},{\"attributes\":{\"grid_line_color\":null,\"ticker\":{\"id\":\"2082\",\"type\":\"BasicTicker\"}},\"id\":\"2085\",\"type\":\"Grid\"},{\"attributes\":{},\"id\":\"2157\",\"type\":\"BasicTickFormatter\"},{\"attributes\":{\"bottom\":{\"value\":0.01},\"fill_alpha\":{\"value\":0.1},\"fill_color\":{\"value\":\"#1f77b4\"},\"left\":{\"field\":\"left\"},\"line_alpha\":{\"value\":0.1},\"line_color\":{\"value\":\"#1f77b4\"},\"right\":{\"field\":\"right\"},\"top\":{\"field\":\"freq\"}},\"id\":\"2031\",\"type\":\"Quad\"},{\"attributes\":{},\"id\":\"2139\",\"type\":\"Selection\"},{\"attributes\":{\"grid_line_color\":null,\"ticker\":{\"id\":\"1890\",\"type\":\"BasicTicker\"}},\"id\":\"1893\",\"type\":\"Grid\"},{\"attributes\":{\"data_source\":{\"id\":\"2028\",\"type\":\"ColumnDataSource\"},\"glyph\":{\"id\":\"2030\",\"type\":\"Quad\"},\"hover_glyph\":null,\"muted_glyph\":null,\"nonselection_glyph\":{\"id\":\"2031\",\"type\":\"Quad\"},\"selection_glyph\":null,\"view\":{\"id\":\"2033\",\"type\":\"CDSView\"}},\"id\":\"2032\",\"type\":\"GlyphRenderer\"},{\"attributes\":{},\"id\":\"2142\",\"type\":\"BasicTickFormatter\"},{\"attributes\":{\"axis_label\":\"Frequency\",\"formatter\":{\"id\":\"2192\",\"type\":\"BasicTickFormatter\"},\"major_label_text_font_size\":{\"value\":\"0pt\"},\"major_tick_line_color\":{\"value\":null},\"minor_tick_line_color\":{\"value\":null},\"ticker\":{\"id\":\"2087\",\"type\":\"BasicTicker\"}},\"id\":\"2086\",\"type\":\"LinearAxis\"},{\"attributes\":{\"callback\":null,\"mode\":\"vline\",\"tooltips\":[[\"Bin\",\"@intervals\"],[\"Frequency\",\"@freq\"],[\"Percent\",\"@pct{0.2f}%\"]]},\"id\":\"1970\",\"type\":\"HoverTool\"},{\"attributes\":{\"axis_label\":\"Frequency\",\"formatter\":{\"id\":\"2150\",\"type\":\"BasicTickFormatter\"},\"major_label_text_font_size\":{\"value\":\"0pt\"},\"major_tick_line_color\":{\"value\":null},\"minor_tick_line_color\":{\"value\":null},\"ticker\":{\"id\":\"1895\",\"type\":\"BasicTicker\"}},\"id\":\"1894\",\"type\":\"LinearAxis\"}],\"root_ids\":[\"2204\"]},\"title\":\"Bokeh Application\",\"version\":\"1.4.0\"}};\n",
       "  var render_items = [{\"docid\":\"b217b3bf-a217-4b9b-80e4-248ef54faa78\",\"roots\":{\"2204\":\"20c64847-de5b-45e3-b807-dfd022cf9c47\"}}];\n",
       "  root.Bokeh.embed.embed_items_notebook(docs_json, render_items);\n",
       "\n",
       "  }\n",
       "  if (root.Bokeh !== undefined) {\n",
       "    embed_document(root);\n",
       "  } else {\n",
       "    var attempts = 0;\n",
       "    var timer = setInterval(function(root) {\n",
       "      if (root.Bokeh !== undefined) {\n",
       "        clearInterval(timer);\n",
       "        embed_document(root);\n",
       "      } else {\n",
       "        attempts++;\n",
       "        if (attempts > 100) {\n",
       "          clearInterval(timer);\n",
       "          console.log(\"Bokeh: ERROR: Unable to run BokehJS code because BokehJS library is missing\");\n",
       "        }\n",
       "      }\n",
       "    }, 10, root)\n",
       "  }\n",
       "})(window);"
      ],
      "application/vnd.bokehjs_exec.v0+json": ""
     },
     "metadata": {
      "application/vnd.bokehjs_exec.v0+json": {
       "id": "2204"
      }
     },
     "output_type": "display_data"
    },
    {
     "data": {
      "text/html": [
       "<div style=\"display: table;\"><div style=\"display: table-row;\"><div style=\"display: table-cell;\"><b title=\"bokeh.models.layouts.GridBox\">GridBox</b>(</div><div style=\"display: table-cell;\">id&nbsp;=&nbsp;'2204', <span id=\"2686\" style=\"cursor: pointer;\">&hellip;)</span></div></div><div class=\"2685\" style=\"display: none;\"><div style=\"display: table-cell;\"></div><div style=\"display: table-cell;\">align&nbsp;=&nbsp;'start',</div></div><div class=\"2685\" style=\"display: none;\"><div style=\"display: table-cell;\"></div><div style=\"display: table-cell;\">aspect_ratio&nbsp;=&nbsp;None,</div></div><div class=\"2685\" style=\"display: none;\"><div style=\"display: table-cell;\"></div><div style=\"display: table-cell;\">background&nbsp;=&nbsp;None,</div></div><div class=\"2685\" style=\"display: none;\"><div style=\"display: table-cell;\"></div><div style=\"display: table-cell;\">children&nbsp;=&nbsp;[(Figure(id='1814', ...), 0, 0), (Figure(id='1846', ...), 0, 1), (Figure(id='1878', ...), 0, 2), (Figure(id='1910', ...), 1, 0), (Figure(id='1942', ...), 1, 1), (Figure(id='1974', ...), 1, 2), (Figure(id='2006', ...), 2, 0), (Figure(id='2038', ...), 2, 1), (Figure(id='2070', ...), 2, 2), (Figure(id='2102', ...), 3, 0)],</div></div><div class=\"2685\" style=\"display: none;\"><div style=\"display: table-cell;\"></div><div style=\"display: table-cell;\">cols&nbsp;=&nbsp;'auto',</div></div><div class=\"2685\" style=\"display: none;\"><div style=\"display: table-cell;\"></div><div style=\"display: table-cell;\">css_classes&nbsp;=&nbsp;[],</div></div><div class=\"2685\" style=\"display: none;\"><div style=\"display: table-cell;\"></div><div style=\"display: table-cell;\">disabled&nbsp;=&nbsp;False,</div></div><div class=\"2685\" style=\"display: none;\"><div style=\"display: table-cell;\"></div><div style=\"display: table-cell;\">height&nbsp;=&nbsp;None,</div></div><div class=\"2685\" style=\"display: none;\"><div style=\"display: table-cell;\"></div><div style=\"display: table-cell;\">height_policy&nbsp;=&nbsp;'auto',</div></div><div class=\"2685\" style=\"display: none;\"><div style=\"display: table-cell;\"></div><div style=\"display: table-cell;\">js_event_callbacks&nbsp;=&nbsp;{},</div></div><div class=\"2685\" style=\"display: none;\"><div style=\"display: table-cell;\"></div><div style=\"display: table-cell;\">js_property_callbacks&nbsp;=&nbsp;{},</div></div><div class=\"2685\" style=\"display: none;\"><div style=\"display: table-cell;\"></div><div style=\"display: table-cell;\">margin&nbsp;=&nbsp;(0, 0, 0, 0),</div></div><div class=\"2685\" style=\"display: none;\"><div style=\"display: table-cell;\"></div><div style=\"display: table-cell;\">max_height&nbsp;=&nbsp;None,</div></div><div class=\"2685\" style=\"display: none;\"><div style=\"display: table-cell;\"></div><div style=\"display: table-cell;\">max_width&nbsp;=&nbsp;None,</div></div><div class=\"2685\" style=\"display: none;\"><div style=\"display: table-cell;\"></div><div style=\"display: table-cell;\">min_height&nbsp;=&nbsp;None,</div></div><div class=\"2685\" style=\"display: none;\"><div style=\"display: table-cell;\"></div><div style=\"display: table-cell;\">min_width&nbsp;=&nbsp;None,</div></div><div class=\"2685\" style=\"display: none;\"><div style=\"display: table-cell;\"></div><div style=\"display: table-cell;\">name&nbsp;=&nbsp;None,</div></div><div class=\"2685\" style=\"display: none;\"><div style=\"display: table-cell;\"></div><div style=\"display: table-cell;\">rows&nbsp;=&nbsp;'auto',</div></div><div class=\"2685\" style=\"display: none;\"><div style=\"display: table-cell;\"></div><div style=\"display: table-cell;\">sizing_mode&nbsp;=&nbsp;None,</div></div><div class=\"2685\" style=\"display: none;\"><div style=\"display: table-cell;\"></div><div style=\"display: table-cell;\">spacing&nbsp;=&nbsp;0,</div></div><div class=\"2685\" style=\"display: none;\"><div style=\"display: table-cell;\"></div><div style=\"display: table-cell;\">subscribed_events&nbsp;=&nbsp;[],</div></div><div class=\"2685\" style=\"display: none;\"><div style=\"display: table-cell;\"></div><div style=\"display: table-cell;\">tags&nbsp;=&nbsp;[],</div></div><div class=\"2685\" style=\"display: none;\"><div style=\"display: table-cell;\"></div><div style=\"display: table-cell;\">visible&nbsp;=&nbsp;True,</div></div><div class=\"2685\" style=\"display: none;\"><div style=\"display: table-cell;\"></div><div style=\"display: table-cell;\">width&nbsp;=&nbsp;None,</div></div><div class=\"2685\" style=\"display: none;\"><div style=\"display: table-cell;\"></div><div style=\"display: table-cell;\">width_policy&nbsp;=&nbsp;'auto')</div></div></div>\n",
       "<script>\n",
       "(function() {\n",
       "  var expanded = false;\n",
       "  var ellipsis = document.getElementById(\"2686\");\n",
       "  ellipsis.addEventListener(\"click\", function() {\n",
       "    var rows = document.getElementsByClassName(\"2685\");\n",
       "    for (var i = 0; i < rows.length; i++) {\n",
       "      var el = rows[i];\n",
       "      el.style.display = expanded ? \"none\" : \"table-row\";\n",
       "    }\n",
       "    ellipsis.innerHTML = expanded ? \"&hellip;)\" : \"&lsaquo;&lsaquo;&lsaquo;\";\n",
       "    expanded = !expanded;\n",
       "  });\n",
       "})();\n",
       "</script>\n"
      ],
      "text/plain": [
       "GridBox(id='2204', ...)"
      ]
     },
     "execution_count": 45,
     "metadata": {},
     "output_type": "execute_result"
    }
   ],
   "source": [
    "plot(lalonde)"
   ]
  },
  {
   "cell_type": "markdown",
   "metadata": {},
   "source": [
    "## Task 1. Causal Graph \n",
    "In this task, you will draw a causal graph on a real-world dataset based on the information given. Please remind yourself of the difference between causality and correlation."
   ]
  },
  {
   "cell_type": "code",
   "execution_count": 16,
   "metadata": {},
   "outputs": [],
   "source": [
    "#import graphviz, the python tool we are going to use for this task\n",
    "from graphviz import Digraph"
   ]
  },
  {
   "cell_type": "markdown",
   "metadata": {},
   "source": [
    "In the Lalonde dataset, `treat` is the treatment attribute, which represents whether an individual was enrolled in the job training program or not. `re78` is the outcome attribute. `age` and `married` are confounding variables. Please draw the causal graph for these four attributes using Graphviz."
   ]
  },
  {
   "cell_type": "code",
   "execution_count": 17,
   "metadata": {},
   "outputs": [
    {
     "data": {
      "image/svg+xml": [
       "<?xml version=\"1.0\" encoding=\"UTF-8\" standalone=\"no\"?>\n",
       "<!DOCTYPE svg PUBLIC \"-//W3C//DTD SVG 1.1//EN\"\n",
       " \"http://www.w3.org/Graphics/SVG/1.1/DTD/svg11.dtd\">\n",
       "<!-- Generated by graphviz version 2.40.1 (20161225.0304)\n",
       " -->\n",
       "<!-- Title: %3 Pages: 1 -->\n",
       "<svg width=\"300pt\" height=\"44pt\"\n",
       " viewBox=\"0.00 0.00 300.00 44.00\" xmlns=\"http://www.w3.org/2000/svg\" xmlns:xlink=\"http://www.w3.org/1999/xlink\">\n",
       "<g id=\"graph0\" class=\"graph\" transform=\"scale(1 1) rotate(0) translate(4 40)\">\n",
       "<title>%3</title>\n",
       "<polygon fill=\"#ffffff\" stroke=\"transparent\" points=\"-4,4 -4,-40 296,-40 296,4 -4,4\"/>\n",
       "<!-- a -->\n",
       "<g id=\"node1\" class=\"node\">\n",
       "<title>a</title>\n",
       "<ellipse fill=\"none\" stroke=\"#000000\" cx=\"27\" cy=\"-18\" rx=\"27\" ry=\"18\"/>\n",
       "<text text-anchor=\"middle\" x=\"27\" y=\"-14.3\" font-family=\"Times,serif\" font-size=\"14.00\" fill=\"#000000\">treat</text>\n",
       "</g>\n",
       "<!-- b -->\n",
       "<g id=\"node2\" class=\"node\">\n",
       "<title>b</title>\n",
       "<ellipse fill=\"none\" stroke=\"#000000\" cx=\"99\" cy=\"-18\" rx=\"27\" ry=\"18\"/>\n",
       "<text text-anchor=\"middle\" x=\"99\" y=\"-14.3\" font-family=\"Times,serif\" font-size=\"14.00\" fill=\"#000000\">age</text>\n",
       "</g>\n",
       "<!-- c -->\n",
       "<g id=\"node3\" class=\"node\">\n",
       "<title>c</title>\n",
       "<ellipse fill=\"none\" stroke=\"#000000\" cx=\"182\" cy=\"-18\" rx=\"38.1938\" ry=\"18\"/>\n",
       "<text text-anchor=\"middle\" x=\"182\" y=\"-14.3\" font-family=\"Times,serif\" font-size=\"14.00\" fill=\"#000000\">married</text>\n",
       "</g>\n",
       "<!-- d -->\n",
       "<g id=\"node4\" class=\"node\">\n",
       "<title>d</title>\n",
       "<ellipse fill=\"none\" stroke=\"#000000\" cx=\"265\" cy=\"-18\" rx=\"27\" ry=\"18\"/>\n",
       "<text text-anchor=\"middle\" x=\"265\" y=\"-14.3\" font-family=\"Times,serif\" font-size=\"14.00\" fill=\"#000000\">re78</text>\n",
       "</g>\n",
       "</g>\n",
       "</svg>\n"
      ],
      "text/plain": [
       "<graphviz.dot.Digraph at 0x7fede2f33ef0>"
      ]
     },
     "execution_count": 17,
     "metadata": {},
     "output_type": "execute_result"
    }
   ],
   "source": [
    "dot = Digraph(comment='The causal graph for Lalonde')\n",
    "dot.node('a','treat')\n",
    "dot.node('b','age')\n",
    "dot.node('c','married')\n",
    "dot.node('d','re78')\n",
    "\n",
    "dot"
   ]
  },
  {
   "cell_type": "code",
   "execution_count": 18,
   "metadata": {},
   "outputs": [
    {
     "data": {
      "image/svg+xml": [
       "<?xml version=\"1.0\" encoding=\"UTF-8\" standalone=\"no\"?>\n",
       "<!DOCTYPE svg PUBLIC \"-//W3C//DTD SVG 1.1//EN\"\n",
       " \"http://www.w3.org/Graphics/SVG/1.1/DTD/svg11.dtd\">\n",
       "<!-- Generated by graphviz version 2.40.1 (20161225.0304)\n",
       " -->\n",
       "<!-- Title: %3 Pages: 1 -->\n",
       "<svg width=\"169pt\" height=\"188pt\"\n",
       " viewBox=\"0.00 0.00 169.35 188.00\" xmlns=\"http://www.w3.org/2000/svg\" xmlns:xlink=\"http://www.w3.org/1999/xlink\">\n",
       "<g id=\"graph0\" class=\"graph\" transform=\"scale(1 1) rotate(0) translate(4 184)\">\n",
       "<title>%3</title>\n",
       "<polygon fill=\"#ffffff\" stroke=\"transparent\" points=\"-4,4 -4,-184 165.3466,-184 165.3466,4 -4,4\"/>\n",
       "<!-- a -->\n",
       "<g id=\"node1\" class=\"node\">\n",
       "<title>a</title>\n",
       "<ellipse fill=\"none\" stroke=\"#000000\" cx=\"75\" cy=\"-90\" rx=\"27\" ry=\"18\"/>\n",
       "<text text-anchor=\"middle\" x=\"75\" y=\"-86.3\" font-family=\"Times,serif\" font-size=\"14.00\" fill=\"#000000\">treat</text>\n",
       "</g>\n",
       "<!-- d -->\n",
       "<g id=\"node4\" class=\"node\">\n",
       "<title>d</title>\n",
       "<ellipse fill=\"none\" stroke=\"#000000\" cx=\"75\" cy=\"-18\" rx=\"27\" ry=\"18\"/>\n",
       "<text text-anchor=\"middle\" x=\"75\" y=\"-14.3\" font-family=\"Times,serif\" font-size=\"14.00\" fill=\"#000000\">re78</text>\n",
       "</g>\n",
       "<!-- a&#45;&gt;d -->\n",
       "<g id=\"edge5\" class=\"edge\">\n",
       "<title>a&#45;&gt;d</title>\n",
       "<path fill=\"none\" stroke=\"#000000\" d=\"M75,-71.8314C75,-64.131 75,-54.9743 75,-46.4166\"/>\n",
       "<polygon fill=\"#000000\" stroke=\"#000000\" points=\"78.5001,-46.4132 75,-36.4133 71.5001,-46.4133 78.5001,-46.4132\"/>\n",
       "</g>\n",
       "<!-- b -->\n",
       "<g id=\"node2\" class=\"node\">\n",
       "<title>b</title>\n",
       "<ellipse fill=\"none\" stroke=\"#000000\" cx=\"27\" cy=\"-162\" rx=\"27\" ry=\"18\"/>\n",
       "<text text-anchor=\"middle\" x=\"27\" y=\"-158.3\" font-family=\"Times,serif\" font-size=\"14.00\" fill=\"#000000\">age</text>\n",
       "</g>\n",
       "<!-- b&#45;&gt;a -->\n",
       "<g id=\"edge1\" class=\"edge\">\n",
       "<title>b&#45;&gt;a</title>\n",
       "<path fill=\"none\" stroke=\"#000000\" d=\"M38.1328,-145.3008C44.1304,-136.3043 51.6502,-125.0247 58.3314,-115.0029\"/>\n",
       "<polygon fill=\"#000000\" stroke=\"#000000\" points=\"61.2927,-116.8706 63.9276,-106.6087 55.4683,-112.9877 61.2927,-116.8706\"/>\n",
       "</g>\n",
       "<!-- b&#45;&gt;d -->\n",
       "<g id=\"edge2\" class=\"edge\">\n",
       "<title>b&#45;&gt;d</title>\n",
       "<path fill=\"none\" stroke=\"#000000\" d=\"M27.0348,-143.8285C27.6134,-125.2237 30.0531,-95.7495 39,-72 42.9324,-61.5615 49.2072,-51.1207 55.4246,-42.2405\"/>\n",
       "<polygon fill=\"#000000\" stroke=\"#000000\" points=\"58.4259,-44.0672 61.5339,-33.9385 52.7879,-39.9183 58.4259,-44.0672\"/>\n",
       "</g>\n",
       "<!-- c -->\n",
       "<g id=\"node3\" class=\"node\">\n",
       "<title>c</title>\n",
       "<ellipse fill=\"none\" stroke=\"#000000\" cx=\"123\" cy=\"-162\" rx=\"38.1938\" ry=\"18\"/>\n",
       "<text text-anchor=\"middle\" x=\"123\" y=\"-158.3\" font-family=\"Times,serif\" font-size=\"14.00\" fill=\"#000000\">married</text>\n",
       "</g>\n",
       "<!-- c&#45;&gt;a -->\n",
       "<g id=\"edge3\" class=\"edge\">\n",
       "<title>c&#45;&gt;a</title>\n",
       "<path fill=\"none\" stroke=\"#000000\" d=\"M111.3805,-144.5708C105.5176,-135.7763 98.2971,-124.9457 91.8384,-115.2577\"/>\n",
       "<polygon fill=\"#000000\" stroke=\"#000000\" points=\"94.6412,-113.152 86.1819,-106.7729 88.8168,-117.0349 94.6412,-113.152\"/>\n",
       "</g>\n",
       "<!-- c&#45;&gt;d -->\n",
       "<g id=\"edge4\" class=\"edge\">\n",
       "<title>c&#45;&gt;d</title>\n",
       "<path fill=\"none\" stroke=\"#000000\" d=\"M122.9652,-143.8285C122.3866,-125.2237 119.9469,-95.7495 111,-72 107.0676,-61.5615 100.7928,-51.1207 94.5754,-42.2405\"/>\n",
       "<polygon fill=\"#000000\" stroke=\"#000000\" points=\"97.2121,-39.9183 88.4661,-33.9385 91.5741,-44.0672 97.2121,-39.9183\"/>\n",
       "</g>\n",
       "</g>\n",
       "</svg>\n"
      ],
      "text/plain": [
       "<graphviz.dot.Digraph at 0x7fede2f33ef0>"
      ]
     },
     "execution_count": 18,
     "metadata": {},
     "output_type": "execute_result"
    }
   ],
   "source": [
    "#<-- Write Your Code -->\n",
    "\n",
    "#Implement your plot function here and show the graph, the output should be a causal graph\n",
    "dot.edge('b','a')\n",
    "dot.edge('b','d')\n",
    "dot.edge('c','a')\n",
    "dot.edge('c','d')\n",
    "dot.edge('a','d')\n",
    "dot\n"
   ]
  },
  {
   "cell_type": "markdown",
   "metadata": {},
   "source": [
    "## Task 2. ATE Estimation\n",
    "In this task, your job is to implement different AET estimation approaches and draw useful conclusions."
   ]
  },
  {
   "cell_type": "markdown",
   "metadata": {},
   "source": [
    "### 2.1 Perfect Matching\n",
    "For the PSID tuples in the dataset (i.e., those individuals who weren't enrolled in the job training program), please use perfect matching to estimate their salaries if they received treatments?\n"
   ]
  },
  {
   "cell_type": "code",
   "execution_count": 19,
   "metadata": {},
   "outputs": [],
   "source": [
    "#<-- Write Your Code -->\n",
    "\n",
    "# Implement the perfect matching method here and output the count of PSID tuples whose counterfactual can be computed\n",
    "# using perfect matching, as well as the percentage of such tuples among all PSID tuples. If there are multiple \n",
    "# tuples in the treatment group that can be matched with the control group, just select the first one\n",
    "# output: count and percentage\n",
    "\n",
    "# Defining treatment group and control group\n",
    "control_grp = lalonde[lalonde[\"treat\"] == 0]\n",
    "treat_grp = lalonde[lalonde[\"treat\"] == 1]\n",
    "\n",
    "#Remove duplicate tuples from treatment group based on all covariates except treatment and outcome\n",
    "treat_filt = treat_grp.drop_duplicates(subset={'age','educ','black','hispan','married','nodegree','re74','re75'}, keep='first')\n",
    "#Join on all covariates except treatment and outcome variables\n",
    "per_match = pd.merge(control_grp, treat_filt, on=['age','educ','black','hispan','married','nodegree','re74','re75'],how='inner')\n",
    "per_match = per_match[['treat_x','age','educ','black','hispan','married','nodegree','re78_x','re78_y']]\n",
    "\n",
    "#Obtain count and percentage\n",
    "count = len(per_match)\n",
    "percentage = (count/len(control_grp)) * 100"
   ]
  },
  {
   "cell_type": "code",
   "execution_count": 20,
   "metadata": {},
   "outputs": [
    {
     "name": "stdout",
     "output_type": "stream",
     "text": [
      "Count of tuples which can be computed by perfect matching is 12\n",
      "Percentage of such tuples among all PSID tuples is 2.797202797202797\n"
     ]
    }
   ],
   "source": [
    "# Run the following code to print out the result\n",
    "print(\"Count of tuples which can be computed by perfect matching is \" + str(count))\n",
    "print(\"Percentage of such tuples among all PSID tuples is \" + str(percentage))"
   ]
  },
  {
   "cell_type": "code",
   "execution_count": 21,
   "metadata": {},
   "outputs": [],
   "source": [
    "#<-- Write Your Code -->\n",
    "\n",
    "# Compute ATE among those PSID tuples whose counterfactual can be computed using perfect matching\n",
    "# output: value of ATE\n",
    "# Calculate difference of salaries between treatment and control group\n",
    "per_match[\"diff\"] = per_match[\"re78_y\"] - per_match[\"re78_x\"]\n",
    "# Obtain mean to form the ATE value\n",
    "ATE = sum(per_match[\"diff\"])/count\n"
   ]
  },
  {
   "cell_type": "code",
   "execution_count": 22,
   "metadata": {},
   "outputs": [
    {
     "name": "stdout",
     "output_type": "stream",
     "text": [
      "ATE by perfect matching is 1362.3939999999998\n"
     ]
    }
   ],
   "source": [
    "# Run following code to print the result\n",
    "print(\"ATE by perfect matching is \" + str(ATE))"
   ]
  },
  {
   "cell_type": "markdown",
   "metadata": {},
   "source": [
    "### 2.2 Nearest Neighbor Matching\n",
    "For the PSID tuples in the dataset (i.e., those who weren't enrolled in the job training program), please use the nearest neighbor matching to estimate their salaries if they received treatments?\n",
    "\n",
    "Please use all covariates (the attributes besides treatment and outcome) and use Euclidean distance as the distance metric."
   ]
  },
  {
   "cell_type": "markdown",
   "metadata": {},
   "source": [
    "### Important Note:  Two approaches have been followed to accomplish same task. As discussed with Yi and professor, I am putting both approaches below to accomplish nearest neghbour matching"
   ]
  },
  {
   "cell_type": "markdown",
   "metadata": {},
   "source": [
    "#### Below is Approach 1 to find Nearest Neighbour using looping. \n",
    "Kindly note that we will not get a single ATE value on all implementation because for a single PSID we can have multiple records whose outcome values are different with same euclidean distance. Here we are taking the first eligible record and its outcome value"
   ]
  },
  {
   "cell_type": "code",
   "execution_count": 27,
   "metadata": {},
   "outputs": [
    {
     "name": "stdout",
     "output_type": "stream",
     "text": [
      "185\n",
      "Count of tuples which can be computed by nearest neighbor matching is 318\n",
      "Percentage of such tuples among all PSID tuples is 74.12587412587412\n",
      "ATE by nearest neighbor matching is 519.1813407232701\n"
     ]
    }
   ],
   "source": [
    "# Defining treatment group and control group\n",
    "control_grp1 = lalonde[lalonde[\"treat\"] == 0]\n",
    "treat_grp1 = lalonde[lalonde[\"treat\"] == 1]\n",
    "df_dist = pd.DataFrame(columns=['cnt_idx','trt_idx,','distance','diff'])\n",
    "counter = 0\n",
    "#Looping over control group\n",
    "for cnt_idx, cnt_row in control_grp1.iterrows():\n",
    "    flag = 'first'\n",
    "#Looping through treatment group\n",
    "    for trt_idx,trt_row in treat_grp1.iterrows():\n",
    "        #Finding euclidean distance\n",
    "        norm = np.linalg.norm(cnt_row[['age','educ','black','hispan','married','nodegree','re74','re75']].values - trt_row[['age','educ','black','hispan','married','nodegree','re74','re75']].values)\n",
    "        # Taking first record as optimal distance for further check\n",
    "        if flag == 'first':\n",
    "            distance = norm\n",
    "            opt_idx = trt_idx\n",
    "            re78_trt = trt_row['re78']\n",
    "            flag = 'second'\n",
    "        # Updating optimal distance and storing in temp variables\n",
    "        elif norm < distance:\n",
    "            opt_idx = trt_idx\n",
    "            distance = norm\n",
    "            re78_trt = trt_row['re78']\n",
    "    # Post all iterations in treatment grp obtain the outcome variable of that index to be stored with distance < 1000\n",
    "    if distance < 1000:\n",
    "        diff = re78_trt - cnt_row['re78']\n",
    "        df_dist = df_dist.append({'cnt_idx':cnt_idx,'trt_idx':opt_idx,'distance':distance,'diff':diff},ignore_index=True)\n",
    "        #treat_grp1 = treat_grp1.drop(opt_idx)\n",
    "        #print(len(treat_grp1))\n",
    "#Obtain the count of all those records whose distance was greater than 1000 \n",
    "count1 = len(df_dist)\n",
    "#Calculate percentage\n",
    "percentage1 = (count1/len(control_grp1)) * 100\n",
    "#Calculate ATE\n",
    "ATE1 = sum(df_dist[\"diff\"])/count1\n",
    "\n",
    "# Printing results\n",
    "print(\"Count of tuples which can be computed by nearest neighbor matching is \" + str(count1))\n",
    "print(\"Percentage of such tuples among all PSID tuples is \" + str(percentage1))\n",
    "print(\"ATE by nearest neighbor matching is \" + str(ATE1))"
   ]
  },
  {
   "cell_type": "markdown",
   "metadata": {},
   "source": [
    "#### Below is Approach 2 to find Nearest Neighbour using cartesian join"
   ]
  },
  {
   "cell_type": "code",
   "execution_count": 26,
   "metadata": {},
   "outputs": [],
   "source": [
    "#<-- Write Your Code -->\n",
    "\n",
    "# Implement the nearest neighbor matching method here and output the count of PSID tuples whose counterfactual can be\n",
    "# computed using nearest neighbor matching, when the threshold is set to 1000, as well as the percentage of such tuples among all PSID tuples\n",
    "# Output: count and percentage\n",
    "\n",
    "# Please use np.linalg.norm(x1 - x2) to compute the euclidean distance between two vectors\n",
    "\n",
    "# Obtain the index into a separate column\n",
    "lalonde[\"index\"] = lalonde.index\n",
    "\n",
    "# Defining treatment group and control group\n",
    "control_grp = lalonde[lalonde[\"treat\"] == 0]\n",
    "treat_grp = lalonde[lalonde[\"treat\"] == 1]\n",
    "\n",
    "#Cartesian Product\n",
    "treat_grp[\"key\"] = 0\n",
    "control_grp[\"key\"] = 0\n",
    "df_cartesian = pd.merge(control_grp, treat_grp, on=['key'],how='inner')\n",
    "df_cartesian = df_cartesian.drop(columns=['key'])\n",
    "\n",
    "#Found euclidean distance using linear algebra\n",
    "df_cartesian[\"distance\"] = np.linalg.norm(df_cartesian[['age_x','educ_x','black_x','hispan_x','married_x','nodegree_x','re74_x','re75_x']].values - df_cartesian[['age_y','educ_y','black_y','hispan_y','married_y','nodegree_y','re74_y','re75_y']].values,axis=1)\n",
    "\n",
    "# Filtered all records that have distance less than 1000\n",
    "nn_df = df_cartesian[df_cartesian[\"distance\"] <= 1000]\n",
    "\n",
    "# Grouped all records to find the record with minimum distance. There are multiple records for same index \n",
    "# with minimum distance.\n",
    "# Hence we have taken the first one among them as discussed  \n",
    "nn_df = nn_df.sort_values(\"distance\").groupby('index_x').first()\n",
    "\n",
    "# Taking the count of such records whose distance is less than 1000 and minimum\n",
    "count = len(nn_df)\n",
    "# Calculating percentage of those records in PSID tuples\n",
    "percentage = (count/len(control_grp)) * 100"
   ]
  },
  {
   "cell_type": "code",
   "execution_count": 27,
   "metadata": {},
   "outputs": [
    {
     "name": "stdout",
     "output_type": "stream",
     "text": [
      "Count of tuples which can be computed by nearest neighbor matching is 318\n",
      "Percentage of such tuples among all PSID tuples is 74.12587412587412\n"
     ]
    }
   ],
   "source": [
    "#run following code to print the result\n",
    "print(\"Count of tuples which can be computed by nearest neighbor matching is \" + str(count))\n",
    "print(\"Percentage of such tuples among all PSID tuples is \" + str(percentage))"
   ]
  },
  {
   "cell_type": "code",
   "execution_count": 30,
   "metadata": {},
   "outputs": [],
   "source": [
    "#<-- Write Your Code -->\n",
    "\n",
    "# Compute ATE among those PSID tuples whose counterfactual can be computed using nearest neighbor matching\n",
    "# Output: value of ATE\n",
    "nn_df[\"diff\"] = nn_df[\"re78_y\"] - nn_df[\"re78_x\"]\n",
    "# Obtain mean to form the ATE value\n",
    "#ATE = sum(nn_df[\"diff\"])/count\n",
    "ATE = nn_df[\"diff\"].mean()"
   ]
  },
  {
   "cell_type": "code",
   "execution_count": 31,
   "metadata": {},
   "outputs": [
    {
     "name": "stdout",
     "output_type": "stream",
     "text": [
      "ATE by nearest neighbor matching is 156.5600545597485\n"
     ]
    }
   ],
   "source": [
    "# Run following code to print out the result\n",
    "print(\"ATE by nearest neighbor matching is \" + str(ATE))"
   ]
  },
  {
   "cell_type": "markdown",
   "metadata": {},
   "source": [
    "### 2.3 Propensity Score Matching\n",
    "For the PSID tuples in the dataset (i.e., those weren't enrolled in the job training program), please use propensity score matching to estimate their salaries if they received treatments?\n",
    "\n",
    "Please use logistic regression to fit the propensity score."
   ]
  },
  {
   "cell_type": "code",
   "execution_count": 33,
   "metadata": {},
   "outputs": [],
   "source": [
    "#<-- Write Your Code -->\n",
    "\n",
    "# Compute propensity score P(y = 1|X) for each tuple in the dataset. Use logistic regression.\n",
    "# Output: add the new column \"psm\" to lalonde dataframe\n",
    "from sklearn.linear_model import LogisticRegression\n",
    "\n",
    "cols = ['treat', 'age', 'educ', 'black', 'hispan', 'married',\n",
    "         'nodegree', 're74', 're75', 're78']\n",
    "prop = LogisticRegression(solver='liblinear')\n",
    "prop = prop.fit(lalonde[cols[1:-1]], lalonde[\"treat\"])\n",
    "lalonde[\"psm\"] = prop.predict_proba(lalonde[cols[1:-1]])[:,1]"
   ]
  },
  {
   "cell_type": "code",
   "execution_count": 34,
   "metadata": {},
   "outputs": [
    {
     "data": {
      "text/html": [
       "<div>\n",
       "<style scoped>\n",
       "    .dataframe tbody tr th:only-of-type {\n",
       "        vertical-align: middle;\n",
       "    }\n",
       "\n",
       "    .dataframe tbody tr th {\n",
       "        vertical-align: top;\n",
       "    }\n",
       "\n",
       "    .dataframe thead th {\n",
       "        text-align: right;\n",
       "    }\n",
       "</style>\n",
       "<table border=\"1\" class=\"dataframe\">\n",
       "  <thead>\n",
       "    <tr style=\"text-align: right;\">\n",
       "      <th></th>\n",
       "      <th>treat</th>\n",
       "      <th>age</th>\n",
       "      <th>educ</th>\n",
       "      <th>black</th>\n",
       "      <th>hispan</th>\n",
       "      <th>married</th>\n",
       "      <th>nodegree</th>\n",
       "      <th>re74</th>\n",
       "      <th>re75</th>\n",
       "      <th>re78</th>\n",
       "      <th>index</th>\n",
       "      <th>psm</th>\n",
       "    </tr>\n",
       "    <tr>\n",
       "      <th>id</th>\n",
       "      <th></th>\n",
       "      <th></th>\n",
       "      <th></th>\n",
       "      <th></th>\n",
       "      <th></th>\n",
       "      <th></th>\n",
       "      <th></th>\n",
       "      <th></th>\n",
       "      <th></th>\n",
       "      <th></th>\n",
       "      <th></th>\n",
       "      <th></th>\n",
       "    </tr>\n",
       "  </thead>\n",
       "  <tbody>\n",
       "    <tr>\n",
       "      <th>NSW1</th>\n",
       "      <td>1</td>\n",
       "      <td>37</td>\n",
       "      <td>11</td>\n",
       "      <td>1</td>\n",
       "      <td>0</td>\n",
       "      <td>1</td>\n",
       "      <td>1</td>\n",
       "      <td>0.0</td>\n",
       "      <td>0.0</td>\n",
       "      <td>9930.0460</td>\n",
       "      <td>NSW1</td>\n",
       "      <td>0.443350</td>\n",
       "    </tr>\n",
       "    <tr>\n",
       "      <th>NSW2</th>\n",
       "      <td>1</td>\n",
       "      <td>22</td>\n",
       "      <td>9</td>\n",
       "      <td>0</td>\n",
       "      <td>1</td>\n",
       "      <td>0</td>\n",
       "      <td>1</td>\n",
       "      <td>0.0</td>\n",
       "      <td>0.0</td>\n",
       "      <td>3595.8940</td>\n",
       "      <td>NSW2</td>\n",
       "      <td>0.144660</td>\n",
       "    </tr>\n",
       "    <tr>\n",
       "      <th>NSW3</th>\n",
       "      <td>1</td>\n",
       "      <td>30</td>\n",
       "      <td>12</td>\n",
       "      <td>1</td>\n",
       "      <td>0</td>\n",
       "      <td>0</td>\n",
       "      <td>0</td>\n",
       "      <td>0.0</td>\n",
       "      <td>0.0</td>\n",
       "      <td>24909.4500</td>\n",
       "      <td>NSW3</td>\n",
       "      <td>0.722355</td>\n",
       "    </tr>\n",
       "    <tr>\n",
       "      <th>NSW4</th>\n",
       "      <td>1</td>\n",
       "      <td>27</td>\n",
       "      <td>11</td>\n",
       "      <td>1</td>\n",
       "      <td>0</td>\n",
       "      <td>0</td>\n",
       "      <td>1</td>\n",
       "      <td>0.0</td>\n",
       "      <td>0.0</td>\n",
       "      <td>7506.1460</td>\n",
       "      <td>NSW4</td>\n",
       "      <td>0.664151</td>\n",
       "    </tr>\n",
       "    <tr>\n",
       "      <th>NSW5</th>\n",
       "      <td>1</td>\n",
       "      <td>33</td>\n",
       "      <td>8</td>\n",
       "      <td>1</td>\n",
       "      <td>0</td>\n",
       "      <td>0</td>\n",
       "      <td>1</td>\n",
       "      <td>0.0</td>\n",
       "      <td>0.0</td>\n",
       "      <td>289.7899</td>\n",
       "      <td>NSW5</td>\n",
       "      <td>0.698286</td>\n",
       "    </tr>\n",
       "  </tbody>\n",
       "</table>\n",
       "</div>"
      ],
      "text/plain": [
       "      treat  age  educ  black  hispan  married  nodegree  re74  re75  \\\n",
       "id                                                                     \n",
       "NSW1      1   37    11      1       0        1         1   0.0   0.0   \n",
       "NSW2      1   22     9      0       1        0         1   0.0   0.0   \n",
       "NSW3      1   30    12      1       0        0         0   0.0   0.0   \n",
       "NSW4      1   27    11      1       0        0         1   0.0   0.0   \n",
       "NSW5      1   33     8      1       0        0         1   0.0   0.0   \n",
       "\n",
       "            re78 index       psm  \n",
       "id                                \n",
       "NSW1   9930.0460  NSW1  0.443350  \n",
       "NSW2   3595.8940  NSW2  0.144660  \n",
       "NSW3  24909.4500  NSW3  0.722355  \n",
       "NSW4   7506.1460  NSW4  0.664151  \n",
       "NSW5    289.7899  NSW5  0.698286  "
      ]
     },
     "execution_count": 34,
     "metadata": {},
     "output_type": "execute_result"
    }
   ],
   "source": [
    "# Run the following code to see the result\n",
    "lalonde.head()"
   ]
  },
  {
   "cell_type": "markdown",
   "metadata": {},
   "source": [
    "#### Below is Approach 1 to find Propensity score using looping. \n",
    "Kindly note that we will not get a single ATE value on all implementation because for a single PSID we can have multiple records whose outcome values are different with same distance metric. Here we are taking the first eligible record and its outcome value"
   ]
  },
  {
   "cell_type": "code",
   "execution_count": 35,
   "metadata": {},
   "outputs": [
    {
     "name": "stdout",
     "output_type": "stream",
     "text": [
      "ATE by propensity score matching is 520.6363361618803\n",
      "Count of tuples which can be computed by propensity score matching is 383\n",
      "Percentage of such tuples among all PSID tuples is 89.27738927738928\n"
     ]
    }
   ],
   "source": [
    "# Defining treatment group and control group\n",
    "control_grp = lalonde[lalonde[\"treat\"] == 0]\n",
    "treat_grp = lalonde[lalonde[\"treat\"] == 1]\n",
    "# Empty dataframe\n",
    "df_psm = pd.DataFrame(columns=['ctr_idx','tre_idx,','distance','diff'])\n",
    "# Iterate over control group\n",
    "for ctr_idx, ctr_row in control_grp.iterrows():\n",
    "    flag = 'first'\n",
    "    #Looping over treat grp to get minimum values\n",
    "    for tre_idx,tre_row in treat_grp.iterrows():\n",
    "        #Taking difference of metric\n",
    "        psmf = abs(ctr_row[\"psm\"] - tre_row[\"psm\"])\n",
    "        # Store the difference for first time as optimal\n",
    "        if flag == 'first':\n",
    "            dist = psmf\n",
    "            psm_idx = tre_idx\n",
    "            flag = 'second'\n",
    "            re78_tre = tre_row['re78']\n",
    "        #Compare and update metric each time if the new metric is lesser than previous\n",
    "        elif psmf < dist:\n",
    "            psm_idx = tre_idx\n",
    "            dist = psmf\n",
    "            re78_tre = tre_row['re78']\n",
    "    #For all those metric less than 0.01 store it in a dataframe\n",
    "    if dist < 0.01:\n",
    "        diff_psm = re78_tre - ctr_row['re78']\n",
    "        df_psm = df_psm.append({'ctr_idx':ctr_idx,'tre_idx':psm_idx,'distance':dist,'diff':diff_psm},ignore_index=True)\n",
    "#Take count of all such minimal metric values\n",
    "count = len(df_psm)\n",
    "#Calculate percentage\n",
    "percentage = (count/len(control_grp)) * 100\n",
    "#Calculate ATE\n",
    "ATE = sum(df_psm[\"diff\"])/count\n",
    "print(\"ATE by propensity score matching is \" + str(ATE))\n",
    "print(\"Count of tuples which can be computed by propensity score matching is \" + str(count))\n",
    "print(\"Percentage of such tuples among all PSID tuples is \" + str(percentage))"
   ]
  },
  {
   "cell_type": "markdown",
   "metadata": {},
   "source": [
    "#### Below is Approach 2 to find Propensity score using cartesian join. \n",
    "Kindly note that we will not get a single ATE value on all implementation because for a single PSID we can have multiple records whose outcome values are different with same distance metric. Here we are taking the first eligible record and its outcome value"
   ]
  },
  {
   "cell_type": "code",
   "execution_count": 36,
   "metadata": {},
   "outputs": [],
   "source": [
    "#<-- Write Your Code -->\n",
    "\n",
    "# For each tuple in the control group, find the matching tuple in the treatment group, and then compute\n",
    "# the ATE over the population\n",
    "# Please match tuples with the metric |psm1 - psm2| to be minimum, threhold set to 0.01\n",
    "# Output: the value of ATE, the count of tuples that can be matched, as well as the percentage\n",
    "\n",
    "# Defining treatment group and control group\n",
    "control_grp = lalonde[lalonde[\"treat\"] == 0]\n",
    "treat_grp = lalonde[lalonde[\"treat\"] == 1]\n",
    "\n",
    "#Cartesian Product\n",
    "treat_grp[\"key\"] = 0\n",
    "control_grp[\"key\"] = 0\n",
    "df_cartesian = pd.merge(control_grp, treat_grp, on=['key'],how='inner')\n",
    "df_cartesian = df_cartesian.drop(columns=['key'])\n",
    "\n",
    "#Calculate Distance Metric\n",
    "df_cartesian[\"metric\"] =  abs(df_cartesian[\"psm_x\"] - df_cartesian[\"psm_y\"])\n",
    "df_cartesian = df_cartesian[df_cartesian[\"metric\"] <= 0.01]\n",
    "\n",
    "#Select control group columns including outcome of treatment group\n",
    "df_prop = df_cartesian[['index_x','treat_x','age_x','educ_x','black_x','hispan_x','married_x','nodegree_x','re74_x','re75_x',\"re78_x\",'re78_y','metric']]\n",
    "\n",
    "#Sort metric values in ascending order and then select the first record\n",
    "df_prop = df_prop.sort_values(\"metric\").groupby('index_x').first()\n",
    "\n",
    "#Obtain the count of all final records less than 0.01 metric\n",
    "count = len(df_prop)\n",
    "\n",
    "#Percentage of matches among PSID tuples\n",
    "percentage = (count/len(control_grp)) * 100\n",
    "\n",
    "#ATE calculations\n",
    "df_prop[\"diff\"] = df_prop[\"re78_y\"] - df_prop[\"re78_x\"]\n",
    "\n",
    "# Obtain mean to form the ATE value\n",
    "ATE = sum(df_prop[\"diff\"])/count"
   ]
  },
  {
   "cell_type": "code",
   "execution_count": 37,
   "metadata": {},
   "outputs": [
    {
     "name": "stdout",
     "output_type": "stream",
     "text": [
      "ATE by propensity score matching is 401.08376801566556\n",
      "Count of tuples which can be computed by propensity score matching is 383\n",
      "Percentage of such tuples among all PSID tuples is 89.27738927738928\n"
     ]
    }
   ],
   "source": [
    "# Run the following code to print out the result\n",
    "print(\"ATE by propensity score matching is \" + str(ATE))\n",
    "print(\"Count of tuples which can be computed by propensity score matching is \" + str(count))\n",
    "print(\"Percentage of such tuples among all PSID tuples is \" + str(percentage))"
   ]
  },
  {
   "cell_type": "markdown",
   "metadata": {},
   "source": [
    "### 2.4 Linear Regression\n",
    "Train two individual models to fit P(y|t = 1,X) and P(y|t = 0,X), then infer the counterfactual outcome using two models while setting treatment to the opposite value. Infer the ATE over the population."
   ]
  },
  {
   "cell_type": "code",
   "execution_count": 12,
   "metadata": {},
   "outputs": [],
   "source": [
    "#<-- Write Your Code -->\n",
    "\n",
    "# Train two individual linear regression models and infer the counterfactual result for each tuple\n",
    "# Output: the value of ATE, over the population\n",
    "from sklearn.linear_model import LinearRegression\n",
    "\n",
    "#Columns\n",
    "cols = ['treat', 'age', 'educ', 'black', 'hispan', 'married',\n",
    "         'nodegree', 're74', 're75', 're78']\n",
    "# Defining treatment group and control group\n",
    "control_grp = lalonde[lalonde[\"treat\"] == 0]\n",
    "treat_grp = lalonde[lalonde[\"treat\"] == 1]\n",
    "\n",
    "# Model 1\n",
    "reg1 = LinearRegression().fit(treat_grp[cols[1:-1]], treat_grp[\"re78\"])\n",
    "control_grp[\"pse\"] = reg1.predict(control_grp[cols[1:-1]])\n",
    "control_grp.head()\n",
    "\n",
    "#Model 2\n",
    "reg2 = LinearRegression().fit(control_grp[cols[1:-1]], control_grp[\"re78\"])\n",
    "treat_grp[\"pse\"] = reg2.predict(treat_grp[cols[1:-1]])\n",
    "treat_grp.head()\n",
    "\n",
    "#Calculate differences of treatment group\n",
    "control_grp[\"diff\"] = control_grp[\"pse\"] - control_grp[\"re78\"]\n",
    "treat_grp[\"diff\"] = treat_grp[\"re78\"] - treat_grp[\"pse\"]\n",
    "\n",
    "#Store the difference into a list\n",
    "ATE_list = []\n",
    "ATE_list.append(control_grp[\"diff\"].values.tolist())\n",
    "ATE_list.append(treat_grp[\"diff\"].values.tolist())\n",
    "flat_ATE = [item for sublist in ATE_list for item in sublist]\n",
    "\n",
    "# Obtain mean to form the ATE value\n",
    "ATE = sum(flat_ATE)/len(lalonde)"
   ]
  },
  {
   "cell_type": "code",
   "execution_count": 13,
   "metadata": {},
   "outputs": [
    {
     "name": "stdout",
     "output_type": "stream",
     "text": [
      "ATE by linear regression is 1074.9085413953671\n"
     ]
    }
   ],
   "source": [
    "# Run following code to print out the result\n",
    "print(\"ATE by linear regression is \" + str(ATE))"
   ]
  },
  {
   "cell_type": "markdown",
   "metadata": {},
   "source": [
    "Please briefly discuss the advantages and disadvantages of the above four approaches."
   ]
  },
  {
   "cell_type": "markdown",
   "metadata": {},
   "source": [
    "**A.** Please find the details below\n",
    "$Perfect Matching:$\n",
    "Advantage - This method can eliminate model dependence and any bias from incorrect assumptions made during the parametric stage of analysis.\n",
    "Disadvantage - Matches would always return relatively less data. Additionally we might not even get exact matches on larger dimensions.\n",
    "\n",
    "$Nearest Neighbour:$\n",
    "Advantage - Incorporates more number of records into analysis. Since euclidean distance is calculated on all co-variates, which can reduce bias by taking most closest distance.Hence its a non-parametric approach\n",
    "\n",
    "Disadvantage - This methods also suffers from curse of dimensionality.Irrelevant covariates can affect the distance. This method can also become computationaly expensive as number of records grows.This\n",
    "approach also requires a sample size for the control group multiple times bigger than total of treatment group.\n",
    "\n",
    "$Propensity Score Matching:$\n",
    "Advantage - This method addresses the problem of dimensionality by matching on the scalar probability.This method helps on separation of confounding factors adjustment and analysis of the treatment effect steps. \n",
    "\n",
    "Disadvantage:If we consider two subjects with same propensity score, they will not have identical covariate values, but the expectation is that their distribution should be same. This method can cause imblance in confounders ,leading to greater bias of estimates.\n",
    "\n",
    "$Regression Model:$\n",
    "Advantage: Linear regression works great when the relation between covariates and outcome is known to be linear in nature.\n",
    "Disadvantage- When relationship is non linear this model might not work and can cause underfitting or overfitting.This model could also be sensitive to outliers.\n",
    "\n",
    "\n"
   ]
  },
  {
   "cell_type": "markdown",
   "metadata": {},
   "source": [
    "## Task 3. DoWhy\n",
    "In this task, you are required to apply DoWhy and analyze the dataset using two ATE estimation methods."
   ]
  },
  {
   "cell_type": "code",
   "execution_count": 34,
   "metadata": {},
   "outputs": [
    {
     "name": "stderr",
     "output_type": "stream",
     "text": [
      "Causal Graph not provided. DoWhy will construct a graph based on data inputs.\n",
      "If this is observed data (not from a randomized experiment), there might always be missing confounders. Adding a node named \"Unobserved Confounders\" to reflect this.\n",
      "Model to find the causal effect of treatment ['treat'] on outcome ['re78']\n"
     ]
    }
   ],
   "source": [
    "from dowhy import CausalModel\n",
    "lalonde['treat'] = lalonde['treat'].astype('bool')\n",
    "model=CausalModel(\n",
    "        data = lalonde,\n",
    "        treatment='treat',\n",
    "        outcome='re78',\n",
    "        common_causes='nodegree+black+hispan+age+educ+married'.split('+'))"
   ]
  },
  {
   "cell_type": "code",
   "execution_count": 36,
   "metadata": {},
   "outputs": [
    {
     "name": "stderr",
     "output_type": "stream",
     "text": [
      "Common causes of treatment and outcome:['nodegree', 'age', 'hispan', 'educ', 'black', 'married', 'U']\n",
      "If this is observed data (not from a randomized experiment), there might always be missing confounders. Causal effect cannot be identified perfectly.\n"
     ]
    },
    {
     "name": "stdout",
     "output_type": "stream",
     "text": [
      "WARN: Do you want to continue by ignoring any unobserved confounders? (use proceed_when_unidentifiable=True to disable this prompt) [y/n] y\n"
     ]
    },
    {
     "name": "stderr",
     "output_type": "stream",
     "text": [
      "Instrumental variables for treatment and outcome:[]\n",
      "INFO: Using Linear Regression Estimator\n",
      "b: re78~treat+nodegree+age+hispan+educ+black+married\n",
      "INFO: Using Propensity Score Matching Estimator\n",
      "b: re78~treat+nodegree+age+hispan+educ+black+married\n",
      "/home/vipin/.local/lib/python3.6/site-packages/sklearn/utils/validation.py:760: DataConversionWarning: A column-vector y was passed when a 1d array was expected. Please change the shape of y to (n_samples, ), for example using ravel().\n",
      "  y = column_or_1d(y, warn=True)\n",
      "/home/vipin/.local/lib/python3.6/site-packages/dowhy/causal_estimators/propensity_score_matching_estimator.py:62: FutureWarning: `item` has been deprecated and will be removed in a future version\n",
      "  control_outcome = control.iloc[indices[i]][self._outcome_name].item()\n",
      "/home/vipin/.local/lib/python3.6/site-packages/dowhy/causal_estimators/propensity_score_matching_estimator.py:77: FutureWarning: `item` has been deprecated and will be removed in a future version\n",
      "  treated_outcome = treated.iloc[indices[i]][self._outcome_name].item()\n"
     ]
    }
   ],
   "source": [
    "#<-- Write Your Code -->\n",
    "\n",
    "# Use the linear regression and PSM methods provided by DoWhy to estimate ATE \n",
    "# Output: ATE_linear, ATE_psm\n",
    "# identifying model effect\n",
    "identified_estimand = model.identify_effect()\n",
    "#Calculating Linear Regression\n",
    "lin_estimate = model.estimate_effect(identified_estimand,\n",
    "        method_name=\"backdoor.linear_regression\")\n",
    "ATE_linear = lin_estimate.value\n",
    "#Calculating propensity score match\n",
    "prop_estimate = model.estimate_effect(identified_estimand,\n",
    "        method_name=\"backdoor.propensity_score_matching\")\n",
    "ATE_psm = prop_estimate.value"
   ]
  },
  {
   "cell_type": "code",
   "execution_count": 42,
   "metadata": {},
   "outputs": [
    {
     "name": "stdout",
     "output_type": "stream",
     "text": [
      "ATE by linear regression is 1163.9223548829077\n",
      "ATE by psm is 442.68176307817583\n"
     ]
    }
   ],
   "source": [
    "# Run following code to print out the result\n",
    "print(\"ATE by linear regression is \" + str(ATE_linear))\n",
    "print(\"ATE by psm is \" + str(ATE_psm))"
   ]
  },
  {
   "cell_type": "markdown",
   "metadata": {},
   "source": [
    "Briefly explain why the result by DoWhy is not same as the result by your own implementation."
   ]
  },
  {
   "cell_type": "markdown",
   "metadata": {},
   "source": [
    "**A.** Dowhy works by calculating the estimands which are the confounder otherwise known as covariates which shall futher be fit to build a model. Dowhy treats identification and treatment spearately. In this case we also find that treat was an added features in dowhy where as it was not used in our implementation. That could be one case resulting in change of value.With regards to propesnity score , we did not explicitly gave the metric threshold and dowhy calculated the threshold by itself which could have result in different count. Hence the ATE value could be different in this case as well. Additionaly dowhy uses graphical model which has an additional component U."
   ]
  },
  {
   "cell_type": "markdown",
   "metadata": {},
   "source": [
    "## Submission"
   ]
  },
  {
   "cell_type": "markdown",
   "metadata": {},
   "source": [
    "Complete the code in this notebook, and submit it to the CourSys activity Assignment 9."
   ]
  }
 ],
 "metadata": {
  "kernelspec": {
   "display_name": "Python 3",
   "language": "python",
   "name": "python3"
  },
  "language_info": {
   "codemirror_mode": {
    "name": "ipython",
    "version": 3
   },
   "file_extension": ".py",
   "mimetype": "text/x-python",
   "name": "python",
   "nbconvert_exporter": "python",
   "pygments_lexer": "ipython3",
   "version": "3.6.9"
  }
 },
 "nbformat": 4,
 "nbformat_minor": 2
}
